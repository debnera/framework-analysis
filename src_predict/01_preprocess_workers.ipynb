{
 "cells": [
  {
   "cell_type": "code",
   "id": "initial_id",
   "metadata": {
    "collapsed": true,
    "ExecuteTime": {
     "end_time": "2024-12-04T11:33:57.419139Z",
     "start_time": "2024-12-04T11:33:56.890340Z"
    }
   },
   "source": [
    "import pandas as pd\n",
    "import pre_processing as prep\n",
    "\n",
    "\n",
    "# Preprocess\n",
    "def preprocess(df: pd.DataFrame):\n",
    "    \"\"\" Renaming columns to more generalized format (e.g., \"worker\" instead of \"worker1\") \"\"\"\n",
    "    df.columns = [prep.rename_workers(col) for col in df.columns]\n",
    "    df.columns = [prep.rename_container_columns(col) for col in df.columns]\n",
    "\n",
    "    \"\"\" Filtering out columns that are useless or difficult to use (e.g., process specific metrics) \"\"\"\n",
    "    filtered_columns = [col for col in df.columns if prep.filter_namespaces(col)]\n",
    "    df = df[filtered_columns]\n",
    "\n",
    "    filtered_columns = [col for col in df.columns if prep.filter_go_specific(col)]\n",
    "    df = df[filtered_columns]\n",
    "\n",
    "    filtered_columns = [col for col in df.columns if prep.filter_process_specific(col)]\n",
    "    df = df[filtered_columns]\n",
    "\n",
    "    filtered_columns = [col for col in df.columns if prep.filter_durations(col)]\n",
    "    df = df[filtered_columns]\n",
    "\n",
    "    \"\"\" Convert monontonically increasing cols to rates (counters to gauges) (e.g., total joules to joules per unit of time) \"\"\"\n",
    "    counters = prep.get_counters(df)\n",
    "    df = prep.convert_to_rates(df, counters)\n",
    "    filtered_columns = [col for col in df.columns if col not in counters]\n",
    "    df = df[filtered_columns]\n",
    "    df = df.copy()  # Get defragmented copy of the df after all the edits (probably does nothing useful)\n",
    "    return df\n",
    "\n",
    "\n",
    "# Save feather"
   ],
   "outputs": [],
   "execution_count": 2
  },
  {
   "metadata": {
    "ExecuteTime": {
     "end_time": "2024-12-04T11:34:08.659481Z",
     "start_time": "2024-12-04T11:34:08.652037Z"
    }
   },
   "cell_type": "code",
   "source": [
    "# Get all model subfolders\n",
    "root_folder = '../data/minimized_run_5'\n",
    "filename = 'worker1.feather'\n",
    "model_folders = prep.find_subfolders_with_file(root_folder, filename)\n",
    "print(model_folders)\n",
    "\n",
    "# For each worker feather\n",
    "save_folder = \"preprocessed/\"\n",
    "for model_folder in model_folders:\n",
    "    for worker in range(5):\n",
    "        print(f\"Preprocessing worker {worker}\")\n",
    "        path = f\"{model_folder}/instances/worker{worker}.feather\"\n",
    "        df = pd.read_feather(path)\n",
    "        df = preprocess(df)\n",
    "        save_path = f\"{save_folder}/{model_folder}/instances/\"\n",
    "        df.to_feather(f\"{save_path}worker{worker}.feather\")\n",
    "        print(f\"Saved worker{worker} to {save_path}worker{worker}.feather\")"
   ],
   "id": "c1f94c7c27e7957e",
   "outputs": [
    {
     "name": "stdout",
     "output_type": "stream",
     "text": [
      "['../data/minimized_run_5/1732144183_yolov8m_640', '../data/minimized_run_5/1732123252_yolo11m_320', '../data/minimized_run_5/1732156444_yolov8n_1280', '../data/minimized_run_5/1732124777_yolov10s_320', '../data/minimized_run_5/1732120270_yolov9m_160', '../data/minimized_run_5/1732129367_yolov8l_320', '../data/minimized_run_5/1732159264_yolov8x_1280', '../data/minimized_run_5/1732129943_yolov8x_320', '../data/minimized_run_5/1732142717_yolov8n_640', '../data/minimized_run_5/1732151684_yolov10m_1280', '../data/minimized_run_5/1732154682_yolov9m_1280', '../data/minimized_run_5/1732149252_yolo11l_1280', '../data/minimized_run_5/1732118879_yolov10m_160', '../data/minimized_run_5/1732121677_yolov8m_160', '../data/minimized_run_5/1732143492_yolov8s_640', '../data/minimized_run_5/1732135028_yolov10s_640', '../data/minimized_run_5/1732127347_yolov9c_320', '../data/minimized_run_5/1732130352_yolo11n_640', '../data/minimized_run_5/1732157808_yolov8m_1280', '../data/minimized_run_5/1732122570_yolo11n_320', '../data/minimized_run_5/1732148801_yolo11m_1280', '../data/minimized_run_5/1732127879_yolov9e_320', '../data/minimized_run_5/1732122929_yolo11s_320', '../data/minimized_run_5/1732119435_yolov10x_160', '../data/minimized_run_5/1732135631_yolov10m_640', '../data/minimized_run_5/1732121421_yolov8s_160', '../data/minimized_run_5/1732118338_yolov10n_160', '../data/minimized_run_5/1732119714_yolov9t_160', '../data/minimized_run_5/1732125487_yolov10l_320', '../data/minimized_run_5/1732140688_yolov9c_640', '../data/minimized_run_5/1732151299_yolov10s_1280', '../data/minimized_run_5/1732152854_yolov10x_1280', '../data/minimized_run_5/1732149983_yolo11x_1280', '../data/minimized_run_5/1732150448_yolov10n_1280', '../data/minimized_run_5/1732120015_yolov9s_160', '../data/minimized_run_5/1732121124_yolov8n_160', '../data/minimized_run_5/1732137865_yolov10x_640', '../data/minimized_run_5/1732147110_yolov8x_640', '../data/minimized_run_5/1732136626_yolov10l_640', '../data/minimized_run_5/1732153336_yolov9t_1280', '../data/minimized_run_5/1732126641_yolov9s_320', '../data/minimized_run_5/1732139824_yolov9m_640', '../data/minimized_run_5/1732155172_yolov9c_1280', '../data/minimized_run_5/1732132482_yolo11l_640', '../data/minimized_run_5/1732118630_yolov10s_160', '../data/minimized_run_5/1732117506_yolo11m_160', '../data/minimized_run_5/1732145411_yolov8l_640', '../data/minimized_run_5/1732155962_yolov9e_1280', '../data/minimized_run_5/1732117764_yolo11l_160', '../data/minimized_run_5/1732120532_yolov9c_160', '../data/minimized_run_5/1732134337_yolov10n_640', '../data/minimized_run_5/1732148403_yolo11s_1280', '../data/minimized_run_5/1732117253_yolo11s_160', '../data/minimized_run_5/1732122273_yolov8x_160', '../data/minimized_run_5/1732133913_yolo11x_640', '../data/minimized_run_5/1732128191_yolov8n_320', '../data/minimized_run_5/1732126975_yolov9m_320', '../data/minimized_run_5/1732123602_yolo11l_320', '../data/minimized_run_5/1732119149_yolov10l_160', '../data/minimized_run_5/1732125945_yolov10x_320', '../data/minimized_run_5/1732125088_yolov10m_320', '../data/minimized_run_5/1732124414_yolov10n_320', '../data/minimized_run_5/1732131684_yolo11m_640', '../data/minimized_run_5/1732121961_yolov8l_160', '../data/minimized_run_5/1732120849_yolov9e_160', '../data/minimized_run_5/1732128574_yolov8s_320', '../data/minimized_run_5/1732152213_yolov10l_1280', '../data/minimized_run_5/1732126259_yolov9t_320', '../data/minimized_run_5/1732157393_yolov8s_1280', '../data/minimized_run_5/1732116960_yolo11n_160', '../data/minimized_run_5/1732124107_yolo11x_320', '../data/minimized_run_5/1732154263_yolov9s_1280', '../data/minimized_run_5/1732131029_yolo11s_640', '../data/minimized_run_5/1732158412_yolov8l_1280', '../data/minimized_run_5/1732128906_yolov8m_320', '../data/minimized_run_5/1732138313_yolov9t_640', '../data/minimized_run_5/1732147570_yolo11n_1280', '../data/minimized_run_5/1732142275_yolov9e_640', '../data/minimized_run_5/1732118062_yolo11x_160', '../data/minimized_run_5/1732139097_yolov9s_640']\n"
     ]
    }
   ],
   "execution_count": 6
  },
  {
   "metadata": {},
   "cell_type": "code",
   "outputs": [],
   "execution_count": null,
   "source": "",
   "id": "2d1276341b1f5930"
  }
 ],
 "metadata": {
  "kernelspec": {
   "display_name": "Python 3",
   "language": "python",
   "name": "python3"
  },
  "language_info": {
   "codemirror_mode": {
    "name": "ipython",
    "version": 2
   },
   "file_extension": ".py",
   "mimetype": "text/x-python",
   "name": "python",
   "nbconvert_exporter": "python",
   "pygments_lexer": "ipython2",
   "version": "2.7.6"
  }
 },
 "nbformat": 4,
 "nbformat_minor": 5
}
