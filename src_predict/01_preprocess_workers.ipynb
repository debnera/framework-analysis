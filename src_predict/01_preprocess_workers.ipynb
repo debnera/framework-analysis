{
 "cells": [
  {
   "cell_type": "code",
   "id": "initial_id",
   "metadata": {
    "collapsed": true
   },
   "source": [
    "import pandas as pd\n",
    "import pre_processing as prep\n",
    "\n",
    "\n",
    "# Preprocess\n",
    "def preprocess(df: pd.DataFrame):\n",
    "    \"\"\" Renaming columns to more generalized format (e.g., \"worker\" instead of \"worker1\") \"\"\"\n",
    "    df.columns = [prep.rename_workers(col) for col in df.columns]\n",
    "    df.columns = [prep.rename_container_columns(col) for col in df.columns]\n",
    "\n",
    "    \"\"\" Filtering out columns that are useless or difficult to use (e.g., process specific metrics) \"\"\"\n",
    "    filtered_columns = [col for col in df.columns if prep.filter_namespaces(col)]\n",
    "    df = df[filtered_columns]\n",
    "\n",
    "    filtered_columns = [col for col in df.columns if prep.filter_go_specific(col)]\n",
    "    df = df[filtered_columns]\n",
    "\n",
    "    filtered_columns = [col for col in df.columns if prep.filter_process_specific(col)]\n",
    "    df = df[filtered_columns]\n",
    "\n",
    "    filtered_columns = [col for col in df.columns if prep.filter_durations(col)]\n",
    "    df = df[filtered_columns]\n",
    "\n",
    "    filtered_columns = [col for col in df.columns if prep.filter_experiment_specific(col)]\n",
    "    df = df[filtered_columns]\n",
    "\n",
    "    \"\"\" Convert monontonically increasing cols to rates (counters to gauges) (e.g., total joules to joules per unit of time) \"\"\"\n",
    "    counters = prep.get_counters(df)\n",
    "    df = prep.convert_to_rates(df, counters)\n",
    "    filtered_columns = [col for col in df.columns if col not in counters]\n",
    "    df = df[filtered_columns]\n",
    "    df = df.copy()  # Get defragmented copy of the df after all the edits (probably does nothing useful)\n",
    "    return df\n",
    "\n",
    "\n",
    "# Save feather"
   ],
   "outputs": [],
   "execution_count": null
  },
  {
   "metadata": {},
   "cell_type": "code",
   "source": [
    "import os\n",
    "\n",
    "# Get all model subfolders\n",
    "root_folder = '../data/minimized_run_3'\n",
    "filename = 'worker1.feather'\n",
    "model_folders = prep.find_subfolders_with_file(root_folder, filename)\n",
    "print(model_folders)\n",
    "\n",
    "# For each worker feather\n",
    "save_folder = \"preprocessed_workers/\"\n",
    "for model_folder in model_folders:\n",
    "    last_folder = os.path.basename(model_folder.strip('/'))\n",
    "    for worker in range(1,6):\n",
    "        print(f\"Preprocessing worker {worker}\")\n",
    "        path = f\"{model_folder}/worker{worker}.feather\"\n",
    "        df = pd.read_feather(path)\n",
    "        df = preprocess(df)\n",
    "        save_path = f\"{save_folder}/{last_folder}/\"\n",
    "        os.makedirs(save_path, exist_ok=True)\n",
    "        df.to_feather(f\"{save_path}worker{worker}.feather\")\n",
    "        print(f\"Saved worker{worker} to {save_path}worker{worker}.feather\")"
   ],
   "id": "c1f94c7c27e7957e",
   "outputs": [],
   "execution_count": null
  },
  {
   "metadata": {},
   "cell_type": "code",
   "source": "",
   "id": "2d1276341b1f5930",
   "outputs": [],
   "execution_count": null
  }
 ],
 "metadata": {
  "kernelspec": {
   "display_name": "Python 3",
   "language": "python",
   "name": "python3"
  },
  "language_info": {
   "codemirror_mode": {
    "name": "ipython",
    "version": 2
   },
   "file_extension": ".py",
   "mimetype": "text/x-python",
   "name": "python",
   "nbconvert_exporter": "python",
   "pygments_lexer": "ipython2",
   "version": "2.7.6"
  }
 },
 "nbformat": 4,
 "nbformat_minor": 5
}
