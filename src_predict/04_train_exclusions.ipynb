{
 "cells": [
  {
   "cell_type": "code",
   "id": "initial_id",
   "metadata": {
    "collapsed": true
   },
   "source": [
    "import pandas as pd\n",
    "import glob\n",
    "from autogluon.tabular import TabularPredictor\n",
    "\n",
    "combined_df = pd.read_feather(\"datasets/predict_yolomodel.feather\")\n",
    "label_column = \"yolomodel\"\n",
    "\n",
    "excluded_features = []\n",
    "importance_dfs = []\n",
    "summaries = []\n",
    "\n",
    "# Number of iterations for training with excluded features\n",
    "iterations = 13\n",
    "\n",
    "for i in range(iterations):\n",
    "    # Remove excluded features from the dataset\n",
    "    current_df = combined_df.drop(columns=excluded_features, errors=\"ignore\")\n",
    "\n",
    "    # Train AutoGluon TabularPredictor with a time limit\n",
    "    time_limit_seconds = 10  # example time limit: 60 seconds\n",
    "    predictor = TabularPredictor(label=label_column).fit(current_df, time_limit=time_limit_seconds, verbosity=1,)\n",
    "\n",
    "    # Get the best model and feature importance\n",
    "    best_model = predictor.fit_summary()\n",
    "    summaries.append(best_model)\n",
    "    importance_df = predictor.feature_importance(current_df)\n",
    "\n",
    "    # Get the most important column and add it to excluded features\n",
    "    most_important_feature = importance_df.index[0]\n",
    "    importance_dfs.append(importance_df.copy())\n",
    "    excluded_features.append(most_important_feature)\n",
    "\n",
    "    print(f\"Iteration {i+1}: Excluded Feature - {most_important_feature}\")\n",
    "    print(\"Currently Excluded Features:\", excluded_features)\n",
    "    print(\"Most Important Columns in this iteration:\", importance_df.index.tolist())"
   ],
   "outputs": [],
   "execution_count": null
  },
  {
   "metadata": {},
   "cell_type": "code",
   "source": [
    "for model in summaries:\n",
    "    print(model[\"leaderboard\"][\"score_val\"][0])"
   ],
   "id": "40697d7b07ac3076",
   "outputs": [],
   "execution_count": null
  },
  {
   "metadata": {},
   "cell_type": "code",
   "source": [
    "for importance_df in importance_dfs:\n",
    "    print(importance_df)"
   ],
   "id": "9af7436151932771",
   "outputs": [],
   "execution_count": null
  },
  {
   "metadata": {},
   "cell_type": "code",
   "source": "current_df[label_column].unique()",
   "id": "2a5f9e6511cdec01",
   "outputs": [],
   "execution_count": null
  },
  {
   "metadata": {},
   "cell_type": "code",
   "source": [
    "import seaborn as sns\n",
    "combined_df['{\"__name__\": \"instance_device:node_disk_io_time_weighted_seconds:rate5m\", \"instance\": \"worker\"}'].plot()"
   ],
   "id": "c036f29768c1455c",
   "outputs": [],
   "execution_count": null
  },
  {
   "metadata": {},
   "cell_type": "code",
   "source": [
    "import seaborn as sns\n",
    "\n",
    "# Filter the dataset for a subset of 'yolomodels'\n",
    "subset_yolomodels = [\"yolo11n\", \"yolo11s\", \"yolo11m\"]  # Example subset\n",
    "filtered_df = combined_df[combined_df['yolomodel'].isin(subset_yolomodels)]\n",
    "\n",
    "# Compute the average for each 'yolomodel'\n",
    "average_df = combined_df.groupby('yolomodel', as_index=False).mean()\n",
    "\n",
    "# Plot the average for each 'yolomodel'\n",
    "sns.barplot(data=average_df, x='yolomodel', y='{\"__name__\": \"instance_device:node_disk_io_time_weighted_seconds:rate5m\", \"instance\": \"worker\"}')"
   ],
   "id": "295e0e8bf57c6c0",
   "outputs": [],
   "execution_count": null
  },
  {
   "metadata": {},
   "cell_type": "code",
   "source": "filtered_df[('{\"__name__\": \"instance_device:node_disk_io_time_weighted_seconds:rate5m\", \"instance\": \"worker\"}')]",
   "id": "4de35f082ae53048",
   "outputs": [],
   "execution_count": null
  },
  {
   "metadata": {},
   "cell_type": "code",
   "source": [
    "from matplotlib import pyplot as plt\n",
    "import seaborn as sns\n",
    "\n",
    "# Filter the dataset for a subset of 'yolomodels'\n",
    "subset_yolomodels = [\"yolo11n\", \"yolo11s\", \"yolo11m\"]  # Example subset\n",
    "filtered_df = combined_df[combined_df['yolomodel'].isin(subset_yolomodels)]\n",
    "\n",
    "# Compute the average for each 'yolomodel'\n",
    "average_df = combined_df.groupby('yolomodel', as_index=False).mean()\n",
    "\n",
    "# Plot the average for each 'yolomodel'\n",
    "for feature in excluded_features:\n",
    "    sns.barplot(data=average_df, x='yolomodel', y=feature)\n",
    "    plt.title(feature)\n",
    "    plt.show()"
   ],
   "id": "56e7cc81644d89d0",
   "outputs": [],
   "execution_count": null
  },
  {
   "metadata": {},
   "cell_type": "code",
   "source": "",
   "id": "e318c5552724410",
   "outputs": [],
   "execution_count": null
  }
 ],
 "metadata": {
  "kernelspec": {
   "display_name": "Python 3",
   "language": "python",
   "name": "python3"
  },
  "language_info": {
   "codemirror_mode": {
    "name": "ipython",
    "version": 2
   },
   "file_extension": ".py",
   "mimetype": "text/x-python",
   "name": "python",
   "nbconvert_exporter": "python",
   "pygments_lexer": "ipython2",
   "version": "2.7.6"
  }
 },
 "nbformat": 4,
 "nbformat_minor": 5
}
