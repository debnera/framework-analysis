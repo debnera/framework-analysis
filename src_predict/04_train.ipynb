{
 "cells": [
  {
   "cell_type": "code",
   "id": "initial_id",
   "metadata": {
    "collapsed": true
   },
   "source": [
    "import pandas as pd\n",
    "import glob\n",
    "from autogluon.tabular import TabularPredictor\n",
    "\n",
    "combined_df = pd.read_feather(\"datasets/predict_yolomodel.feather\")\n",
    "label_column = \"yolomodel\"\n",
    "\n",
    "# Use AutoGluon Tabular to create a predictor for the yolomodel with a time limit\n",
    "time_limit_seconds = 10  # example time limit: 10 minutes\n",
    "predictor = TabularPredictor(label=label_column).fit(combined_df, time_limit=time_limit_seconds)\n",
    "\n",
    "# Select the best model\n",
    "best_model = predictor.fit_summary()"
   ],
   "outputs": [],
   "execution_count": null
  },
  {
   "metadata": {},
   "cell_type": "code",
   "source": [
    "\n",
    "# Print the most important columns used by the best AutoGluon model\n",
    "importance_df = predictor.feature_importance(combined_df)\n",
    "important_columns = importance_df.index.tolist()\n",
    "print(\"Most Important Columns:\", important_columns)"
   ],
   "id": "6f47877fd69c678a",
   "outputs": [],
   "execution_count": null
  },
  {
   "metadata": {},
   "cell_type": "code",
   "source": [
    "import pandas as pd\n",
    "from autogluon.tabular import TabularPredictor\n",
    "\n",
    "# Load the new dataset\n",
    "new_dataset = pd.read_feather(\"datasets/predict_yolomodel.feather\")\n",
    "\n",
    "# Make predictions using the AutoGluon predictor\n",
    "predictions = predictor.predict(new_dataset)\n",
    "\n",
    "# Print the predictions\n",
    "print(\"Predictions on new dataset:\")\n",
    "print(predictions)"
   ],
   "id": "9036824923d5f9e7",
   "outputs": [],
   "execution_count": null
  },
  {
   "metadata": {},
   "cell_type": "code",
   "source": "importance_df",
   "id": "d567d905149daf58",
   "outputs": [],
   "execution_count": null
  },
  {
   "metadata": {},
   "cell_type": "code",
   "source": "",
   "id": "de541b8947f9e3d6",
   "outputs": [],
   "execution_count": null
  }
 ],
 "metadata": {
  "kernelspec": {
   "display_name": "Python 3",
   "language": "python",
   "name": "python3"
  },
  "language_info": {
   "codemirror_mode": {
    "name": "ipython",
    "version": 2
   },
   "file_extension": ".py",
   "mimetype": "text/x-python",
   "name": "python",
   "nbconvert_exporter": "python",
   "pygments_lexer": "ipython2",
   "version": "2.7.6"
  }
 },
 "nbformat": 4,
 "nbformat_minor": 5
}
