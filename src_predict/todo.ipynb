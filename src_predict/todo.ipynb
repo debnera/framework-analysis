{
 "cells": [
  {
   "cell_type": "code",
   "execution_count": null,
   "id": "initial_id",
   "metadata": {
    "collapsed": true
   },
   "outputs": [],
   "source": [
    "# 1. Combine worker dfs\n",
    "# Get matching columns (across workers but also across experiments)\n",
    "# - account for \"instance\":worker1  and \"PID\": xxx\n",
    "# Save combined dfs to separate files per experiment\n",
    "\n",
    "# 2. Compute rates\n",
    "# Load previous dfs\n",
    "# Compute rates on select metrics\n",
    "# Save resulting dfs to separate files per experiment\n",
    "\n",
    "# 3. Select proper features\n",
    "# Add columns for the labels\n",
    "\n",
    "# 4. Run automl\n",
    "\n",
    "# 5. Plot results"
   ]
  }
 ],
 "metadata": {
  "kernelspec": {
   "display_name": "Python 3",
   "language": "python",
   "name": "python3"
  },
  "language_info": {
   "codemirror_mode": {
    "name": "ipython",
    "version": 2
   },
   "file_extension": ".py",
   "mimetype": "text/x-python",
   "name": "python",
   "nbconvert_exporter": "python",
   "pygments_lexer": "ipython2",
   "version": "2.7.6"
  }
 },
 "nbformat": 4,
 "nbformat_minor": 5
}
