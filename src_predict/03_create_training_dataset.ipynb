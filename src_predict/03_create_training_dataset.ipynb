{
 "cells": [
  {
   "cell_type": "code",
   "id": "initial_id",
   "metadata": {
    "collapsed": true
   },
   "source": [
    "import pandas as pd\n",
    "import glob\n",
    "import os\n",
    "from autogluon.tabular import TabularPredictor\n",
    "\n",
    "# Path to the directory containing feather files\n",
    "feather_directory = \"combined_data\"\n",
    "\n",
    "# Initialize an empty list to store individual DataFrames with yolomodel\n",
    "dataframes = []\n",
    "\n",
    "# Read each feather file\n",
    "for file in glob.glob(f\"{feather_directory}/*.feather\"):\n",
    "    # Extract the base filename\n",
    "    filename = os.path.basename(file)\n",
    "\n",
    "    # Extract yolomodel from the filename\n",
    "    yolomodel = filename.split('_')[1]\n",
    "\n",
    "    # Read the dataframe\n",
    "    df = pd.read_feather(file)\n",
    "\n",
    "    # Remove timestamp column, assuming it's named 'timestamp' as a placeholder\n",
    "    df = df.drop(columns=['timestamp']) if 'timestamp' in df.columns else df\n",
    "\n",
    "    # Add the extracted yolomodel as a new column\n",
    "    df['yolomodel'] = yolomodel\n",
    "\n",
    "    # Append to the list of DataFrames\n",
    "    dataframes.append(df)\n",
    "\n",
    "# Determine common columns across all DataFrames\n",
    "common_columns = list(set.intersection(*(set(df.columns) for df in dataframes)))\n",
    "\n",
    "# Standardize each DataFrame to have only columns that are common across all DataFrames\n",
    "dataframes = [df[common_columns] for df in dataframes]\n",
    "\n",
    "# Combine all DataFrames into a single DataFrame\n",
    "combined_df = pd.concat(dataframes, ignore_index=True)\n",
    "combined_df.to_feather(\"datasets/predict_yolomodel.feather\")"
   ],
   "outputs": [],
   "execution_count": null
  },
  {
   "metadata": {},
   "cell_type": "code",
   "source": "",
   "id": "a9fd13de3e6e2b2c",
   "outputs": [],
   "execution_count": null
  }
 ],
 "metadata": {
  "kernelspec": {
   "display_name": "Python 3",
   "language": "python",
   "name": "python3"
  },
  "language_info": {
   "codemirror_mode": {
    "name": "ipython",
    "version": 2
   },
   "file_extension": ".py",
   "mimetype": "text/x-python",
   "name": "python",
   "nbconvert_exporter": "python",
   "pygments_lexer": "ipython2",
   "version": "2.7.6"
  }
 },
 "nbformat": 4,
 "nbformat_minor": 5
}
