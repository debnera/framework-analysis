{
 "cells": [
  {
   "cell_type": "code",
   "id": "initial_id",
   "metadata": {
    "collapsed": true
   },
   "source": [
    "import os\n",
    "\n",
    "folder_path = \"/home/anton/Documents/projects/framework/framework-analysis/data/minimized_run_5/1732116960_yolo11n_160\"\n",
    "file_sizes = {file: os.path.getsize(os.path.join(folder_path, file)) / (1024 * 1024) for file in os.listdir(folder_path)}\n",
    "\n",
    "sorted_files_by_size = dict(sorted(file_sizes.items(), key=lambda item: item[1]))\n",
    "\n",
    "sorted_files_by_size"
   ],
   "outputs": [],
   "execution_count": null
  },
  {
   "metadata": {},
   "cell_type": "code",
   "source": [
    "import pandas as pd\n",
    "import os\n",
    "\n",
    "folder_path = \"/home/anton/Documents/projects/framework/framework-analysis/data/minimized_run_5/1732116960_yolo11n_160\"\n",
    "worker_dataframes = [pd.read_feather(os.path.join(folder_path, file)) for file in os.listdir(folder_path) if file.startswith('worker') and file.endswith('.feather')]\n",
    "worker_dataframes[0]"
   ],
   "id": "20fdb496af64598b",
   "outputs": [],
   "execution_count": null
  },
  {
   "metadata": {},
   "cell_type": "code",
   "source": [
    "import re\n",
    "import pandas as pd\n",
    "import numpy as np\n",
    "\n",
    "# Normalize column headers by extracting \"instance\" and \"pid\" from the JSON formatted string\n",
    "def normalize_column_name(col):\n",
    "    instance_match = re.search(r'\"instance\":\"([^\"]+)\"', col)\n",
    "    pid_match = re.search(r'\"pid\":\"([^\"]+)\"', col)\n",
    "    # Combine extracted components to form a normalized name\n",
    "    normalized_name = col.replace(instance_match.group(1) if instance_match else \"\", \"\").replace(pid_match.group(1) if pid_match else \"\", \"\")\n",
    "    return normalized_name\n",
    "\n",
    "# Normalize column names for comparison\n",
    "normalized_columns = [set(map(normalize_column_name, df.columns)) for df in worker_dataframes]\n",
    "\n",
    "# Find common normalized columns across all worker dataframes\n",
    "common_columns = set(normalized_columns[0])\n",
    "for cols in normalized_columns[1:]:\n",
    "    common_columns.intersection_update(cols)\n",
    "\n",
    "# Reconstruct the original column names for selection\n",
    "actual_common_columns = []\n",
    "for col in worker_dataframes[0].columns:\n",
    "    if normalize_column_name(col) in common_columns:\n",
    "        actual_common_columns.append(col)\n",
    "\n",
    "# Ensure all workers have the same columns\n",
    "all_columns = set().union(*[df.columns for df in worker_dataframes])\n",
    "\n",
    "# Add missing columns with NaN values to all dataframes\n",
    "filled_worker_dataframes = [\n",
    "    df.reindex(columns=all_columns, fill_value=np.nan) for df in worker_dataframes\n",
    "]\n",
    "\n",
    "# Select only the actual common columns\n",
    "filled_worker_dataframes = [\n",
    "    df[actual_common_columns] for df in filled_worker_dataframes\n",
    "]\n",
    "\n",
    "# Output the modified first dataframe as an example\n",
    "filled_worker_dataframes[1]"
   ],
   "id": "6e9918502ee2ec1e",
   "outputs": [],
   "execution_count": null
  },
  {
   "metadata": {},
   "cell_type": "code",
   "source": "",
   "id": "bf8ced785346fbe1",
   "outputs": [],
   "execution_count": null
  }
 ],
 "metadata": {
  "kernelspec": {
   "display_name": "Python 3",
   "language": "python",
   "name": "python3"
  },
  "language_info": {
   "codemirror_mode": {
    "name": "ipython",
    "version": 2
   },
   "file_extension": ".py",
   "mimetype": "text/x-python",
   "name": "python",
   "nbconvert_exporter": "python",
   "pygments_lexer": "ipython2",
   "version": "2.7.6"
  }
 },
 "nbformat": 4,
 "nbformat_minor": 5
}
