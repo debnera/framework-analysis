{
 "cells": [
  {
   "cell_type": "code",
   "id": "initial_id",
   "metadata": {
    "collapsed": true
   },
   "source": [
    "import os\n",
    "import pandas as pd\n",
    "\n",
    "# Get all subdirs in \"preprocessed_workers\"\n",
    "base_dir = \"preprocessed_workers\"\n",
    "combined_dir = \"combined_data\"\n",
    "\n",
    "# Create 'combined_data' directory if it doesn't exist\n",
    "os.makedirs(combined_dir, exist_ok=True)\n",
    "\n",
    "# Iterate over each subdirectory\n",
    "for subfolder in os.listdir(base_dir):\n",
    "    subfolder_path = os.path.join(base_dir, subfolder)\n",
    "\n",
    "    if os.path.isdir(subfolder_path):\n",
    "        # List to store DataFrames\n",
    "        data_frames = []\n",
    "\n",
    "        # Iterate over possible worker{id}.feather files\n",
    "        for worker_id in range(1, 6):\n",
    "            feather_file = f\"worker{worker_id}.feather\"\n",
    "            feather_path = os.path.join(subfolder_path, feather_file)\n",
    "            if os.path.exists(feather_path):\n",
    "                df = pd.read_feather(feather_path)\n",
    "                data_frames.append(df)\n",
    "\n",
    "        if data_frames:\n",
    "            # Find common columns across all DataFrames\n",
    "            common_columns = list(set(data_frames[0].columns))\n",
    "            for df in data_frames[1:]:\n",
    "                common_columns = list(set(common_columns).intersection(df.columns))\n",
    "\n",
    "            # Keep only common columns in each DataFrame\n",
    "            data_frames = [df[common_columns] for df in data_frames]\n",
    "\n",
    "            # Combine all data frames\n",
    "            combined_df = pd.concat(data_frames, ignore_index=True, axis=0)\n",
    "            # Save combined dataframe to \"combined_data\" directory\n",
    "            combined_feather_path = os.path.join(combined_dir, f\"{subfolder}.feather\")\n",
    "            combined_df.to_feather(combined_feather_path)\n",
    "            print(f\"Saved combined DataFrame to: {combined_feather_path}\")"
   ],
   "outputs": [],
   "execution_count": null
  },
  {
   "metadata": {},
   "cell_type": "code",
   "source": "",
   "id": "9cc77533edd6f816",
   "outputs": [],
   "execution_count": null
  }
 ],
 "metadata": {
  "kernelspec": {
   "display_name": "Python 3",
   "language": "python",
   "name": "python3"
  },
  "language_info": {
   "codemirror_mode": {
    "name": "ipython",
    "version": 2
   },
   "file_extension": ".py",
   "mimetype": "text/x-python",
   "name": "python",
   "nbconvert_exporter": "python",
   "pygments_lexer": "ipython2",
   "version": "2.7.6"
  }
 },
 "nbformat": 4,
 "nbformat_minor": 5
}
