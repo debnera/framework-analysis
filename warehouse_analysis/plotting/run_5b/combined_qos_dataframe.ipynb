{
 "cells": [
  {
   "cell_type": "code",
   "execution_count": null,
   "id": "initial_id",
   "metadata": {
    "ExecuteTime": {
     "end_time": "2025-01-02T13:51:39.368231Z",
     "start_time": "2025-01-02T13:51:37.609333Z"
    }
   },
   "outputs": [],
   "source": [
    "# !pip install ujson"
   ]
  },
  {
   "cell_type": "code",
   "execution_count": null,
   "id": "255475677d83cd6c",
   "metadata": {
    "ExecuteTime": {
     "end_time": "2025-01-02T13:51:39.431947Z",
     "start_time": "2025-01-02T13:51:39.424334Z"
    }
   },
   "outputs": [],
   "source": [
    "import common_utils\n",
    "import os\n",
    "import pandas as pd\n",
    "\n",
    "# Example usage\n",
    "root_folder = '../../../data_warehouse/minimized_warehouse_3'\n",
    "filename = 'worker1.feather'\n",
    "subfolders = common_utils.find_subfolders_with_file(root_folder, filename)\n",
    "print(subfolders)\n",
    "prom_data_paths = {os.path.basename(x): x for x in subfolders}\n",
    "worker_qos_paths = {key: os.path.join(val, \"worker_qos.feather\") for key, val in prom_data_paths.items()}\n",
    "master_qos_paths = {key: os.path.join(val, \"master_qos.feather\") for key, val in prom_data_paths.items()}\n"
   ]
  },
  {
   "cell_type": "code",
   "execution_count": null,
   "id": "5a0b325be577d77c",
   "metadata": {
    "ExecuteTime": {
     "end_time": "2025-01-02T13:57:47.612408Z",
     "start_time": "2025-01-02T13:57:47.550302Z"
    }
   },
   "outputs": [],
   "source": [
    "dfs = []\n",
    "for key in worker_qos_paths:\n",
    "    try:\n",
    "        master_df = common_utils.read_feather_cached(master_qos_paths[key])\n",
    "    except Exception as e:\n",
    "        print(f\"Failed to read master for {key}: {e}\")\n",
    "        continue\n",
    "    try:\n",
    "        worker_df = common_utils.read_feather_cached(worker_qos_paths[key])\n",
    "    except Exception as e:\n",
    "        print(f\"Failed to read worker for {key}: {e}\")\n",
    "        continue\n",
    "\n",
    "    # Add prefixes to the column names\n",
    "    master_df = master_df.add_prefix(\"master_\")\n",
    "    worker_df = worker_df.add_prefix(\"worker_\")\n",
    "\n",
    "    # Rename 'master_msg_id' and 'worker_msg_id' to a common name for merging\n",
    "    master_df = master_df.rename(columns={\"master_id\": \"msg_id\"})\n",
    "    worker_df = worker_df.rename(columns={\"worker_id\": \"msg_id\"})\n",
    "\n",
    "    # Merge the dataframes on 'msg_id'\n",
    "    combined_df = pd.merge(master_df, worker_df, on=\"msg_id\", how=\"inner\")\n",
    "\n",
    "    # Add metadata\n",
    "    timestamp, workers, resolution = common_utils.path_to_workers_and_pcl_size(key)\n",
    "    combined_df[\"workers\"] = workers\n",
    "    combined_df[\"resolution\"] = resolution\n",
    "    combined_df[\"name\"] = f\"({workers},{resolution})\"\n",
    "    dfs.append(combined_df)\n",
    "\n",
    "# Print or process the combined dataframe\n",
    "combined_df = pd.concat(dfs)"
   ]
  },
  {
   "cell_type": "code",
   "execution_count": null,
   "id": "abcdc3c63c334938",
   "metadata": {
    "ExecuteTime": {
     "end_time": "2025-01-02T13:58:39.517459Z",
     "start_time": "2025-01-02T13:58:39.503594Z"
    }
   },
   "outputs": [],
   "source": [
    "combined_df.name.unique()"
   ]
  },
  {
   "cell_type": "code",
   "execution_count": null,
   "id": "321adb04c3b5c4c4",
   "metadata": {
    "ExecuteTime": {
     "end_time": "2025-01-02T13:59:58.061143Z",
     "start_time": "2025-01-02T13:59:58.029663Z"
    }
   },
   "outputs": [],
   "source": [
    "combined_df.where(combined_df.name == \"(6,10000)\").worker_source.unique()"
   ]
  },
  {
   "cell_type": "code",
   "execution_count": null,
   "id": "c58a6dc55c293d09",
   "metadata": {},
   "outputs": [],
   "source": []
  }
 ],
 "metadata": {
  "kernelspec": {
   "display_name": "Python 3",
   "language": "python",
   "name": "python3"
  },
  "language_info": {
   "codemirror_mode": {
    "name": "ipython",
    "version": 2
   },
   "file_extension": ".py",
   "mimetype": "text/x-python",
   "name": "python",
   "nbconvert_exporter": "python",
   "pygments_lexer": "ipython2",
   "version": "2.7.6"
  }
 },
 "nbformat": 4,
 "nbformat_minor": 5
}
