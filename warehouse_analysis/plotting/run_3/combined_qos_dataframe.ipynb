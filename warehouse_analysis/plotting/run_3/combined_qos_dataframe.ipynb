{
 "cells": [
  {
   "cell_type": "code",
   "execution_count": null,
   "id": "initial_id",
   "metadata": {
    "collapsed": true
   },
   "outputs": [],
   "source": [
    ""
   ]
  },
  {
   "metadata": {
    "ExecuteTime": {
     "end_time": "2025-01-02T11:13:35.989005Z",
     "start_time": "2025-01-02T11:13:35.983122Z"
    }
   },
   "cell_type": "code",
   "source": [
    "import common_utils\n",
    "import os\n",
    "import pandas as pd\n",
    "\n",
    "# Example usage\n",
    "root_folder = '../../../data_warehouse/minimized_warehouse_3'\n",
    "filename = 'worker1.feather'\n",
    "subfolders = common_utils.find_subfolders_with_file(root_folder, filename)\n",
    "print(subfolders)\n",
    "prom_data_paths = {os.path.basename(x): x for x in subfolders}\n",
    "worker_qos_paths = {key: os.path.join(val, \"worker_qos.feather\") for key, val in prom_data_paths.items()}\n",
    "master_qos_paths = {key: os.path.join(val, \"master_qos.feather\") for key, val in prom_data_paths.items()}\n"
   ],
   "id": "255475677d83cd6c",
   "outputs": [
    {
     "name": "stdout",
     "output_type": "stream",
     "text": [
      "['../../../data_warehouse/minimized_warehouse_3/1735649744_(3.1000)', '../../../data_warehouse/minimized_warehouse_3/1735650171_(3.10000)', '../../../data_warehouse/minimized_warehouse_3/1735652627_(4.10000)', '../../../data_warehouse/minimized_warehouse_3/1735647513_(2.1000)', '../../../data_warehouse/minimized_warehouse_3/1735647009_(1.10000)', '../../../data_warehouse/minimized_warehouse_3/1735652869_(5.1000)', '../../../data_warehouse/minimized_warehouse_3/1735655731_(6.10000)', '../../../data_warehouse/minimized_warehouse_3/1735651459_(4.5000)', '../../../data_warehouse/minimized_warehouse_3/1735653779_(6.1000)', '../../../data_warehouse/minimized_warehouse_3/1735653082_(5.5000)', '../../../data_warehouse/minimized_warehouse_3/1735649957_(3.5000)', '../../../data_warehouse/minimized_warehouse_3/1735645847_(1.5000)', '../../../data_warehouse/minimized_warehouse_3/1735650657_(4.1000)', '../../../data_warehouse/minimized_warehouse_3/1735645043_(1.1000)', '../../../data_warehouse/minimized_warehouse_3/1735649502_(2.10000)', '../../../data_warehouse/minimized_warehouse_3/1735654578_(6.5000)', '../../../data_warehouse/minimized_warehouse_3/1735648326_(2.5000)', '../../../data_warehouse/minimized_warehouse_3/1735653296_(5.10000)']\n"
     ]
    }
   ],
   "execution_count": 2
  },
  {
   "metadata": {
    "ExecuteTime": {
     "end_time": "2025-01-02T11:18:20.742549Z",
     "start_time": "2025-01-02T11:18:20.694910Z"
    }
   },
   "cell_type": "code",
   "source": [
    "for key in worker_qos_paths:\n",
    "    try:\n",
    "        master_df = common_utils.read_feather_cached(master_qos_paths[key])\n",
    "    except Exception as e:\n",
    "        print(f\"Failed to read master for {key}: {e}\")\n",
    "        continue\n",
    "    try:\n",
    "        worker_df = common_utils.read_feather_cached(worker_qos_paths[key])\n",
    "    except Exception as e:\n",
    "        print(f\"Failed to read worker for {key}: {e}\")\n",
    "        continue\n",
    "\n",
    "    # Add prefixes to the column names\n",
    "    master_df = master_df.add_prefix(\"master_\")\n",
    "    worker_df = worker_df.add_prefix(\"worker_\")\n",
    "\n",
    "    # Rename 'master_msg_id' and 'worker_msg_id' to a common name for merging\n",
    "    master_df = master_df.rename(columns={\"master_id\": \"msg_id\"})\n",
    "    worker_df = worker_df.rename(columns={\"worker_id\": \"msg_id\"})\n",
    "\n",
    "    # Merge the dataframes on 'msg_id'\n",
    "    combined_df = pd.merge(master_df, worker_df, on=\"msg_id\", how=\"inner\")\n",
    "\n",
    "# Print or process the combined dataframe\n",
    "print(combined_df)"
   ],
   "id": "5a0b325be577d77c",
   "outputs": [
    {
     "name": "stdout",
     "output_type": "stream",
     "text": [
      "Failed to read master for 1735649744_(3.1000): [Errno 2] No such file or directory: '../../../data_warehouse/minimized_warehouse_3/1735649744_(3.1000)/master_qos.feather'\n",
      "Failed to read master for 1735650171_(3.10000): [Errno 2] No such file or directory: '../../../data_warehouse/minimized_warehouse_3/1735650171_(3.10000)/master_qos.feather'\n",
      "Failed to read master for 1735652869_(5.1000): [Errno 2] No such file or directory: '../../../data_warehouse/minimized_warehouse_3/1735652869_(5.1000)/master_qos.feather'\n",
      "Failed to read master for 1735653082_(5.5000): [Errno 2] No such file or directory: '../../../data_warehouse/minimized_warehouse_3/1735653082_(5.5000)/master_qos.feather'\n",
      "Failed to read master for 1735649957_(3.5000): [Errno 2] No such file or directory: '../../../data_warehouse/minimized_warehouse_3/1735649957_(3.5000)/master_qos.feather'\n",
      "Failed to read master for 1735653296_(5.10000): [Errno 2] No such file or directory: '../../../data_warehouse/minimized_warehouse_3/1735653296_(5.10000)/master_qos.feather'\n",
      "Combined dataframe for 1735653296_(5.10000):\n",
      "       master_timestamp  msg_id  master_errors master_source  master_idle  \\\n",
      "0                     0    9000              0  10.241.19.12    44.970036   \n",
      "1                     0    1000              0  10.241.19.12    82.954645   \n",
      "2                     0    2000              0  10.241.19.12    63.119650   \n",
      "3                     0    3000              0  10.241.19.12    45.173645   \n",
      "4                     0    4000              0  10.241.19.12    43.574095   \n",
      "...                 ...     ...            ...           ...          ...   \n",
      "10001               999    7999              0  10.241.19.12    63.864231   \n",
      "10002               999    8999              0  10.241.19.12    64.987659   \n",
      "10003               999    9999              0  10.241.19.12    44.260740   \n",
      "10004               999    1999              0  10.241.19.12    40.704012   \n",
      "10005               999     999              0  10.241.19.12    42.086840   \n",
      "\n",
      "       master_pre  master_inf  master_post  master_queue  master_start_time  \\\n",
      "0             0.0    5.047083          0.0             9      1735648211871   \n",
      "1             0.0    4.907846          0.0            50      1735647768067   \n",
      "2             0.0    2.839088          0.0             8      1735647823552   \n",
      "3             0.0   28.336048          0.0             8      1735647879111   \n",
      "4             0.0    2.484560          0.0             7      1735647934598   \n",
      "...           ...         ...          ...           ...                ...   \n",
      "10001         0.0    1.655579          0.0             7      1735648156245   \n",
      "10002         0.0    4.990101          0.0             9      1735648211821   \n",
      "10003         0.0    2.936602          0.0             8      1735648267125   \n",
      "10004         0.0    3.233671          0.0             7      1735647823486   \n",
      "10005         0.0    4.658937          0.0             9      1735647768020   \n",
      "\n",
      "       ...  worker_timestamp  worker_errors  worker_source worker_idle  \\\n",
      "0      ...                 6              0   10.241.19.11    6.614208   \n",
      "1      ...                 6              0   10.241.19.11    6.585360   \n",
      "2      ...                 6              0   10.241.19.11    6.759882   \n",
      "3      ...                 6              0   10.241.19.11    6.351233   \n",
      "4      ...                 6              0   10.241.19.11    6.656408   \n",
      "...    ...               ...            ...            ...         ...   \n",
      "10001  ...                 5              0   10.241.19.11    6.347656   \n",
      "10002  ...                 5              0   10.241.19.11    6.397247   \n",
      "10003  ...                 5              0   10.241.19.11    9.496689   \n",
      "10004  ...                 5              0   10.241.19.11    6.406069   \n",
      "10005  ...                 5              0   10.241.19.11    6.705999   \n",
      "\n",
      "       worker_pre  worker_inf  worker_post  worker_queue  worker_start_time  \\\n",
      "0        9.943962   22.648573    10.708809        475382      1735647736453   \n",
      "1       10.169268   19.000530    51.884174         53095      1735647714939   \n",
      "2        9.797335   40.771484     9.261847        105889      1735647717610   \n",
      "3        9.960651   22.391081    10.535479        158791      1735647720284   \n",
      "4       10.038614   19.772530     8.749008        211584      1735647722982   \n",
      "...           ...         ...          ...           ...                ...   \n",
      "10001    9.770632   42.704821     7.790804        422476      1735647733715   \n",
      "10002   10.494709   42.211056    11.036396        475312      1735647736453   \n",
      "10003   10.105848   18.368483     8.874416        527961      1735647739134   \n",
      "10004    9.786606   18.181086     8.839369        105847      1735647717609   \n",
      "10005   10.174513   19.671202    10.863543         53053      1735647714934   \n",
      "\n",
      "       worker_end_time  \n",
      "0        1735648211835  \n",
      "1        1735647768034  \n",
      "2        1735647823499  \n",
      "3        1735647879075  \n",
      "4        1735647934566  \n",
      "...                ...  \n",
      "10001    1735648156191  \n",
      "10002    1735648211765  \n",
      "10003    1735648267095  \n",
      "10004    1735647823456  \n",
      "10005    1735647767987  \n",
      "\n",
      "[10006 rows x 21 columns]\n"
     ]
    }
   ],
   "execution_count": 9
  },
  {
   "metadata": {},
   "cell_type": "code",
   "outputs": [],
   "execution_count": null,
   "source": "",
   "id": "abcdc3c63c334938"
  }
 ],
 "metadata": {
  "kernelspec": {
   "display_name": "Python 3",
   "language": "python",
   "name": "python3"
  },
  "language_info": {
   "codemirror_mode": {
    "name": "ipython",
    "version": 2
   },
   "file_extension": ".py",
   "mimetype": "text/x-python",
   "name": "python",
   "nbconvert_exporter": "python",
   "pygments_lexer": "ipython2",
   "version": "2.7.6"
  }
 },
 "nbformat": 4,
 "nbformat_minor": 5
}
