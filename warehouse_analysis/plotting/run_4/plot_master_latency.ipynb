{
 "cells": [
  {
   "cell_type": "code",
   "execution_count": null,
   "id": "6a5183090ba2659d",
   "metadata": {
    "ExecuteTime": {
     "end_time": "2025-01-03T11:09:45.630144Z",
     "start_time": "2025-01-03T11:09:45.606758Z"
    }
   },
   "outputs": [],
   "source": [
    "import common_utils\n",
    "import os\n",
    "import pandas as pd\n",
    "\n",
    "# Example usage\n",
    "root_folder = '../../../data_warehouse/minimized_warehouse_4'\n",
    "filename = 'worker1.feather'\n",
    "subfolders = common_utils.find_subfolders_with_file(root_folder, filename)\n",
    "print(subfolders)\n",
    "prom_data_paths = {os.path.basename(x): x for x in subfolders}\n",
    "yolo_data_paths = {key: os.path.join(val, \"master_qos.feather\") for key, val in prom_data_paths.items()}\n"
   ]
  },
  {
   "cell_type": "code",
   "execution_count": null,
   "id": "initial_id",
   "metadata": {
    "ExecuteTime": {
     "end_time": "2025-01-03T11:09:45.908759Z",
     "start_time": "2025-01-03T11:09:45.636456Z"
    }
   },
   "outputs": [],
   "source": [
    "from utils.header_cleaner import *\n",
    "import difflib\n",
    "import os\n",
    "\n",
    "\n",
    "\"\"\"\n",
    "Fetch paths to the data\n",
    "\"\"\"\n",
    "\n",
    "\n",
    "\"\"\"\n",
    "Get corresponding yolo stats for each model \n",
    "\"\"\"\n",
    "response_time = {}\n",
    "for key in prom_data_paths.keys():\n",
    "    try:\n",
    "        yolo_df = common_utils.read_feather_cached(yolo_data_paths[key])\n",
    "    except:\n",
    "        print(f\"Failed to read {key}\")\n",
    "        continue\n",
    "    yolo_df['total_inference_time'] = yolo_df['inf'] + yolo_df['post'] + yolo_df['pre']\n",
    "    yolo_df['end_to_end_response_time'] = yolo_df['total_inference_time'] + yolo_df['queue']\n",
    "    yolo_df['start'] = pd.to_datetime(yolo_df['start_time'], unit='ms')  # Convert to datetime (optional)\n",
    "    yolo_df.set_index('start', inplace=True)\n",
    "    resampled_df = yolo_df.resample('5s')\n",
    "    model_info = common_utils.path_to_workers_and_pcl_size(key)\n",
    "    if model_info.resolution not in response_time:\n",
    "        response_time[model_info.resolution] = {}\n",
    "    response_time[model_info.resolution][model_info.num_vehicles] = resampled_df.agg({'end_to_end_response_time': 'mean'}).reset_index()['end_to_end_response_time'].rename(key)\n"
   ]
  },
  {
   "cell_type": "code",
   "execution_count": null,
   "id": "319cd60cc5b7fd60",
   "metadata": {
    "ExecuteTime": {
     "end_time": "2025-01-03T11:09:46.201622Z",
     "start_time": "2025-01-03T11:09:45.925870Z"
    }
   },
   "outputs": [],
   "source": [
    "import plotly.express as px\n",
    "from matplotlib import pyplot as plt\n",
    "\n",
    "# Function to compute simple moving average\n",
    "def moving_average(data, window_size):\n",
    "    return data.rolling(window=window_size).mean()\n",
    "\n",
    "# You can adjust the window size for different levels of smoothing\n",
    "window_size = 3\n",
    "\n",
    "for resolution in sorted(response_time.keys()):\n",
    "    queue_df = pd.DataFrame.from_dict(response_time[resolution])\n",
    "    fig = px.line(queue_df, x=queue_df.index, y=queue_df.columns)\n",
    "    fig.update_layout(title=f'Master end-to-end latency (PCL resolution: {resolution})', xaxis_title='Time', yaxis_title='Reponse Time in MS', yaxis_type='log')\n",
    "    fig.show()"
   ]
  },
  {
   "cell_type": "code",
   "execution_count": null,
   "id": "d7284d71662680b9",
   "metadata": {
    "ExecuteTime": {
     "end_time": "2025-01-03T11:09:46.559918Z",
     "start_time": "2025-01-03T11:09:46.282378Z"
    }
   },
   "outputs": [],
   "source": [
    "import os\n",
    "import pandas as pd\n",
    "from functools import lru_cache\n",
    "from collections import namedtuple\n",
    "import difflib\n",
    "import plotly.express as px\n",
    "\n",
    "response_time = {}\n",
    "for key in prom_data_paths.keys():\n",
    "    try:\n",
    "        yolo_df = common_utils.read_feather_cached(yolo_data_paths[key])\n",
    "    except:\n",
    "        print(f\"Failed to read {key}\")\n",
    "        continue\n",
    "    yolo_df['total_inference_time'] = yolo_df['inf'] + yolo_df['post'] + yolo_df['pre']\n",
    "    yolo_df['end_to_end_response_time'] = yolo_df['total_inference_time'] + yolo_df['queue']\n",
    "    yolo_df['start'] = pd.to_datetime(yolo_df['start_time'], unit='ms')\n",
    "    yolo_df.set_index('start', inplace=True)\n",
    "    resampled_df = yolo_df.resample('5s')\n",
    "    model_info = common_utils.path_to_workers_and_pcl_size(key)\n",
    "    if model_info.resolution not in response_time:\n",
    "        response_time[model_info.resolution] = {}\n",
    "    response_time[model_info.resolution][model_info.num_vehicles] = resampled_df.agg({'end_to_end_response_time': 'min'}).reset_index()['end_to_end_response_time'].rename(key)\n",
    "\n",
    "data = []\n",
    "for resolution, models in response_time.items():\n",
    "    for model, latency in models.items():\n",
    "        if not latency.empty:\n",
    "            min_latency = latency.min()\n",
    "            data.append((str(resolution), model, min_latency))\n",
    "\n",
    "# Sort data before creating the DataFrame\n",
    "# sorted_data = sorted(data, key=lambda x: common_utils._sort_key_size_version(x[1]))\n",
    "\n",
    "df = pd.DataFrame(data, columns=['Resolution', 'Model', 'Min Latency'])\n",
    "fig = px.bar(df, x='Model', y='Min Latency', color='Resolution', barmode=\"group\", title=f'Minimum end-to-end latency', log_y=True)\n",
    "fig.update_layout(yaxis_title='Min Latency (ms)')\n",
    "fig.show()"
   ]
  },
  {
   "cell_type": "code",
   "execution_count": null,
   "id": "80cf6d9d3afee29b",
   "metadata": {
    "ExecuteTime": {
     "end_time": "2025-01-03T11:09:46.606471Z",
     "start_time": "2025-01-03T11:09:46.591222Z"
    }
   },
   "outputs": [],
   "source": []
  }
 ],
 "metadata": {
  "kernelspec": {
   "display_name": "Python 3",
   "language": "python",
   "name": "python3"
  },
  "language_info": {
   "codemirror_mode": {
    "name": "ipython",
    "version": 2
   },
   "file_extension": ".py",
   "mimetype": "text/x-python",
   "name": "python",
   "nbconvert_exporter": "python",
   "pygments_lexer": "ipython2",
   "version": "2.7.6"
  }
 },
 "nbformat": 4,
 "nbformat_minor": 5
}
