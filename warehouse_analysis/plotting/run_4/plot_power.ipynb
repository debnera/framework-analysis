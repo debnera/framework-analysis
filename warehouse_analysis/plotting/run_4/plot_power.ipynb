{
 "cells": [
  {
   "cell_type": "code",
   "execution_count": null,
   "id": "6d8a0389521ed4f1",
   "metadata": {
    "ExecuteTime": {
     "end_time": "2025-01-03T11:22:31.387060Z",
     "start_time": "2025-01-03T11:22:31.311119Z"
    }
   },
   "outputs": [],
   "source": [
    "import common_utils\n",
    "import os\n",
    "import pandas as pd\n",
    "import difflib\n",
    "\n",
    "# Example usage\n",
    "root_folder = '../../../data_warehouse/minimized_warehouse_4'\n",
    "filename = 'worker1.feather'\n",
    "subfolders = common_utils.find_subfolders_with_file(root_folder, filename)\n",
    "print(subfolders)\n",
    "prom_data_paths = {os.path.basename(x): x for x in subfolders}\n",
    "yolo_data_paths = {key: os.path.join(val, \"yolo_qos.feather\") for key, val in prom_data_paths.items()}"
   ]
  },
  {
   "cell_type": "code",
   "execution_count": null,
   "id": "4106ef0bb69bb28f",
   "metadata": {
    "ExecuteTime": {
     "end_time": "2025-01-03T11:22:53.773361Z",
     "start_time": "2025-01-03T11:22:31.390705Z"
    }
   },
   "outputs": [],
   "source": [
    "# Clean dataframe and calculate power\n",
    "def get_total_joules(dataframe):\n",
    "    cleaned_df = dataframe\n",
    "    \n",
    "    \"\"\" Sort by timestamp to make sure it makes sense to compute difference between first and last values \"\"\"\n",
    "    cleaned_df.sort_values(by=\"timestamp\", inplace=True)\n",
    "    \n",
    "    \"\"\" Get all relevant columns for power calculation \"\"\"\n",
    "    target_word = 'kepler node package joules total dynamic'\n",
    "    closest_matches = difflib.get_close_matches(target_word, cleaned_df.columns, n=2, cutoff=0.05)\n",
    "    \n",
    "    \"\"\" Compute joules per match \"\"\"\n",
    "    joules_per_match = []\n",
    "    for match in closest_matches:\n",
    "        joules = cleaned_df[match].max() - cleaned_df[match].min()\n",
    "        joules_per_match.append(joules)\n",
    "    \n",
    "    \"\"\" Compute total joules \"\"\"\n",
    "    total_joules = sum(joules_per_match)\n",
    "    return total_joules\n",
    "\n",
    "total_joules_per_model = {}\n",
    "for key in prom_data_paths.keys():\n",
    "    paths = []\n",
    "    \"\"\" Get all workers \"\"\"\n",
    "    for work_num in range(1, 6):\n",
    "        temp_path = os.path.join(prom_data_paths[key], f\"worker{work_num}.feather\")\n",
    "        paths.append(temp_path)\n",
    "\n",
    "    \"\"\" Get joules per image for each worker \"\"\"\n",
    "    joules_per_worker = [get_total_joules(common_utils.get_cleaned_df(x)) for x in paths]\n",
    "    joules_total = sum(joules_per_worker)\n",
    "    num_images = 1000 #common_utils.get_number_of_images(key)  # TODO: Get from somewhere\n",
    "    joules_per_image = joules_total / num_images\n",
    "\n",
    "    \"\"\" Add result to dict for current model and resolution \"\"\"\n",
    "    model_info = common_utils.path_to_workers_and_pcl_size(key)\n",
    "    if model_info.resolution not in total_joules_per_model:\n",
    "        total_joules_per_model[model_info.resolution] = {}\n",
    "    total_joules_per_model[model_info.resolution][model_info.num_vehicles] = joules_per_image\n",
    "\n",
    "max_joules = {}\n",
    "for resolution in sorted(total_joules_per_model.keys()):\n",
    "    joules = pd.DataFrame.from_dict(total_joules_per_model[resolution], orient='index', columns=['Joules'])\n",
    "    joules.columns = [f'{resolution}']\n",
    "    max_joules[resolution] = joules\n",
    "\n"
   ]
  },
  {
   "cell_type": "code",
   "execution_count": null,
   "id": "5a9d912b0e57b5ef",
   "metadata": {
    "ExecuteTime": {
     "end_time": "2025-01-03T11:22:54.096038Z",
     "start_time": "2025-01-03T11:22:53.835863Z"
    }
   },
   "outputs": [],
   "source": [
    "# Grouped bars\n",
    "import plotly.express as px\n",
    "\n",
    "# Define width based on resolution\n",
    "# resolution_to_width = {160: 0.2, 320: 0.4, 640: 0.6, 1280: 0.8}\n",
    "max_joules_df = pd.concat(max_joules.values(), axis=1)\n",
    "max_joules_df_sorted = max_joules_df\n",
    "# max_joules_df_sorted = common_utils.sort_by_model_size_then_version(max_joules_df)\n",
    "\n",
    "fig = px.bar(max_joules_df_sorted, barmode='group', title='Joules per PCL', labels={'value': 'Max Power (Watts)', 'index': 'Model'})\n",
    "fig.update_layout(xaxis_title='Num_workers', yaxis_title='Joules', legend_title_text='Resolution')\n",
    "fig.show()\n",
    "\n",
    "fig = px.bar(max_joules_df_sorted, barmode='group', title='Joules per PCL (Log Scale)', labels={'value': 'Max Power (Watts)', 'index': 'Model'})\n",
    "fig.update_layout(xaxis_title='Num_workers', yaxis_title='Joules', yaxis_type='log', legend_title_text='Resolution')\n",
    "fig.show()"
   ]
  },
  {
   "cell_type": "code",
   "execution_count": null,
   "id": "a127b79fa8a76538",
   "metadata": {
    "ExecuteTime": {
     "end_time": "2025-01-03T11:22:54.268121Z",
     "start_time": "2025-01-03T11:22:54.223377Z"
    }
   },
   "outputs": [],
   "source": [
    "\"\"\" Stacked bars, adjusted to the correct heights for each resolution \"\"\"\n",
    "\n",
    "# Calculate differences in joules for each resolution to represent the stacked bar chart\n",
    "diff_joules_per_model = {}\n",
    "resolutions = sorted(total_joules_per_model.keys())\n",
    "\n",
    "for resolution in resolutions:\n",
    "    diff_joules_per_model[resolution] = total_joules_per_model[resolution].copy()\n",
    "    if resolution > resolutions[0]:\n",
    "        prev_resolution = resolutions[resolutions.index(resolution) - 1]\n",
    "        for model in diff_joules_per_model[resolution].keys():\n",
    "            if model in total_joules_per_model[prev_resolution]:\n",
    "                diff_joules_per_model[resolution][model] -= total_joules_per_model[prev_resolution][model]\n",
    "\n",
    "# Create DataFrame for the stacked bar graph\n",
    "diff_max_joules = {resolution: pd.DataFrame.from_dict(diff_joules_per_model[resolution], orient='index', columns=[f'{resolution}']) for resolution in resolutions}\n",
    "\n",
    "stacked_diff_max_joules_df = pd.concat(diff_max_joules.values(), axis=1)\n",
    "\n",
    "# Create stacked bar graph\n",
    "fig = px.bar(stacked_diff_max_joules_df, barmode='relative', title='Joules per image (Adjusted for Resolution Differences)', labels={'value': 'Joules', 'index': 'Model'})\n",
    "fig.update_layout(xaxis_title='Model', yaxis_title='Joules', legend_title_text='Resolution')\n",
    "fig.show()"
   ]
  },
  {
   "cell_type": "code",
   "execution_count": null,
   "id": "661161924ec62a57",
   "metadata": {
    "ExecuteTime": {
     "end_time": "2025-01-03T11:22:56.683494Z",
     "start_time": "2025-01-03T11:22:54.284796Z"
    }
   },
   "outputs": [],
   "source": [
    "\n",
    "\n",
    "max_joules_df_sorted = common_utils.sort_by_model_size_then_version(max_joules_df)\n",
    "\n",
    "fig = px.bar(max_joules_df_sorted, title='Joules per image (relative stacked)', labels={'value': 'Max Power (Watts)', 'index': 'Model'})\n",
    "fig.update_layout(xaxis_title='Model', yaxis_title='Joules', legend_title_text='Resolution')\n",
    "fig.show()\n",
    "fig = px.bar(max_joules_df_sorted, title='Joules per image (relative stacked)', labels={'value': 'Max Power (Watts)', 'index': 'Model'})\n",
    "fig.update_layout(xaxis_title='Model', yaxis_title='Joules', yaxis_type='log', legend_title_text='Resolution')\n",
    "fig.show()"
   ]
  },
  {
   "cell_type": "code",
   "execution_count": null,
   "id": "a39899c6dc48df84",
   "metadata": {
    "ExecuteTime": {
     "end_time": "2025-01-03T11:22:56.685371Z",
     "start_time": "2024-11-28T10:52:09.753880Z"
    }
   },
   "outputs": [],
   "source": [
    "\n",
    "# Define width based on resolution\n",
    "# resolution_to_width = {160: 0.2, 320: 0.4, 640: 0.6, 1280: 0.8}\n",
    "diff_joules_df_sorted = common_utils.sort_by_model_size_then_version(stacked_diff_max_joules_df)\n",
    "\n",
    "fig = px.bar(\n",
    "    diff_joules_df_sorted, \n",
    "    title='Joules per image (overlapping stacked)', \n",
    "    labels={'value': 'Max Power (Watts)', 'index': 'Model'},\n",
    "    # width=[resolution_to_width.get(int(col), 0.5) for col in diff_joules_df_sorted.columns]\n",
    ")\n",
    "fig.update_layout(xaxis_title='Model', yaxis_title='Joules', legend_title_text='Resolution')\n",
    "fig.show()\n",
    "fig = px.bar(\n",
    "    diff_joules_df_sorted, \n",
    "    title='Joules per image (overlapping stacked)', \n",
    "    labels={'value': 'Max Power (Watts)', 'index': 'Model'},\n",
    "    # width=[resolution_to_width.get(int(col), 0.5) for col in diff_joules_df_sorted.columns]\n",
    ")\n",
    "fig.update_layout(xaxis_title='Model', yaxis_title='Joules', yaxis_type='log', legend_title_text='Resolution')\n",
    "fig.show()\n",
    "\n",
    "fig = px.bar(max_joules_df_sorted, barmode='group', title='Joules per image (Log Scale)', labels={'value': 'Max Power (Watts)', 'index': 'Model'})\n",
    "fig.update_layout(xaxis_title='Model', yaxis_title='Joules', yaxis_type='log', legend_title_text='Resolution')\n",
    "fig.show()"
   ]
  },
  {
   "cell_type": "code",
   "execution_count": null,
   "id": "3d56493e1b7864a9",
   "metadata": {
    "ExecuteTime": {
     "end_time": "2025-01-03T11:22:56.685751800Z",
     "start_time": "2024-11-28T10:52:54.378680Z"
    }
   },
   "outputs": [],
   "source": [
    "diff_joules_df_sorted"
   ]
  },
  {
   "cell_type": "code",
   "execution_count": null,
   "id": "6d38d58e63b18383",
   "metadata": {
    "ExecuteTime": {
     "end_time": "2025-01-03T11:22:56.689816300Z",
     "start_time": "2024-11-28T10:54:12.764062Z"
    }
   },
   "outputs": [],
   "source": [
    "diff_joules_df_sorted.to_csv(\"data_diff_joules.csv\")"
   ]
  },
  {
   "cell_type": "code",
   "execution_count": null,
   "id": "678005d13b57b05e",
   "metadata": {},
   "outputs": [],
   "source": []
  }
 ],
 "metadata": {
  "kernelspec": {
   "display_name": "Python 3",
   "language": "python",
   "name": "python3"
  },
  "language_info": {
   "codemirror_mode": {
    "name": "ipython",
    "version": 2
   },
   "file_extension": ".py",
   "mimetype": "text/x-python",
   "name": "python",
   "nbconvert_exporter": "python",
   "pygments_lexer": "ipython2",
   "version": "2.7.6"
  }
 },
 "nbformat": 4,
 "nbformat_minor": 5
}
