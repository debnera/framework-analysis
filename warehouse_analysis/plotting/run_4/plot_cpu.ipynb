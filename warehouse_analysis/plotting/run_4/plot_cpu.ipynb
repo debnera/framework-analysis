{
 "cells": [
  {
   "cell_type": "code",
   "id": "initial_id",
   "metadata": {
    "ExecuteTime": {
     "end_time": "2025-01-21T14:19:02.398713Z",
     "start_time": "2025-01-21T14:19:02.390220Z"
    }
   },
   "source": [
    "import common_utils\n",
    "import os\n",
    "import pandas as pd\n",
    "import difflib\n",
    "\n",
    "# Example usage\n",
    "root_folder = '../../../data_warehouse/minimized_warehouse_4'\n",
    "filename = 'worker1.feather'\n",
    "subfolders = common_utils.find_subfolders_with_file(root_folder, filename)\n",
    "print(subfolders)\n",
    "prom_data_paths = {os.path.basename(x): x for x in subfolders}\n",
    "yolo_data_paths = {key: os.path.join(val, \"yolo_qos.feather\") for key, val in prom_data_paths.items()}"
   ],
   "outputs": [
    {
     "name": "stdout",
     "output_type": "stream",
     "text": [
      "['../../../data_warehouse/minimized_warehouse_4/1735854367_(5.5000)', '../../../data_warehouse/minimized_warehouse_4/1735863576_(1.5000)', '../../../data_warehouse/minimized_warehouse_4/1735851224_(7.5000)', '../../../data_warehouse/minimized_warehouse_4/1735849172_(8.1000)', '../../../data_warehouse/minimized_warehouse_4/1735844045_(30.10000)', '../../../data_warehouse/minimized_warehouse_4/1735860195_(2.5000)', '../../../data_warehouse/minimized_warehouse_4/1735853373_(6.10000)', '../../../data_warehouse/minimized_warehouse_4/1735842931_(30.1000)', '../../../data_warehouse/minimized_warehouse_4/1735845629_(20.10000)', '../../../data_warehouse/minimized_warehouse_4/1735859344_(2.1000)', '../../../data_warehouse/minimized_warehouse_4/1735852779_(6.5000)', '../../../data_warehouse/minimized_warehouse_4/1735852257_(6.1000)', '../../../data_warehouse/minimized_warehouse_4/1735848689_(9.10000)', '../../../data_warehouse/minimized_warehouse_4/1735853852_(5.1000)', '../../../data_warehouse/minimized_warehouse_4/1735856795_(4.10000)', '../../../data_warehouse/minimized_warehouse_4/1735847157_(10.10000)', '../../../data_warehouse/minimized_warehouse_4/1735848162_(9.5000)', '../../../data_warehouse/minimized_warehouse_4/1735843474_(30.5000)', '../../../data_warehouse/minimized_warehouse_4/1735856056_(4.5000)', '../../../data_warehouse/minimized_warehouse_4/1735861411_(2.10000)', '../../../data_warehouse/minimized_warehouse_4/1735850222_(8.10000)', '../../../data_warehouse/minimized_warehouse_4/1735850705_(7.1000)', '../../../data_warehouse/minimized_warehouse_4/1735855015_(5.10000)', '../../../data_warehouse/minimized_warehouse_4/1735862181_(1.1000)', '../../../data_warehouse/minimized_warehouse_4/1735857272_(3.1000)', '../../../data_warehouse/minimized_warehouse_4/1735845073_(20.5000)', '../../../data_warehouse/minimized_warehouse_4/1735846630_(10.5000)', '../../../data_warehouse/minimized_warehouse_4/1735864777_(1.10000)', '../../../data_warehouse/minimized_warehouse_4/1735849692_(8.5000)', '../../../data_warehouse/minimized_warehouse_4/1735846111_(10.1000)', '../../../data_warehouse/minimized_warehouse_4/1735855497_(4.1000)', '../../../data_warehouse/minimized_warehouse_4/1735857924_(3.5000)', '../../../data_warehouse/minimized_warehouse_4/1735858819_(3.10000)', '../../../data_warehouse/minimized_warehouse_4/1735844538_(20.1000)', '../../../data_warehouse/minimized_warehouse_4/1735847641_(9.1000)', '../../../data_warehouse/minimized_warehouse_4/1735851778_(7.10000)']\n"
     ]
    }
   ],
   "execution_count": 4
  },
  {
   "cell_type": "code",
   "id": "31acb65f980bef19",
   "metadata": {
    "ExecuteTime": {
     "end_time": "2025-01-21T14:19:22.334934Z",
     "start_time": "2025-01-21T14:19:03.179777Z"
    }
   },
   "source": [
    "# Clean dataframe and calculate power\n",
    "def get_total_joules(dataframe):\n",
    "    cleaned_df = dataframe\n",
    "\n",
    "    \"\"\" Sort by timestamp to make sure it makes sense to compute difference between first and last values \"\"\"\n",
    "    cleaned_df.sort_values(by=\"timestamp\", inplace=True)\n",
    "\n",
    "    \"\"\" Get all relevant columns for power calculation \"\"\"\n",
    "    target_word = 'kepler node package joules total dynamic'\n",
    "    closest_matches = difflib.get_close_matches(target_word, cleaned_df.columns, n=2, cutoff=0.05)\n",
    "\n",
    "    \"\"\" Compute joules per match \"\"\"\n",
    "    joules_per_match = []\n",
    "    for match in closest_matches:\n",
    "        joules = cleaned_df[match].max() - cleaned_df[match].min()\n",
    "        joules_per_match.append(joules)\n",
    "\n",
    "    \"\"\" Compute total joules \"\"\"\n",
    "    total_joules = sum(joules_per_match)\n",
    "    return total_joules\n",
    "\n",
    "total_joules_per_model = {}\n",
    "for key in prom_data_paths.keys():\n",
    "    paths = []\n",
    "    \"\"\" Get all workers \"\"\"\n",
    "    for work_num in range(1, 6):\n",
    "        temp_path = os.path.join(prom_data_paths[key], f\"worker{work_num}.feather\")\n",
    "        paths.append(temp_path)\n",
    "\n",
    "    \"\"\" Get joules per image for each worker \"\"\"\n",
    "    joules_per_worker = [get_total_joules(common_utils.get_cleaned_df(x)) for x in paths]\n",
    "    joules_total = sum(joules_per_worker)\n",
    "    num_images = 1000 #common_utils.get_number_of_images(key)  # TODO: Get from somewhere\n",
    "    joules_per_image = joules_total / num_images\n",
    "\n",
    "    \"\"\" Add result to dict for current model and resolution \"\"\"\n",
    "    model_info = common_utils.path_to_workers_and_pcl_size(key)\n",
    "    if model_info.resolution not in total_joules_per_model:\n",
    "        total_joules_per_model[model_info.resolution] = {}\n",
    "    total_joules_per_model[model_info.resolution][model_info.num_vehicles] = joules_per_image\n",
    "\n",
    "max_joules = {}\n",
    "for resolution in sorted(total_joules_per_model.keys()):\n",
    "    joules = pd.DataFrame.from_dict(total_joules_per_model[resolution], orient='index', columns=['Joules'])\n",
    "    joules.columns = [f'{resolution}']\n",
    "    max_joules[resolution] = joules\n",
    "\n"
   ],
   "outputs": [
    {
     "name": "stdout",
     "output_type": "stream",
     "text": [
      "Loaded 61 rows and 654 columns\n",
      "Removing 0 static columns (654 remaining)\n",
      "Unable to read timestamp as json\n",
      "Loaded 61 rows and 538 columns\n",
      "Removing 0 static columns (538 remaining)\n",
      "Unable to read timestamp as json\n",
      "Loaded 61 rows and 646 columns\n",
      "Removing 0 static columns (646 remaining)\n",
      "Unable to read timestamp as json\n",
      "Loaded 61 rows and 591 columns\n",
      "Removing 0 static columns (591 remaining)\n",
      "Unable to read timestamp as json\n",
      "Loaded 61 rows and 554 columns\n",
      "Removing 0 static columns (554 remaining)\n",
      "Unable to read timestamp as json\n",
      "Loaded 230 rows and 635 columns\n",
      "Removing 0 static columns (635 remaining)\n",
      "Unable to read timestamp as json\n",
      "Loaded 230 rows and 639 columns\n",
      "Removing 0 static columns (639 remaining)\n",
      "Unable to read timestamp as json\n",
      "Loaded 230 rows and 731 columns\n",
      "Removing 0 static columns (731 remaining)\n",
      "Unable to read timestamp as json\n",
      "Loaded 230 rows and 626 columns\n",
      "Removing 0 static columns (626 remaining)\n",
      "Unable to read timestamp as json\n",
      "Loaded 230 rows and 640 columns\n",
      "Removing 0 static columns (640 remaining)\n",
      "Unable to read timestamp as json\n",
      "Loaded 62 rows and 664 columns\n",
      "Removing 0 static columns (664 remaining)\n",
      "Unable to read timestamp as json\n",
      "Loaded 62 rows and 586 columns\n",
      "Removing 0 static columns (586 remaining)\n",
      "Unable to read timestamp as json\n",
      "Loaded 62 rows and 712 columns\n",
      "Removing 0 static columns (712 remaining)\n",
      "Unable to read timestamp as json\n",
      "Loaded 62 rows and 583 columns\n",
      "Removing 0 static columns (583 remaining)\n",
      "Unable to read timestamp as json\n",
      "Loaded 62 rows and 588 columns\n",
      "Removing 0 static columns (588 remaining)\n",
      "Unable to read timestamp as json\n",
      "Loaded 54 rows and 668 columns\n",
      "Removing 0 static columns (668 remaining)\n",
      "Unable to read timestamp as json\n",
      "Loaded 54 rows and 583 columns\n",
      "Removing 0 static columns (583 remaining)\n",
      "Unable to read timestamp as json\n",
      "Loaded 54 rows and 684 columns\n",
      "Removing 0 static columns (684 remaining)\n",
      "Unable to read timestamp as json\n",
      "Loaded 54 rows and 576 columns\n",
      "Removing 0 static columns (576 remaining)\n",
      "Unable to read timestamp as json\n",
      "Loaded 54 rows and 592 columns\n",
      "Removing 0 static columns (592 remaining)\n",
      "Unable to read timestamp as json\n",
      "Loaded 71 rows and 822 columns\n",
      "Removing 0 static columns (822 remaining)\n",
      "Unable to read timestamp as json\n",
      "Loaded 71 rows and 764 columns\n",
      "Removing 0 static columns (764 remaining)\n",
      "Unable to read timestamp as json\n",
      "Loaded 71 rows and 808 columns\n",
      "Removing 0 static columns (808 remaining)\n",
      "Unable to read timestamp as json\n",
      "Loaded 71 rows and 760 columns\n",
      "Removing 0 static columns (760 remaining)\n",
      "Unable to read timestamp as json\n",
      "Loaded 71 rows and 679 columns\n",
      "Removing 0 static columns (679 remaining)\n",
      "Unable to read timestamp as json\n",
      "Loaded 126 rows and 613 columns\n",
      "Removing 0 static columns (613 remaining)\n",
      "Unable to read timestamp as json\n",
      "Loaded 126 rows and 524 columns\n",
      "Removing 0 static columns (524 remaining)\n",
      "Unable to read timestamp as json\n",
      "Loaded 126 rows and 729 columns\n",
      "Removing 0 static columns (729 remaining)\n",
      "Unable to read timestamp as json\n",
      "Loaded 126 rows and 586 columns\n",
      "Removing 0 static columns (586 remaining)\n",
      "Unable to read timestamp as json\n",
      "Loaded 126 rows and 584 columns\n",
      "Removing 0 static columns (584 remaining)\n",
      "Unable to read timestamp as json\n",
      "Loaded 77 rows and 664 columns\n",
      "Removing 0 static columns (664 remaining)\n",
      "Unable to read timestamp as json\n",
      "Loaded 77 rows and 604 columns\n",
      "Removing 0 static columns (604 remaining)\n",
      "Unable to read timestamp as json\n",
      "Loaded 77 rows and 693 columns\n",
      "Removing 0 static columns (693 remaining)\n",
      "Unable to read timestamp as json\n",
      "Loaded 77 rows and 585 columns\n",
      "Removing 0 static columns (585 remaining)\n",
      "Unable to read timestamp as json\n",
      "Loaded 77 rows and 551 columns\n",
      "Removing 0 static columns (551 remaining)\n",
      "Unable to read timestamp as json\n",
      "Loaded 55 rows and 768 columns\n",
      "Removing 0 static columns (768 remaining)\n",
      "Unable to read timestamp as json\n",
      "Loaded 55 rows and 735 columns\n",
      "Removing 0 static columns (735 remaining)\n",
      "Unable to read timestamp as json\n",
      "Loaded 55 rows and 785 columns\n",
      "Removing 0 static columns (785 remaining)\n",
      "Unable to read timestamp as json\n",
      "Loaded 55 rows and 717 columns\n",
      "Removing 0 static columns (717 remaining)\n",
      "Unable to read timestamp as json\n",
      "Loaded 55 rows and 702 columns\n",
      "Removing 0 static columns (702 remaining)\n",
      "Unable to read timestamp as json\n",
      "Loaded 68 rows and 751 columns\n",
      "Removing 0 static columns (751 remaining)\n",
      "Unable to read timestamp as json\n",
      "Loaded 68 rows and 686 columns\n",
      "Removing 0 static columns (686 remaining)\n",
      "Unable to read timestamp as json\n",
      "Loaded 68 rows and 828 columns\n",
      "Removing 0 static columns (828 remaining)\n",
      "Unable to read timestamp as json\n",
      "Loaded 68 rows and 679 columns\n",
      "Removing 0 static columns (679 remaining)\n",
      "Unable to read timestamp as json\n",
      "Loaded 68 rows and 688 columns\n",
      "Removing 0 static columns (688 remaining)\n",
      "Unable to read timestamp as json\n",
      "Loaded 64 rows and 590 columns\n",
      "Removing 0 static columns (590 remaining)\n",
      "Unable to read timestamp as json\n",
      "Loaded 64 rows and 556 columns\n",
      "Removing 0 static columns (556 remaining)\n",
      "Unable to read timestamp as json\n",
      "Loaded 64 rows and 663 columns\n",
      "Removing 0 static columns (663 remaining)\n",
      "Unable to read timestamp as json\n",
      "Loaded 64 rows and 519 columns\n",
      "Removing 0 static columns (519 remaining)\n",
      "Unable to read timestamp as json\n",
      "Loaded 64 rows and 567 columns\n",
      "Removing 0 static columns (567 remaining)\n",
      "Unable to read timestamp as json\n",
      "Loaded 62 rows and 594 columns\n",
      "Removing 0 static columns (594 remaining)\n",
      "Unable to read timestamp as json\n",
      "Loaded 62 rows and 509 columns\n",
      "Removing 0 static columns (509 remaining)\n",
      "Unable to read timestamp as json\n",
      "Loaded 62 rows and 699 columns\n",
      "Removing 0 static columns (699 remaining)\n",
      "Unable to read timestamp as json\n",
      "Loaded 62 rows and 600 columns\n",
      "Removing 0 static columns (600 remaining)\n",
      "Unable to read timestamp as json\n",
      "Loaded 62 rows and 550 columns\n",
      "Removing 0 static columns (550 remaining)\n",
      "Unable to read timestamp as json\n",
      "Loaded 54 rows and 627 columns\n",
      "Removing 0 static columns (627 remaining)\n",
      "Unable to read timestamp as json\n",
      "Loaded 54 rows and 555 columns\n",
      "Removing 0 static columns (555 remaining)\n",
      "Unable to read timestamp as json\n",
      "Loaded 54 rows and 592 columns\n",
      "Removing 0 static columns (592 remaining)\n",
      "Unable to read timestamp as json\n",
      "Loaded 54 rows and 570 columns\n",
      "Removing 0 static columns (570 remaining)\n",
      "Unable to read timestamp as json\n",
      "Loaded 54 rows and 585 columns\n",
      "Removing 0 static columns (585 remaining)\n",
      "Unable to read timestamp as json\n",
      "Loaded 64 rows and 666 columns\n",
      "Removing 0 static columns (666 remaining)\n",
      "Unable to read timestamp as json\n",
      "Loaded 64 rows and 638 columns\n",
      "Removing 0 static columns (638 remaining)\n",
      "Unable to read timestamp as json\n",
      "Loaded 64 rows and 729 columns\n",
      "Removing 0 static columns (729 remaining)\n",
      "Unable to read timestamp as json\n",
      "Loaded 64 rows and 622 columns\n",
      "Removing 0 static columns (622 remaining)\n",
      "Unable to read timestamp as json\n",
      "Loaded 64 rows and 637 columns\n",
      "Removing 0 static columns (637 remaining)\n",
      "Unable to read timestamp as json\n",
      "Loaded 54 rows and 623 columns\n",
      "Removing 0 static columns (623 remaining)\n",
      "Unable to read timestamp as json\n",
      "Loaded 54 rows and 588 columns\n",
      "Removing 0 static columns (588 remaining)\n",
      "Unable to read timestamp as json\n",
      "Loaded 54 rows and 672 columns\n",
      "Removing 0 static columns (672 remaining)\n",
      "Unable to read timestamp as json\n",
      "Loaded 54 rows and 564 columns\n",
      "Removing 0 static columns (564 remaining)\n",
      "Unable to read timestamp as json\n",
      "Loaded 54 rows and 507 columns\n",
      "Removing 0 static columns (507 remaining)\n",
      "Unable to read timestamp as json\n",
      "Loaded 105 rows and 631 columns\n",
      "Removing 0 static columns (631 remaining)\n",
      "Unable to read timestamp as json\n",
      "Loaded 105 rows and 579 columns\n",
      "Removing 0 static columns (579 remaining)\n",
      "Unable to read timestamp as json\n",
      "Loaded 105 rows and 711 columns\n",
      "Removing 0 static columns (711 remaining)\n",
      "Unable to read timestamp as json\n",
      "Loaded 105 rows and 625 columns\n",
      "Removing 0 static columns (625 remaining)\n",
      "Unable to read timestamp as json\n",
      "Loaded 105 rows and 600 columns\n",
      "Removing 0 static columns (600 remaining)\n",
      "Unable to read timestamp as json\n",
      "Loaded 64 rows and 703 columns\n",
      "Removing 0 static columns (703 remaining)\n",
      "Unable to read timestamp as json\n",
      "Loaded 64 rows and 620 columns\n",
      "Removing 0 static columns (620 remaining)\n",
      "Unable to read timestamp as json\n",
      "Loaded 64 rows and 695 columns\n",
      "Removing 0 static columns (695 remaining)\n",
      "Unable to read timestamp as json\n",
      "Loaded 64 rows and 594 columns\n",
      "Removing 0 static columns (594 remaining)\n",
      "Unable to read timestamp as json\n",
      "Loaded 64 rows and 597 columns\n",
      "Removing 0 static columns (597 remaining)\n",
      "Unable to read timestamp as json\n",
      "Loaded 62 rows and 637 columns\n",
      "Removing 0 static columns (637 remaining)\n",
      "Unable to read timestamp as json\n",
      "Loaded 62 rows and 613 columns\n",
      "Removing 0 static columns (613 remaining)\n",
      "Unable to read timestamp as json\n",
      "Loaded 62 rows and 689 columns\n",
      "Removing 0 static columns (689 remaining)\n",
      "Unable to read timestamp as json\n",
      "Loaded 62 rows and 593 columns\n",
      "Removing 0 static columns (593 remaining)\n",
      "Unable to read timestamp as json\n",
      "Loaded 62 rows and 536 columns\n",
      "Removing 0 static columns (536 remaining)\n",
      "Unable to read timestamp as json\n",
      "Loaded 65 rows and 792 columns\n",
      "Removing 0 static columns (792 remaining)\n",
      "Unable to read timestamp as json\n",
      "Loaded 65 rows and 749 columns\n",
      "Removing 0 static columns (749 remaining)\n",
      "Unable to read timestamp as json\n",
      "Loaded 65 rows and 837 columns\n",
      "Removing 0 static columns (837 remaining)\n",
      "Unable to read timestamp as json\n",
      "Loaded 65 rows and 704 columns\n",
      "Removing 0 static columns (704 remaining)\n",
      "Unable to read timestamp as json\n",
      "Loaded 65 rows and 740 columns\n",
      "Removing 0 static columns (740 remaining)\n",
      "Unable to read timestamp as json\n",
      "Loaded 70 rows and 617 columns\n",
      "Removing 0 static columns (617 remaining)\n",
      "Unable to read timestamp as json\n",
      "Loaded 70 rows and 593 columns\n",
      "Removing 0 static columns (593 remaining)\n",
      "Unable to read timestamp as json\n",
      "Loaded 70 rows and 678 columns\n",
      "Removing 0 static columns (678 remaining)\n",
      "Unable to read timestamp as json\n",
      "Loaded 70 rows and 561 columns\n",
      "Removing 0 static columns (561 remaining)\n",
      "Unable to read timestamp as json\n",
      "Loaded 70 rows and 555 columns\n",
      "Removing 0 static columns (555 remaining)\n",
      "Unable to read timestamp as json\n",
      "Loaded 196 rows and 659 columns\n",
      "Removing 0 static columns (659 remaining)\n",
      "Unable to read timestamp as json\n",
      "Loaded 196 rows and 399 columns\n",
      "Removing 0 static columns (399 remaining)\n",
      "Unable to read timestamp as json\n",
      "Loaded 196 rows and 755 columns\n",
      "Removing 0 static columns (755 remaining)\n",
      "Unable to read timestamp as json\n",
      "Loaded 196 rows and 590 columns\n",
      "Removing 0 static columns (590 remaining)\n",
      "Unable to read timestamp as json\n",
      "Loaded 196 rows and 651 columns\n",
      "Removing 0 static columns (651 remaining)\n",
      "Unable to read timestamp as json\n",
      "Loaded 64 rows and 642 columns\n",
      "Removing 0 static columns (642 remaining)\n",
      "Unable to read timestamp as json\n",
      "Loaded 64 rows and 534 columns\n",
      "Removing 0 static columns (534 remaining)\n",
      "Unable to read timestamp as json\n",
      "Loaded 64 rows and 694 columns\n",
      "Removing 0 static columns (694 remaining)\n",
      "Unable to read timestamp as json\n",
      "Loaded 64 rows and 634 columns\n",
      "Removing 0 static columns (634 remaining)\n",
      "Unable to read timestamp as json\n",
      "Loaded 64 rows and 584 columns\n",
      "Removing 0 static columns (584 remaining)\n",
      "Unable to read timestamp as json\n",
      "Loaded 54 rows and 604 columns\n",
      "Removing 0 static columns (604 remaining)\n",
      "Unable to read timestamp as json\n",
      "Loaded 54 rows and 561 columns\n",
      "Removing 0 static columns (561 remaining)\n",
      "Unable to read timestamp as json\n",
      "Loaded 54 rows and 699 columns\n",
      "Removing 0 static columns (699 remaining)\n",
      "Unable to read timestamp as json\n",
      "Loaded 54 rows and 556 columns\n",
      "Removing 0 static columns (556 remaining)\n",
      "Unable to read timestamp as json\n",
      "Loaded 54 rows and 591 columns\n",
      "Removing 0 static columns (591 remaining)\n",
      "Unable to read timestamp as json\n",
      "Loaded 86 rows and 662 columns\n",
      "Removing 0 static columns (662 remaining)\n",
      "Unable to read timestamp as json\n",
      "Loaded 86 rows and 587 columns\n",
      "Removing 0 static columns (587 remaining)\n",
      "Unable to read timestamp as json\n",
      "Loaded 86 rows and 693 columns\n",
      "Removing 0 static columns (693 remaining)\n",
      "Unable to read timestamp as json\n",
      "Loaded 86 rows and 585 columns\n",
      "Removing 0 static columns (585 remaining)\n",
      "Unable to read timestamp as json\n",
      "Loaded 86 rows and 600 columns\n",
      "Removing 0 static columns (600 remaining)\n",
      "Unable to read timestamp as json\n",
      "Loaded 111 rows and 624 columns\n",
      "Removing 0 static columns (624 remaining)\n",
      "Unable to read timestamp as json\n",
      "Loaded 111 rows and 476 columns\n",
      "Removing 0 static columns (476 remaining)\n",
      "Unable to read timestamp as json\n",
      "Loaded 111 rows and 693 columns\n",
      "Removing 0 static columns (693 remaining)\n",
      "Unable to read timestamp as json\n",
      "Loaded 111 rows and 564 columns\n",
      "Removing 0 static columns (564 remaining)\n",
      "Unable to read timestamp as json\n",
      "Loaded 111 rows and 601 columns\n",
      "Removing 0 static columns (601 remaining)\n",
      "Unable to read timestamp as json\n",
      "Loaded 54 rows and 587 columns\n",
      "Removing 0 static columns (587 remaining)\n",
      "Unable to read timestamp as json\n",
      "Loaded 54 rows and 575 columns\n",
      "Removing 0 static columns (575 remaining)\n",
      "Unable to read timestamp as json\n",
      "Loaded 54 rows and 673 columns\n",
      "Removing 0 static columns (673 remaining)\n",
      "Unable to read timestamp as json\n",
      "Loaded 54 rows and 565 columns\n",
      "Removing 0 static columns (565 remaining)\n",
      "Unable to read timestamp as json\n",
      "Loaded 54 rows and 568 columns\n",
      "Removing 0 static columns (568 remaining)\n",
      "Unable to read timestamp as json\n",
      "Loaded 64 rows and 763 columns\n",
      "Removing 0 static columns (763 remaining)\n",
      "Unable to read timestamp as json\n",
      "Loaded 64 rows and 689 columns\n",
      "Removing 0 static columns (689 remaining)\n",
      "Unable to read timestamp as json\n",
      "Loaded 64 rows and 767 columns\n",
      "Removing 0 static columns (767 remaining)\n",
      "Unable to read timestamp as json\n",
      "Loaded 64 rows and 678 columns\n",
      "Removing 0 static columns (678 remaining)\n",
      "Unable to read timestamp as json\n",
      "Loaded 64 rows and 676 columns\n",
      "Removing 0 static columns (676 remaining)\n",
      "Unable to read timestamp as json\n",
      "Loaded 62 rows and 697 columns\n",
      "Removing 0 static columns (697 remaining)\n",
      "Unable to read timestamp as json\n",
      "Loaded 62 rows and 617 columns\n",
      "Removing 0 static columns (617 remaining)\n",
      "Unable to read timestamp as json\n",
      "Loaded 62 rows and 699 columns\n",
      "Removing 0 static columns (699 remaining)\n",
      "Unable to read timestamp as json\n",
      "Loaded 62 rows and 598 columns\n",
      "Removing 0 static columns (598 remaining)\n",
      "Unable to read timestamp as json\n",
      "Loaded 62 rows and 577 columns\n",
      "Removing 0 static columns (577 remaining)\n",
      "Unable to read timestamp as json\n",
      "Loaded 193 rows and 621 columns\n",
      "Removing 0 static columns (621 remaining)\n",
      "Unable to read timestamp as json\n",
      "Loaded 193 rows and 644 columns\n",
      "Removing 0 static columns (644 remaining)\n",
      "Unable to read timestamp as json\n",
      "Loaded 193 rows and 772 columns\n",
      "Removing 0 static columns (772 remaining)\n",
      "Unable to read timestamp as json\n",
      "Loaded 193 rows and 592 columns\n",
      "Removing 0 static columns (592 remaining)\n",
      "Unable to read timestamp as json\n",
      "Loaded 193 rows and 609 columns\n",
      "Removing 0 static columns (609 remaining)\n",
      "Unable to read timestamp as json\n",
      "Loaded 62 rows and 661 columns\n",
      "Removing 0 static columns (661 remaining)\n",
      "Unable to read timestamp as json\n",
      "Loaded 62 rows and 608 columns\n",
      "Removing 0 static columns (608 remaining)\n",
      "Unable to read timestamp as json\n",
      "Loaded 62 rows and 687 columns\n",
      "Removing 0 static columns (687 remaining)\n",
      "Unable to read timestamp as json\n",
      "Loaded 62 rows and 540 columns\n",
      "Removing 0 static columns (540 remaining)\n",
      "Unable to read timestamp as json\n",
      "Loaded 62 rows and 534 columns\n",
      "Removing 0 static columns (534 remaining)\n",
      "Unable to read timestamp as json\n",
      "Loaded 54 rows and 661 columns\n",
      "Removing 0 static columns (661 remaining)\n",
      "Unable to read timestamp as json\n",
      "Loaded 54 rows and 551 columns\n",
      "Removing 0 static columns (551 remaining)\n",
      "Unable to read timestamp as json\n",
      "Loaded 54 rows and 696 columns\n",
      "Removing 0 static columns (696 remaining)\n",
      "Unable to read timestamp as json\n",
      "Loaded 54 rows and 578 columns\n",
      "Removing 0 static columns (578 remaining)\n",
      "Unable to read timestamp as json\n",
      "Loaded 54 rows and 453 columns\n",
      "Removing 0 static columns (453 remaining)\n",
      "Unable to read timestamp as json\n",
      "Loaded 54 rows and 582 columns\n",
      "Removing 0 static columns (582 remaining)\n",
      "Unable to read timestamp as json\n",
      "Loaded 54 rows and 559 columns\n",
      "Removing 0 static columns (559 remaining)\n",
      "Unable to read timestamp as json\n",
      "Loaded 54 rows and 606 columns\n",
      "Removing 0 static columns (606 remaining)\n",
      "Unable to read timestamp as json\n",
      "Loaded 54 rows and 539 columns\n",
      "Removing 0 static columns (539 remaining)\n",
      "Unable to read timestamp as json\n",
      "Loaded 54 rows and 570 columns\n",
      "Removing 0 static columns (570 remaining)\n",
      "Unable to read timestamp as json\n",
      "Loaded 87 rows and 607 columns\n",
      "Removing 0 static columns (607 remaining)\n",
      "Unable to read timestamp as json\n",
      "Loaded 87 rows and 607 columns\n",
      "Removing 0 static columns (607 remaining)\n",
      "Unable to read timestamp as json\n",
      "Loaded 87 rows and 674 columns\n",
      "Removing 0 static columns (674 remaining)\n",
      "Unable to read timestamp as json\n",
      "Loaded 87 rows and 603 columns\n",
      "Removing 0 static columns (603 remaining)\n",
      "Unable to read timestamp as json\n",
      "Loaded 87 rows and 599 columns\n",
      "Removing 0 static columns (599 remaining)\n",
      "Unable to read timestamp as json\n",
      "Loaded 134 rows and 627 columns\n",
      "Removing 0 static columns (627 remaining)\n",
      "Unable to read timestamp as json\n",
      "Loaded 134 rows and 608 columns\n",
      "Removing 0 static columns (608 remaining)\n",
      "Unable to read timestamp as json\n",
      "Loaded 134 rows and 722 columns\n",
      "Removing 0 static columns (722 remaining)\n",
      "Unable to read timestamp as json\n",
      "Loaded 134 rows and 650 columns\n",
      "Removing 0 static columns (650 remaining)\n",
      "Unable to read timestamp as json\n",
      "Loaded 134 rows and 625 columns\n",
      "Removing 0 static columns (625 remaining)\n",
      "Unable to read timestamp as json\n",
      "Loaded 55 rows and 737 columns\n",
      "Removing 0 static columns (737 remaining)\n",
      "Unable to read timestamp as json\n",
      "Loaded 55 rows and 686 columns\n",
      "Removing 0 static columns (686 remaining)\n",
      "Unable to read timestamp as json\n",
      "Loaded 55 rows and 741 columns\n",
      "Removing 0 static columns (741 remaining)\n",
      "Unable to read timestamp as json\n",
      "Loaded 55 rows and 654 columns\n",
      "Removing 0 static columns (654 remaining)\n",
      "Unable to read timestamp as json\n",
      "Loaded 55 rows and 637 columns\n",
      "Removing 0 static columns (637 remaining)\n",
      "Unable to read timestamp as json\n",
      "Loaded 54 rows and 598 columns\n",
      "Removing 0 static columns (598 remaining)\n",
      "Unable to read timestamp as json\n",
      "Loaded 54 rows and 606 columns\n",
      "Removing 0 static columns (606 remaining)\n",
      "Unable to read timestamp as json\n",
      "Loaded 54 rows and 684 columns\n",
      "Removing 0 static columns (684 remaining)\n",
      "Unable to read timestamp as json\n",
      "Loaded 54 rows and 591 columns\n",
      "Removing 0 static columns (591 remaining)\n",
      "Unable to read timestamp as json\n",
      "Loaded 54 rows and 599 columns\n",
      "Removing 0 static columns (599 remaining)\n",
      "Unable to read timestamp as json\n",
      "Loaded 69 rows and 689 columns\n",
      "Removing 0 static columns (689 remaining)\n",
      "Unable to read timestamp as json\n",
      "Loaded 69 rows and 593 columns\n",
      "Removing 0 static columns (593 remaining)\n",
      "Unable to read timestamp as json\n",
      "Loaded 69 rows and 712 columns\n",
      "Removing 0 static columns (712 remaining)\n",
      "Unable to read timestamp as json\n",
      "Loaded 69 rows and 599 columns\n",
      "Removing 0 static columns (599 remaining)\n",
      "Unable to read timestamp as json\n",
      "Loaded 69 rows and 578 columns\n",
      "Removing 0 static columns (578 remaining)\n",
      "Unable to read timestamp as json\n"
     ]
    }
   ],
   "execution_count": 5
  },
  {
   "cell_type": "code",
   "id": "17084de51c3a87fb",
   "metadata": {
    "ExecuteTime": {
     "end_time": "2025-01-21T14:19:22.428646Z",
     "start_time": "2025-01-21T14:19:22.365783Z"
    }
   },
   "source": [
    "# Grouped bars\n",
    "import plotly.express as px\n",
    "\n",
    "# Define width based on resolution\n",
    "# resolution_to_width = {160: 0.2, 320: 0.4, 640: 0.6, 1280: 0.8}\n",
    "max_joules_df = pd.concat(max_joules.values(), axis=1)\n",
    "max_joules_df_sorted = max_joules_df\n",
    "# max_joules_df_sorted = common_utils.sort_by_model_size_then_version(max_joules_df)\n",
    "\n",
    "fig = px.bar(max_joules_df_sorted, barmode='group', title='Joules per PCL', labels={'value': 'Max Power (Watts)', 'index': 'Model'})\n",
    "fig.update_layout(xaxis_title='Num_workers', yaxis_title='Joules', legend_title_text='Resolution')\n",
    "fig.show()\n",
    "\n",
    "fig = px.bar(max_joules_df_sorted, barmode='group', title='Joules per PCL (Log Scale)', labels={'value': 'Max Power (Watts)', 'index': 'Model'})\n",
    "fig.update_layout(xaxis_title='Num_workers', yaxis_title='Joules', yaxis_type='log', legend_title_text='Resolution')\n",
    "fig.show()"
   ],
   "outputs": [
    {
     "data": {
      "application/vnd.plotly.v1+json": {
       "data": [
        {
         "alignmentgroup": "True",
         "hovertemplate": "variable=1000<br>Model=%{x}<br>Max Power (Watts)=%{y}<extra></extra>",
         "legendgroup": "1000",
         "marker": {
          "color": "#636efa",
          "pattern": {
           "shape": ""
          }
         },
         "name": "1000",
         "offsetgroup": "1000",
         "orientation": "v",
         "showlegend": true,
         "textposition": "auto",
         "x": [
          8,
          30,
          2,
          6,
          5,
          7,
          1,
          3,
          10,
          4,
          20,
          9
         ],
         "xaxis": "x",
         "y": [
          6.064468999998178,
          5.906219999997411,
          6.842358000000939,
          6.139637999998871,
          6.202277000002563,
          5.368023999998346,
          9.456297000000253,
          6.166562000005506,
          6.010161000000779,
          6.230456000004895,
          6.127284000001848,
          6.023952999998349
         ],
         "yaxis": "y",
         "type": "bar"
        },
        {
         "alignmentgroup": "True",
         "hovertemplate": "variable=5000<br>Model=%{x}<br>Max Power (Watts)=%{y}<extra></extra>",
         "legendgroup": "5000",
         "marker": {
          "color": "#EF553B",
          "pattern": {
           "shape": ""
          }
         },
         "name": "5000",
         "offsetgroup": "5000",
         "orientation": "v",
         "showlegend": true,
         "textposition": "auto",
         "x": [
          8,
          30,
          2,
          6,
          5,
          7,
          1,
          3,
          10,
          4,
          20,
          9
         ],
         "xaxis": "x",
         "y": [
          12.769724999996368,
          11.85647799999686,
          17.09112000000244,
          12.907744999997783,
          13.49605199999595,
          12.861686999998522,
          23.0961689999965,
          14.872319000000134,
          12.629761999999173,
          14.022463000003249,
          11.79579299999727,
          12.733097000003326
         ],
         "yaxis": "y",
         "type": "bar"
        },
        {
         "alignmentgroup": "True",
         "hovertemplate": "variable=10000<br>Model=%{x}<br>Max Power (Watts)=%{y}<extra></extra>",
         "legendgroup": "10000",
         "marker": {
          "color": "#00cc96",
          "pattern": {
           "shape": ""
          }
         },
         "name": "10000",
         "offsetgroup": "10000",
         "orientation": "v",
         "showlegend": true,
         "textposition": "auto",
         "x": [
          8,
          30,
          2,
          6,
          5,
          7,
          1,
          3,
          10,
          4,
          20,
          9
         ],
         "xaxis": "x",
         "y": [
          20.306775999997743,
          17.83675800000038,
          28.791017999993173,
          21.32509899999574,
          23.088807999997865,
          20.783486000000966,
          12.725533999998587,
          25.63062699999893,
          19.832033000003545,
          24.0330449999962,
          17.958635999999476,
          20.004848000003026
         ],
         "yaxis": "y",
         "type": "bar"
        }
       ],
       "layout": {
        "template": {
         "data": {
          "histogram2dcontour": [
           {
            "type": "histogram2dcontour",
            "colorbar": {
             "outlinewidth": 0,
             "ticks": ""
            },
            "colorscale": [
             [
              0.0,
              "#0d0887"
             ],
             [
              0.1111111111111111,
              "#46039f"
             ],
             [
              0.2222222222222222,
              "#7201a8"
             ],
             [
              0.3333333333333333,
              "#9c179e"
             ],
             [
              0.4444444444444444,
              "#bd3786"
             ],
             [
              0.5555555555555556,
              "#d8576b"
             ],
             [
              0.6666666666666666,
              "#ed7953"
             ],
             [
              0.7777777777777778,
              "#fb9f3a"
             ],
             [
              0.8888888888888888,
              "#fdca26"
             ],
             [
              1.0,
              "#f0f921"
             ]
            ]
           }
          ],
          "choropleth": [
           {
            "type": "choropleth",
            "colorbar": {
             "outlinewidth": 0,
             "ticks": ""
            }
           }
          ],
          "histogram2d": [
           {
            "type": "histogram2d",
            "colorbar": {
             "outlinewidth": 0,
             "ticks": ""
            },
            "colorscale": [
             [
              0.0,
              "#0d0887"
             ],
             [
              0.1111111111111111,
              "#46039f"
             ],
             [
              0.2222222222222222,
              "#7201a8"
             ],
             [
              0.3333333333333333,
              "#9c179e"
             ],
             [
              0.4444444444444444,
              "#bd3786"
             ],
             [
              0.5555555555555556,
              "#d8576b"
             ],
             [
              0.6666666666666666,
              "#ed7953"
             ],
             [
              0.7777777777777778,
              "#fb9f3a"
             ],
             [
              0.8888888888888888,
              "#fdca26"
             ],
             [
              1.0,
              "#f0f921"
             ]
            ]
           }
          ],
          "heatmap": [
           {
            "type": "heatmap",
            "colorbar": {
             "outlinewidth": 0,
             "ticks": ""
            },
            "colorscale": [
             [
              0.0,
              "#0d0887"
             ],
             [
              0.1111111111111111,
              "#46039f"
             ],
             [
              0.2222222222222222,
              "#7201a8"
             ],
             [
              0.3333333333333333,
              "#9c179e"
             ],
             [
              0.4444444444444444,
              "#bd3786"
             ],
             [
              0.5555555555555556,
              "#d8576b"
             ],
             [
              0.6666666666666666,
              "#ed7953"
             ],
             [
              0.7777777777777778,
              "#fb9f3a"
             ],
             [
              0.8888888888888888,
              "#fdca26"
             ],
             [
              1.0,
              "#f0f921"
             ]
            ]
           }
          ],
          "heatmapgl": [
           {
            "type": "heatmapgl",
            "colorbar": {
             "outlinewidth": 0,
             "ticks": ""
            },
            "colorscale": [
             [
              0.0,
              "#0d0887"
             ],
             [
              0.1111111111111111,
              "#46039f"
             ],
             [
              0.2222222222222222,
              "#7201a8"
             ],
             [
              0.3333333333333333,
              "#9c179e"
             ],
             [
              0.4444444444444444,
              "#bd3786"
             ],
             [
              0.5555555555555556,
              "#d8576b"
             ],
             [
              0.6666666666666666,
              "#ed7953"
             ],
             [
              0.7777777777777778,
              "#fb9f3a"
             ],
             [
              0.8888888888888888,
              "#fdca26"
             ],
             [
              1.0,
              "#f0f921"
             ]
            ]
           }
          ],
          "contourcarpet": [
           {
            "type": "contourcarpet",
            "colorbar": {
             "outlinewidth": 0,
             "ticks": ""
            }
           }
          ],
          "contour": [
           {
            "type": "contour",
            "colorbar": {
             "outlinewidth": 0,
             "ticks": ""
            },
            "colorscale": [
             [
              0.0,
              "#0d0887"
             ],
             [
              0.1111111111111111,
              "#46039f"
             ],
             [
              0.2222222222222222,
              "#7201a8"
             ],
             [
              0.3333333333333333,
              "#9c179e"
             ],
             [
              0.4444444444444444,
              "#bd3786"
             ],
             [
              0.5555555555555556,
              "#d8576b"
             ],
             [
              0.6666666666666666,
              "#ed7953"
             ],
             [
              0.7777777777777778,
              "#fb9f3a"
             ],
             [
              0.8888888888888888,
              "#fdca26"
             ],
             [
              1.0,
              "#f0f921"
             ]
            ]
           }
          ],
          "surface": [
           {
            "type": "surface",
            "colorbar": {
             "outlinewidth": 0,
             "ticks": ""
            },
            "colorscale": [
             [
              0.0,
              "#0d0887"
             ],
             [
              0.1111111111111111,
              "#46039f"
             ],
             [
              0.2222222222222222,
              "#7201a8"
             ],
             [
              0.3333333333333333,
              "#9c179e"
             ],
             [
              0.4444444444444444,
              "#bd3786"
             ],
             [
              0.5555555555555556,
              "#d8576b"
             ],
             [
              0.6666666666666666,
              "#ed7953"
             ],
             [
              0.7777777777777778,
              "#fb9f3a"
             ],
             [
              0.8888888888888888,
              "#fdca26"
             ],
             [
              1.0,
              "#f0f921"
             ]
            ]
           }
          ],
          "mesh3d": [
           {
            "type": "mesh3d",
            "colorbar": {
             "outlinewidth": 0,
             "ticks": ""
            }
           }
          ],
          "scatter": [
           {
            "marker": {
             "line": {
              "color": "#283442"
             }
            },
            "type": "scatter"
           }
          ],
          "parcoords": [
           {
            "type": "parcoords",
            "line": {
             "colorbar": {
              "outlinewidth": 0,
              "ticks": ""
             }
            }
           }
          ],
          "scatterpolargl": [
           {
            "type": "scatterpolargl",
            "marker": {
             "colorbar": {
              "outlinewidth": 0,
              "ticks": ""
             }
            }
           }
          ],
          "bar": [
           {
            "error_x": {
             "color": "#f2f5fa"
            },
            "error_y": {
             "color": "#f2f5fa"
            },
            "marker": {
             "line": {
              "color": "rgb(17,17,17)",
              "width": 0.5
             },
             "pattern": {
              "fillmode": "overlay",
              "size": 10,
              "solidity": 0.2
             }
            },
            "type": "bar"
           }
          ],
          "scattergeo": [
           {
            "type": "scattergeo",
            "marker": {
             "colorbar": {
              "outlinewidth": 0,
              "ticks": ""
             }
            }
           }
          ],
          "scatterpolar": [
           {
            "type": "scatterpolar",
            "marker": {
             "colorbar": {
              "outlinewidth": 0,
              "ticks": ""
             }
            }
           }
          ],
          "histogram": [
           {
            "marker": {
             "pattern": {
              "fillmode": "overlay",
              "size": 10,
              "solidity": 0.2
             }
            },
            "type": "histogram"
           }
          ],
          "scattergl": [
           {
            "marker": {
             "line": {
              "color": "#283442"
             }
            },
            "type": "scattergl"
           }
          ],
          "scatter3d": [
           {
            "type": "scatter3d",
            "line": {
             "colorbar": {
              "outlinewidth": 0,
              "ticks": ""
             }
            },
            "marker": {
             "colorbar": {
              "outlinewidth": 0,
              "ticks": ""
             }
            }
           }
          ],
          "scattermapbox": [
           {
            "type": "scattermapbox",
            "marker": {
             "colorbar": {
              "outlinewidth": 0,
              "ticks": ""
             }
            }
           }
          ],
          "scatterternary": [
           {
            "type": "scatterternary",
            "marker": {
             "colorbar": {
              "outlinewidth": 0,
              "ticks": ""
             }
            }
           }
          ],
          "scattercarpet": [
           {
            "type": "scattercarpet",
            "marker": {
             "colorbar": {
              "outlinewidth": 0,
              "ticks": ""
             }
            }
           }
          ],
          "carpet": [
           {
            "aaxis": {
             "endlinecolor": "#A2B1C6",
             "gridcolor": "#506784",
             "linecolor": "#506784",
             "minorgridcolor": "#506784",
             "startlinecolor": "#A2B1C6"
            },
            "baxis": {
             "endlinecolor": "#A2B1C6",
             "gridcolor": "#506784",
             "linecolor": "#506784",
             "minorgridcolor": "#506784",
             "startlinecolor": "#A2B1C6"
            },
            "type": "carpet"
           }
          ],
          "table": [
           {
            "cells": {
             "fill": {
              "color": "#506784"
             },
             "line": {
              "color": "rgb(17,17,17)"
             }
            },
            "header": {
             "fill": {
              "color": "#2a3f5f"
             },
             "line": {
              "color": "rgb(17,17,17)"
             }
            },
            "type": "table"
           }
          ],
          "barpolar": [
           {
            "marker": {
             "line": {
              "color": "rgb(17,17,17)",
              "width": 0.5
             },
             "pattern": {
              "fillmode": "overlay",
              "size": 10,
              "solidity": 0.2
             }
            },
            "type": "barpolar"
           }
          ],
          "pie": [
           {
            "automargin": true,
            "type": "pie"
           }
          ]
         },
         "layout": {
          "autotypenumbers": "strict",
          "colorway": [
           "#636efa",
           "#EF553B",
           "#00cc96",
           "#ab63fa",
           "#FFA15A",
           "#19d3f3",
           "#FF6692",
           "#B6E880",
           "#FF97FF",
           "#FECB52"
          ],
          "font": {
           "color": "#f2f5fa"
          },
          "hovermode": "closest",
          "hoverlabel": {
           "align": "left"
          },
          "paper_bgcolor": "rgb(17,17,17)",
          "plot_bgcolor": "rgb(17,17,17)",
          "polar": {
           "bgcolor": "rgb(17,17,17)",
           "angularaxis": {
            "gridcolor": "#506784",
            "linecolor": "#506784",
            "ticks": ""
           },
           "radialaxis": {
            "gridcolor": "#506784",
            "linecolor": "#506784",
            "ticks": ""
           }
          },
          "ternary": {
           "bgcolor": "rgb(17,17,17)",
           "aaxis": {
            "gridcolor": "#506784",
            "linecolor": "#506784",
            "ticks": ""
           },
           "baxis": {
            "gridcolor": "#506784",
            "linecolor": "#506784",
            "ticks": ""
           },
           "caxis": {
            "gridcolor": "#506784",
            "linecolor": "#506784",
            "ticks": ""
           }
          },
          "coloraxis": {
           "colorbar": {
            "outlinewidth": 0,
            "ticks": ""
           }
          },
          "colorscale": {
           "sequential": [
            [
             0.0,
             "#0d0887"
            ],
            [
             0.1111111111111111,
             "#46039f"
            ],
            [
             0.2222222222222222,
             "#7201a8"
            ],
            [
             0.3333333333333333,
             "#9c179e"
            ],
            [
             0.4444444444444444,
             "#bd3786"
            ],
            [
             0.5555555555555556,
             "#d8576b"
            ],
            [
             0.6666666666666666,
             "#ed7953"
            ],
            [
             0.7777777777777778,
             "#fb9f3a"
            ],
            [
             0.8888888888888888,
             "#fdca26"
            ],
            [
             1.0,
             "#f0f921"
            ]
           ],
           "sequentialminus": [
            [
             0.0,
             "#0d0887"
            ],
            [
             0.1111111111111111,
             "#46039f"
            ],
            [
             0.2222222222222222,
             "#7201a8"
            ],
            [
             0.3333333333333333,
             "#9c179e"
            ],
            [
             0.4444444444444444,
             "#bd3786"
            ],
            [
             0.5555555555555556,
             "#d8576b"
            ],
            [
             0.6666666666666666,
             "#ed7953"
            ],
            [
             0.7777777777777778,
             "#fb9f3a"
            ],
            [
             0.8888888888888888,
             "#fdca26"
            ],
            [
             1.0,
             "#f0f921"
            ]
           ],
           "diverging": [
            [
             0,
             "#8e0152"
            ],
            [
             0.1,
             "#c51b7d"
            ],
            [
             0.2,
             "#de77ae"
            ],
            [
             0.3,
             "#f1b6da"
            ],
            [
             0.4,
             "#fde0ef"
            ],
            [
             0.5,
             "#f7f7f7"
            ],
            [
             0.6,
             "#e6f5d0"
            ],
            [
             0.7,
             "#b8e186"
            ],
            [
             0.8,
             "#7fbc41"
            ],
            [
             0.9,
             "#4d9221"
            ],
            [
             1,
             "#276419"
            ]
           ]
          },
          "xaxis": {
           "gridcolor": "#283442",
           "linecolor": "#506784",
           "ticks": "",
           "title": {
            "standoff": 15
           },
           "zerolinecolor": "#283442",
           "automargin": true,
           "zerolinewidth": 2
          },
          "yaxis": {
           "gridcolor": "#283442",
           "linecolor": "#506784",
           "ticks": "",
           "title": {
            "standoff": 15
           },
           "zerolinecolor": "#283442",
           "automargin": true,
           "zerolinewidth": 2
          },
          "scene": {
           "xaxis": {
            "backgroundcolor": "rgb(17,17,17)",
            "gridcolor": "#506784",
            "linecolor": "#506784",
            "showbackground": true,
            "ticks": "",
            "zerolinecolor": "#C8D4E3",
            "gridwidth": 2
           },
           "yaxis": {
            "backgroundcolor": "rgb(17,17,17)",
            "gridcolor": "#506784",
            "linecolor": "#506784",
            "showbackground": true,
            "ticks": "",
            "zerolinecolor": "#C8D4E3",
            "gridwidth": 2
           },
           "zaxis": {
            "backgroundcolor": "rgb(17,17,17)",
            "gridcolor": "#506784",
            "linecolor": "#506784",
            "showbackground": true,
            "ticks": "",
            "zerolinecolor": "#C8D4E3",
            "gridwidth": 2
           }
          },
          "shapedefaults": {
           "line": {
            "color": "#f2f5fa"
           }
          },
          "annotationdefaults": {
           "arrowcolor": "#f2f5fa",
           "arrowhead": 0,
           "arrowwidth": 1
          },
          "geo": {
           "bgcolor": "rgb(17,17,17)",
           "landcolor": "rgb(17,17,17)",
           "subunitcolor": "#506784",
           "showland": true,
           "showlakes": true,
           "lakecolor": "rgb(17,17,17)"
          },
          "title": {
           "x": 0.05
          },
          "updatemenudefaults": {
           "bgcolor": "#506784",
           "borderwidth": 0
          },
          "sliderdefaults": {
           "bgcolor": "#C8D4E3",
           "borderwidth": 1,
           "bordercolor": "rgb(17,17,17)",
           "tickwidth": 0
          },
          "mapbox": {
           "style": "dark"
          }
         }
        },
        "xaxis": {
         "anchor": "y",
         "domain": [
          0.0,
          1.0
         ],
         "title": {
          "text": "Num_workers"
         }
        },
        "yaxis": {
         "anchor": "x",
         "domain": [
          0.0,
          1.0
         ],
         "title": {
          "text": "Joules"
         }
        },
        "legend": {
         "title": {
          "text": "Resolution"
         },
         "tracegroupgap": 0
        },
        "title": {
         "text": "Joules per PCL"
        },
        "barmode": "group"
       },
       "config": {
        "plotlyServerURL": "https://plot.ly"
       }
      },
      "text/html": [
       "<div>                            <div id=\"c3ef8047-79ba-47ae-9aaa-54204edc106f\" class=\"plotly-graph-div\" style=\"height:525px; width:100%;\"></div>            <script type=\"text/javascript\">                require([\"plotly\"], function(Plotly) {                    window.PLOTLYENV=window.PLOTLYENV || {};                                    if (document.getElementById(\"c3ef8047-79ba-47ae-9aaa-54204edc106f\")) {                    Plotly.newPlot(                        \"c3ef8047-79ba-47ae-9aaa-54204edc106f\",                        [{\"alignmentgroup\":\"True\",\"hovertemplate\":\"variable=1000\\u003cbr\\u003eModel=%{x}\\u003cbr\\u003eMax Power (Watts)=%{y}\\u003cextra\\u003e\\u003c\\u002fextra\\u003e\",\"legendgroup\":\"1000\",\"marker\":{\"color\":\"#636efa\",\"pattern\":{\"shape\":\"\"}},\"name\":\"1000\",\"offsetgroup\":\"1000\",\"orientation\":\"v\",\"showlegend\":true,\"textposition\":\"auto\",\"x\":[8,30,2,6,5,7,1,3,10,4,20,9],\"xaxis\":\"x\",\"y\":[6.064468999998178,5.906219999997411,6.842358000000939,6.139637999998871,6.202277000002563,5.368023999998346,9.456297000000253,6.166562000005506,6.010161000000779,6.230456000004895,6.127284000001848,6.023952999998349],\"yaxis\":\"y\",\"type\":\"bar\"},{\"alignmentgroup\":\"True\",\"hovertemplate\":\"variable=5000\\u003cbr\\u003eModel=%{x}\\u003cbr\\u003eMax Power (Watts)=%{y}\\u003cextra\\u003e\\u003c\\u002fextra\\u003e\",\"legendgroup\":\"5000\",\"marker\":{\"color\":\"#EF553B\",\"pattern\":{\"shape\":\"\"}},\"name\":\"5000\",\"offsetgroup\":\"5000\",\"orientation\":\"v\",\"showlegend\":true,\"textposition\":\"auto\",\"x\":[8,30,2,6,5,7,1,3,10,4,20,9],\"xaxis\":\"x\",\"y\":[12.769724999996368,11.85647799999686,17.09112000000244,12.907744999997783,13.49605199999595,12.861686999998522,23.0961689999965,14.872319000000134,12.629761999999173,14.022463000003249,11.79579299999727,12.733097000003326],\"yaxis\":\"y\",\"type\":\"bar\"},{\"alignmentgroup\":\"True\",\"hovertemplate\":\"variable=10000\\u003cbr\\u003eModel=%{x}\\u003cbr\\u003eMax Power (Watts)=%{y}\\u003cextra\\u003e\\u003c\\u002fextra\\u003e\",\"legendgroup\":\"10000\",\"marker\":{\"color\":\"#00cc96\",\"pattern\":{\"shape\":\"\"}},\"name\":\"10000\",\"offsetgroup\":\"10000\",\"orientation\":\"v\",\"showlegend\":true,\"textposition\":\"auto\",\"x\":[8,30,2,6,5,7,1,3,10,4,20,9],\"xaxis\":\"x\",\"y\":[20.306775999997743,17.83675800000038,28.791017999993173,21.32509899999574,23.088807999997865,20.783486000000966,12.725533999998587,25.63062699999893,19.832033000003545,24.0330449999962,17.958635999999476,20.004848000003026],\"yaxis\":\"y\",\"type\":\"bar\"}],                        {\"template\":{\"data\":{\"histogram2dcontour\":[{\"type\":\"histogram2dcontour\",\"colorbar\":{\"outlinewidth\":0,\"ticks\":\"\"},\"colorscale\":[[0.0,\"#0d0887\"],[0.1111111111111111,\"#46039f\"],[0.2222222222222222,\"#7201a8\"],[0.3333333333333333,\"#9c179e\"],[0.4444444444444444,\"#bd3786\"],[0.5555555555555556,\"#d8576b\"],[0.6666666666666666,\"#ed7953\"],[0.7777777777777778,\"#fb9f3a\"],[0.8888888888888888,\"#fdca26\"],[1.0,\"#f0f921\"]]}],\"choropleth\":[{\"type\":\"choropleth\",\"colorbar\":{\"outlinewidth\":0,\"ticks\":\"\"}}],\"histogram2d\":[{\"type\":\"histogram2d\",\"colorbar\":{\"outlinewidth\":0,\"ticks\":\"\"},\"colorscale\":[[0.0,\"#0d0887\"],[0.1111111111111111,\"#46039f\"],[0.2222222222222222,\"#7201a8\"],[0.3333333333333333,\"#9c179e\"],[0.4444444444444444,\"#bd3786\"],[0.5555555555555556,\"#d8576b\"],[0.6666666666666666,\"#ed7953\"],[0.7777777777777778,\"#fb9f3a\"],[0.8888888888888888,\"#fdca26\"],[1.0,\"#f0f921\"]]}],\"heatmap\":[{\"type\":\"heatmap\",\"colorbar\":{\"outlinewidth\":0,\"ticks\":\"\"},\"colorscale\":[[0.0,\"#0d0887\"],[0.1111111111111111,\"#46039f\"],[0.2222222222222222,\"#7201a8\"],[0.3333333333333333,\"#9c179e\"],[0.4444444444444444,\"#bd3786\"],[0.5555555555555556,\"#d8576b\"],[0.6666666666666666,\"#ed7953\"],[0.7777777777777778,\"#fb9f3a\"],[0.8888888888888888,\"#fdca26\"],[1.0,\"#f0f921\"]]}],\"heatmapgl\":[{\"type\":\"heatmapgl\",\"colorbar\":{\"outlinewidth\":0,\"ticks\":\"\"},\"colorscale\":[[0.0,\"#0d0887\"],[0.1111111111111111,\"#46039f\"],[0.2222222222222222,\"#7201a8\"],[0.3333333333333333,\"#9c179e\"],[0.4444444444444444,\"#bd3786\"],[0.5555555555555556,\"#d8576b\"],[0.6666666666666666,\"#ed7953\"],[0.7777777777777778,\"#fb9f3a\"],[0.8888888888888888,\"#fdca26\"],[1.0,\"#f0f921\"]]}],\"contourcarpet\":[{\"type\":\"contourcarpet\",\"colorbar\":{\"outlinewidth\":0,\"ticks\":\"\"}}],\"contour\":[{\"type\":\"contour\",\"colorbar\":{\"outlinewidth\":0,\"ticks\":\"\"},\"colorscale\":[[0.0,\"#0d0887\"],[0.1111111111111111,\"#46039f\"],[0.2222222222222222,\"#7201a8\"],[0.3333333333333333,\"#9c179e\"],[0.4444444444444444,\"#bd3786\"],[0.5555555555555556,\"#d8576b\"],[0.6666666666666666,\"#ed7953\"],[0.7777777777777778,\"#fb9f3a\"],[0.8888888888888888,\"#fdca26\"],[1.0,\"#f0f921\"]]}],\"surface\":[{\"type\":\"surface\",\"colorbar\":{\"outlinewidth\":0,\"ticks\":\"\"},\"colorscale\":[[0.0,\"#0d0887\"],[0.1111111111111111,\"#46039f\"],[0.2222222222222222,\"#7201a8\"],[0.3333333333333333,\"#9c179e\"],[0.4444444444444444,\"#bd3786\"],[0.5555555555555556,\"#d8576b\"],[0.6666666666666666,\"#ed7953\"],[0.7777777777777778,\"#fb9f3a\"],[0.8888888888888888,\"#fdca26\"],[1.0,\"#f0f921\"]]}],\"mesh3d\":[{\"type\":\"mesh3d\",\"colorbar\":{\"outlinewidth\":0,\"ticks\":\"\"}}],\"scatter\":[{\"marker\":{\"line\":{\"color\":\"#283442\"}},\"type\":\"scatter\"}],\"parcoords\":[{\"type\":\"parcoords\",\"line\":{\"colorbar\":{\"outlinewidth\":0,\"ticks\":\"\"}}}],\"scatterpolargl\":[{\"type\":\"scatterpolargl\",\"marker\":{\"colorbar\":{\"outlinewidth\":0,\"ticks\":\"\"}}}],\"bar\":[{\"error_x\":{\"color\":\"#f2f5fa\"},\"error_y\":{\"color\":\"#f2f5fa\"},\"marker\":{\"line\":{\"color\":\"rgb(17,17,17)\",\"width\":0.5},\"pattern\":{\"fillmode\":\"overlay\",\"size\":10,\"solidity\":0.2}},\"type\":\"bar\"}],\"scattergeo\":[{\"type\":\"scattergeo\",\"marker\":{\"colorbar\":{\"outlinewidth\":0,\"ticks\":\"\"}}}],\"scatterpolar\":[{\"type\":\"scatterpolar\",\"marker\":{\"colorbar\":{\"outlinewidth\":0,\"ticks\":\"\"}}}],\"histogram\":[{\"marker\":{\"pattern\":{\"fillmode\":\"overlay\",\"size\":10,\"solidity\":0.2}},\"type\":\"histogram\"}],\"scattergl\":[{\"marker\":{\"line\":{\"color\":\"#283442\"}},\"type\":\"scattergl\"}],\"scatter3d\":[{\"type\":\"scatter3d\",\"line\":{\"colorbar\":{\"outlinewidth\":0,\"ticks\":\"\"}},\"marker\":{\"colorbar\":{\"outlinewidth\":0,\"ticks\":\"\"}}}],\"scattermapbox\":[{\"type\":\"scattermapbox\",\"marker\":{\"colorbar\":{\"outlinewidth\":0,\"ticks\":\"\"}}}],\"scatterternary\":[{\"type\":\"scatterternary\",\"marker\":{\"colorbar\":{\"outlinewidth\":0,\"ticks\":\"\"}}}],\"scattercarpet\":[{\"type\":\"scattercarpet\",\"marker\":{\"colorbar\":{\"outlinewidth\":0,\"ticks\":\"\"}}}],\"carpet\":[{\"aaxis\":{\"endlinecolor\":\"#A2B1C6\",\"gridcolor\":\"#506784\",\"linecolor\":\"#506784\",\"minorgridcolor\":\"#506784\",\"startlinecolor\":\"#A2B1C6\"},\"baxis\":{\"endlinecolor\":\"#A2B1C6\",\"gridcolor\":\"#506784\",\"linecolor\":\"#506784\",\"minorgridcolor\":\"#506784\",\"startlinecolor\":\"#A2B1C6\"},\"type\":\"carpet\"}],\"table\":[{\"cells\":{\"fill\":{\"color\":\"#506784\"},\"line\":{\"color\":\"rgb(17,17,17)\"}},\"header\":{\"fill\":{\"color\":\"#2a3f5f\"},\"line\":{\"color\":\"rgb(17,17,17)\"}},\"type\":\"table\"}],\"barpolar\":[{\"marker\":{\"line\":{\"color\":\"rgb(17,17,17)\",\"width\":0.5},\"pattern\":{\"fillmode\":\"overlay\",\"size\":10,\"solidity\":0.2}},\"type\":\"barpolar\"}],\"pie\":[{\"automargin\":true,\"type\":\"pie\"}]},\"layout\":{\"autotypenumbers\":\"strict\",\"colorway\":[\"#636efa\",\"#EF553B\",\"#00cc96\",\"#ab63fa\",\"#FFA15A\",\"#19d3f3\",\"#FF6692\",\"#B6E880\",\"#FF97FF\",\"#FECB52\"],\"font\":{\"color\":\"#f2f5fa\"},\"hovermode\":\"closest\",\"hoverlabel\":{\"align\":\"left\"},\"paper_bgcolor\":\"rgb(17,17,17)\",\"plot_bgcolor\":\"rgb(17,17,17)\",\"polar\":{\"bgcolor\":\"rgb(17,17,17)\",\"angularaxis\":{\"gridcolor\":\"#506784\",\"linecolor\":\"#506784\",\"ticks\":\"\"},\"radialaxis\":{\"gridcolor\":\"#506784\",\"linecolor\":\"#506784\",\"ticks\":\"\"}},\"ternary\":{\"bgcolor\":\"rgb(17,17,17)\",\"aaxis\":{\"gridcolor\":\"#506784\",\"linecolor\":\"#506784\",\"ticks\":\"\"},\"baxis\":{\"gridcolor\":\"#506784\",\"linecolor\":\"#506784\",\"ticks\":\"\"},\"caxis\":{\"gridcolor\":\"#506784\",\"linecolor\":\"#506784\",\"ticks\":\"\"}},\"coloraxis\":{\"colorbar\":{\"outlinewidth\":0,\"ticks\":\"\"}},\"colorscale\":{\"sequential\":[[0.0,\"#0d0887\"],[0.1111111111111111,\"#46039f\"],[0.2222222222222222,\"#7201a8\"],[0.3333333333333333,\"#9c179e\"],[0.4444444444444444,\"#bd3786\"],[0.5555555555555556,\"#d8576b\"],[0.6666666666666666,\"#ed7953\"],[0.7777777777777778,\"#fb9f3a\"],[0.8888888888888888,\"#fdca26\"],[1.0,\"#f0f921\"]],\"sequentialminus\":[[0.0,\"#0d0887\"],[0.1111111111111111,\"#46039f\"],[0.2222222222222222,\"#7201a8\"],[0.3333333333333333,\"#9c179e\"],[0.4444444444444444,\"#bd3786\"],[0.5555555555555556,\"#d8576b\"],[0.6666666666666666,\"#ed7953\"],[0.7777777777777778,\"#fb9f3a\"],[0.8888888888888888,\"#fdca26\"],[1.0,\"#f0f921\"]],\"diverging\":[[0,\"#8e0152\"],[0.1,\"#c51b7d\"],[0.2,\"#de77ae\"],[0.3,\"#f1b6da\"],[0.4,\"#fde0ef\"],[0.5,\"#f7f7f7\"],[0.6,\"#e6f5d0\"],[0.7,\"#b8e186\"],[0.8,\"#7fbc41\"],[0.9,\"#4d9221\"],[1,\"#276419\"]]},\"xaxis\":{\"gridcolor\":\"#283442\",\"linecolor\":\"#506784\",\"ticks\":\"\",\"title\":{\"standoff\":15},\"zerolinecolor\":\"#283442\",\"automargin\":true,\"zerolinewidth\":2},\"yaxis\":{\"gridcolor\":\"#283442\",\"linecolor\":\"#506784\",\"ticks\":\"\",\"title\":{\"standoff\":15},\"zerolinecolor\":\"#283442\",\"automargin\":true,\"zerolinewidth\":2},\"scene\":{\"xaxis\":{\"backgroundcolor\":\"rgb(17,17,17)\",\"gridcolor\":\"#506784\",\"linecolor\":\"#506784\",\"showbackground\":true,\"ticks\":\"\",\"zerolinecolor\":\"#C8D4E3\",\"gridwidth\":2},\"yaxis\":{\"backgroundcolor\":\"rgb(17,17,17)\",\"gridcolor\":\"#506784\",\"linecolor\":\"#506784\",\"showbackground\":true,\"ticks\":\"\",\"zerolinecolor\":\"#C8D4E3\",\"gridwidth\":2},\"zaxis\":{\"backgroundcolor\":\"rgb(17,17,17)\",\"gridcolor\":\"#506784\",\"linecolor\":\"#506784\",\"showbackground\":true,\"ticks\":\"\",\"zerolinecolor\":\"#C8D4E3\",\"gridwidth\":2}},\"shapedefaults\":{\"line\":{\"color\":\"#f2f5fa\"}},\"annotationdefaults\":{\"arrowcolor\":\"#f2f5fa\",\"arrowhead\":0,\"arrowwidth\":1},\"geo\":{\"bgcolor\":\"rgb(17,17,17)\",\"landcolor\":\"rgb(17,17,17)\",\"subunitcolor\":\"#506784\",\"showland\":true,\"showlakes\":true,\"lakecolor\":\"rgb(17,17,17)\"},\"title\":{\"x\":0.05},\"updatemenudefaults\":{\"bgcolor\":\"#506784\",\"borderwidth\":0},\"sliderdefaults\":{\"bgcolor\":\"#C8D4E3\",\"borderwidth\":1,\"bordercolor\":\"rgb(17,17,17)\",\"tickwidth\":0},\"mapbox\":{\"style\":\"dark\"}}},\"xaxis\":{\"anchor\":\"y\",\"domain\":[0.0,1.0],\"title\":{\"text\":\"Num_workers\"}},\"yaxis\":{\"anchor\":\"x\",\"domain\":[0.0,1.0],\"title\":{\"text\":\"Joules\"}},\"legend\":{\"title\":{\"text\":\"Resolution\"},\"tracegroupgap\":0},\"title\":{\"text\":\"Joules per PCL\"},\"barmode\":\"group\"},                        {\"responsive\": true}                    ).then(function(){\n",
       "                            \n",
       "var gd = document.getElementById('c3ef8047-79ba-47ae-9aaa-54204edc106f');\n",
       "var x = new MutationObserver(function (mutations, observer) {{\n",
       "        var display = window.getComputedStyle(gd).display;\n",
       "        if (!display || display === 'none') {{\n",
       "            console.log([gd, 'removed!']);\n",
       "            Plotly.purge(gd);\n",
       "            observer.disconnect();\n",
       "        }}\n",
       "}});\n",
       "\n",
       "// Listen for the removal of the full notebook cells\n",
       "var notebookContainer = gd.closest('#notebook-container');\n",
       "if (notebookContainer) {{\n",
       "    x.observe(notebookContainer, {childList: true});\n",
       "}}\n",
       "\n",
       "// Listen for the clearing of the current output cell\n",
       "var outputEl = gd.closest('.output');\n",
       "if (outputEl) {{\n",
       "    x.observe(outputEl, {childList: true});\n",
       "}}\n",
       "\n",
       "                        })                };                });            </script>        </div>"
      ]
     },
     "metadata": {},
     "output_type": "display_data"
    },
    {
     "data": {
      "application/vnd.plotly.v1+json": {
       "data": [
        {
         "alignmentgroup": "True",
         "hovertemplate": "variable=1000<br>Model=%{x}<br>Max Power (Watts)=%{y}<extra></extra>",
         "legendgroup": "1000",
         "marker": {
          "color": "#636efa",
          "pattern": {
           "shape": ""
          }
         },
         "name": "1000",
         "offsetgroup": "1000",
         "orientation": "v",
         "showlegend": true,
         "textposition": "auto",
         "x": [
          8,
          30,
          2,
          6,
          5,
          7,
          1,
          3,
          10,
          4,
          20,
          9
         ],
         "xaxis": "x",
         "y": [
          6.064468999998178,
          5.906219999997411,
          6.842358000000939,
          6.139637999998871,
          6.202277000002563,
          5.368023999998346,
          9.456297000000253,
          6.166562000005506,
          6.010161000000779,
          6.230456000004895,
          6.127284000001848,
          6.023952999998349
         ],
         "yaxis": "y",
         "type": "bar"
        },
        {
         "alignmentgroup": "True",
         "hovertemplate": "variable=5000<br>Model=%{x}<br>Max Power (Watts)=%{y}<extra></extra>",
         "legendgroup": "5000",
         "marker": {
          "color": "#EF553B",
          "pattern": {
           "shape": ""
          }
         },
         "name": "5000",
         "offsetgroup": "5000",
         "orientation": "v",
         "showlegend": true,
         "textposition": "auto",
         "x": [
          8,
          30,
          2,
          6,
          5,
          7,
          1,
          3,
          10,
          4,
          20,
          9
         ],
         "xaxis": "x",
         "y": [
          12.769724999996368,
          11.85647799999686,
          17.09112000000244,
          12.907744999997783,
          13.49605199999595,
          12.861686999998522,
          23.0961689999965,
          14.872319000000134,
          12.629761999999173,
          14.022463000003249,
          11.79579299999727,
          12.733097000003326
         ],
         "yaxis": "y",
         "type": "bar"
        },
        {
         "alignmentgroup": "True",
         "hovertemplate": "variable=10000<br>Model=%{x}<br>Max Power (Watts)=%{y}<extra></extra>",
         "legendgroup": "10000",
         "marker": {
          "color": "#00cc96",
          "pattern": {
           "shape": ""
          }
         },
         "name": "10000",
         "offsetgroup": "10000",
         "orientation": "v",
         "showlegend": true,
         "textposition": "auto",
         "x": [
          8,
          30,
          2,
          6,
          5,
          7,
          1,
          3,
          10,
          4,
          20,
          9
         ],
         "xaxis": "x",
         "y": [
          20.306775999997743,
          17.83675800000038,
          28.791017999993173,
          21.32509899999574,
          23.088807999997865,
          20.783486000000966,
          12.725533999998587,
          25.63062699999893,
          19.832033000003545,
          24.0330449999962,
          17.958635999999476,
          20.004848000003026
         ],
         "yaxis": "y",
         "type": "bar"
        }
       ],
       "layout": {
        "template": {
         "data": {
          "histogram2dcontour": [
           {
            "type": "histogram2dcontour",
            "colorbar": {
             "outlinewidth": 0,
             "ticks": ""
            },
            "colorscale": [
             [
              0.0,
              "#0d0887"
             ],
             [
              0.1111111111111111,
              "#46039f"
             ],
             [
              0.2222222222222222,
              "#7201a8"
             ],
             [
              0.3333333333333333,
              "#9c179e"
             ],
             [
              0.4444444444444444,
              "#bd3786"
             ],
             [
              0.5555555555555556,
              "#d8576b"
             ],
             [
              0.6666666666666666,
              "#ed7953"
             ],
             [
              0.7777777777777778,
              "#fb9f3a"
             ],
             [
              0.8888888888888888,
              "#fdca26"
             ],
             [
              1.0,
              "#f0f921"
             ]
            ]
           }
          ],
          "choropleth": [
           {
            "type": "choropleth",
            "colorbar": {
             "outlinewidth": 0,
             "ticks": ""
            }
           }
          ],
          "histogram2d": [
           {
            "type": "histogram2d",
            "colorbar": {
             "outlinewidth": 0,
             "ticks": ""
            },
            "colorscale": [
             [
              0.0,
              "#0d0887"
             ],
             [
              0.1111111111111111,
              "#46039f"
             ],
             [
              0.2222222222222222,
              "#7201a8"
             ],
             [
              0.3333333333333333,
              "#9c179e"
             ],
             [
              0.4444444444444444,
              "#bd3786"
             ],
             [
              0.5555555555555556,
              "#d8576b"
             ],
             [
              0.6666666666666666,
              "#ed7953"
             ],
             [
              0.7777777777777778,
              "#fb9f3a"
             ],
             [
              0.8888888888888888,
              "#fdca26"
             ],
             [
              1.0,
              "#f0f921"
             ]
            ]
           }
          ],
          "heatmap": [
           {
            "type": "heatmap",
            "colorbar": {
             "outlinewidth": 0,
             "ticks": ""
            },
            "colorscale": [
             [
              0.0,
              "#0d0887"
             ],
             [
              0.1111111111111111,
              "#46039f"
             ],
             [
              0.2222222222222222,
              "#7201a8"
             ],
             [
              0.3333333333333333,
              "#9c179e"
             ],
             [
              0.4444444444444444,
              "#bd3786"
             ],
             [
              0.5555555555555556,
              "#d8576b"
             ],
             [
              0.6666666666666666,
              "#ed7953"
             ],
             [
              0.7777777777777778,
              "#fb9f3a"
             ],
             [
              0.8888888888888888,
              "#fdca26"
             ],
             [
              1.0,
              "#f0f921"
             ]
            ]
           }
          ],
          "heatmapgl": [
           {
            "type": "heatmapgl",
            "colorbar": {
             "outlinewidth": 0,
             "ticks": ""
            },
            "colorscale": [
             [
              0.0,
              "#0d0887"
             ],
             [
              0.1111111111111111,
              "#46039f"
             ],
             [
              0.2222222222222222,
              "#7201a8"
             ],
             [
              0.3333333333333333,
              "#9c179e"
             ],
             [
              0.4444444444444444,
              "#bd3786"
             ],
             [
              0.5555555555555556,
              "#d8576b"
             ],
             [
              0.6666666666666666,
              "#ed7953"
             ],
             [
              0.7777777777777778,
              "#fb9f3a"
             ],
             [
              0.8888888888888888,
              "#fdca26"
             ],
             [
              1.0,
              "#f0f921"
             ]
            ]
           }
          ],
          "contourcarpet": [
           {
            "type": "contourcarpet",
            "colorbar": {
             "outlinewidth": 0,
             "ticks": ""
            }
           }
          ],
          "contour": [
           {
            "type": "contour",
            "colorbar": {
             "outlinewidth": 0,
             "ticks": ""
            },
            "colorscale": [
             [
              0.0,
              "#0d0887"
             ],
             [
              0.1111111111111111,
              "#46039f"
             ],
             [
              0.2222222222222222,
              "#7201a8"
             ],
             [
              0.3333333333333333,
              "#9c179e"
             ],
             [
              0.4444444444444444,
              "#bd3786"
             ],
             [
              0.5555555555555556,
              "#d8576b"
             ],
             [
              0.6666666666666666,
              "#ed7953"
             ],
             [
              0.7777777777777778,
              "#fb9f3a"
             ],
             [
              0.8888888888888888,
              "#fdca26"
             ],
             [
              1.0,
              "#f0f921"
             ]
            ]
           }
          ],
          "surface": [
           {
            "type": "surface",
            "colorbar": {
             "outlinewidth": 0,
             "ticks": ""
            },
            "colorscale": [
             [
              0.0,
              "#0d0887"
             ],
             [
              0.1111111111111111,
              "#46039f"
             ],
             [
              0.2222222222222222,
              "#7201a8"
             ],
             [
              0.3333333333333333,
              "#9c179e"
             ],
             [
              0.4444444444444444,
              "#bd3786"
             ],
             [
              0.5555555555555556,
              "#d8576b"
             ],
             [
              0.6666666666666666,
              "#ed7953"
             ],
             [
              0.7777777777777778,
              "#fb9f3a"
             ],
             [
              0.8888888888888888,
              "#fdca26"
             ],
             [
              1.0,
              "#f0f921"
             ]
            ]
           }
          ],
          "mesh3d": [
           {
            "type": "mesh3d",
            "colorbar": {
             "outlinewidth": 0,
             "ticks": ""
            }
           }
          ],
          "scatter": [
           {
            "marker": {
             "line": {
              "color": "#283442"
             }
            },
            "type": "scatter"
           }
          ],
          "parcoords": [
           {
            "type": "parcoords",
            "line": {
             "colorbar": {
              "outlinewidth": 0,
              "ticks": ""
             }
            }
           }
          ],
          "scatterpolargl": [
           {
            "type": "scatterpolargl",
            "marker": {
             "colorbar": {
              "outlinewidth": 0,
              "ticks": ""
             }
            }
           }
          ],
          "bar": [
           {
            "error_x": {
             "color": "#f2f5fa"
            },
            "error_y": {
             "color": "#f2f5fa"
            },
            "marker": {
             "line": {
              "color": "rgb(17,17,17)",
              "width": 0.5
             },
             "pattern": {
              "fillmode": "overlay",
              "size": 10,
              "solidity": 0.2
             }
            },
            "type": "bar"
           }
          ],
          "scattergeo": [
           {
            "type": "scattergeo",
            "marker": {
             "colorbar": {
              "outlinewidth": 0,
              "ticks": ""
             }
            }
           }
          ],
          "scatterpolar": [
           {
            "type": "scatterpolar",
            "marker": {
             "colorbar": {
              "outlinewidth": 0,
              "ticks": ""
             }
            }
           }
          ],
          "histogram": [
           {
            "marker": {
             "pattern": {
              "fillmode": "overlay",
              "size": 10,
              "solidity": 0.2
             }
            },
            "type": "histogram"
           }
          ],
          "scattergl": [
           {
            "marker": {
             "line": {
              "color": "#283442"
             }
            },
            "type": "scattergl"
           }
          ],
          "scatter3d": [
           {
            "type": "scatter3d",
            "line": {
             "colorbar": {
              "outlinewidth": 0,
              "ticks": ""
             }
            },
            "marker": {
             "colorbar": {
              "outlinewidth": 0,
              "ticks": ""
             }
            }
           }
          ],
          "scattermapbox": [
           {
            "type": "scattermapbox",
            "marker": {
             "colorbar": {
              "outlinewidth": 0,
              "ticks": ""
             }
            }
           }
          ],
          "scatterternary": [
           {
            "type": "scatterternary",
            "marker": {
             "colorbar": {
              "outlinewidth": 0,
              "ticks": ""
             }
            }
           }
          ],
          "scattercarpet": [
           {
            "type": "scattercarpet",
            "marker": {
             "colorbar": {
              "outlinewidth": 0,
              "ticks": ""
             }
            }
           }
          ],
          "carpet": [
           {
            "aaxis": {
             "endlinecolor": "#A2B1C6",
             "gridcolor": "#506784",
             "linecolor": "#506784",
             "minorgridcolor": "#506784",
             "startlinecolor": "#A2B1C6"
            },
            "baxis": {
             "endlinecolor": "#A2B1C6",
             "gridcolor": "#506784",
             "linecolor": "#506784",
             "minorgridcolor": "#506784",
             "startlinecolor": "#A2B1C6"
            },
            "type": "carpet"
           }
          ],
          "table": [
           {
            "cells": {
             "fill": {
              "color": "#506784"
             },
             "line": {
              "color": "rgb(17,17,17)"
             }
            },
            "header": {
             "fill": {
              "color": "#2a3f5f"
             },
             "line": {
              "color": "rgb(17,17,17)"
             }
            },
            "type": "table"
           }
          ],
          "barpolar": [
           {
            "marker": {
             "line": {
              "color": "rgb(17,17,17)",
              "width": 0.5
             },
             "pattern": {
              "fillmode": "overlay",
              "size": 10,
              "solidity": 0.2
             }
            },
            "type": "barpolar"
           }
          ],
          "pie": [
           {
            "automargin": true,
            "type": "pie"
           }
          ]
         },
         "layout": {
          "autotypenumbers": "strict",
          "colorway": [
           "#636efa",
           "#EF553B",
           "#00cc96",
           "#ab63fa",
           "#FFA15A",
           "#19d3f3",
           "#FF6692",
           "#B6E880",
           "#FF97FF",
           "#FECB52"
          ],
          "font": {
           "color": "#f2f5fa"
          },
          "hovermode": "closest",
          "hoverlabel": {
           "align": "left"
          },
          "paper_bgcolor": "rgb(17,17,17)",
          "plot_bgcolor": "rgb(17,17,17)",
          "polar": {
           "bgcolor": "rgb(17,17,17)",
           "angularaxis": {
            "gridcolor": "#506784",
            "linecolor": "#506784",
            "ticks": ""
           },
           "radialaxis": {
            "gridcolor": "#506784",
            "linecolor": "#506784",
            "ticks": ""
           }
          },
          "ternary": {
           "bgcolor": "rgb(17,17,17)",
           "aaxis": {
            "gridcolor": "#506784",
            "linecolor": "#506784",
            "ticks": ""
           },
           "baxis": {
            "gridcolor": "#506784",
            "linecolor": "#506784",
            "ticks": ""
           },
           "caxis": {
            "gridcolor": "#506784",
            "linecolor": "#506784",
            "ticks": ""
           }
          },
          "coloraxis": {
           "colorbar": {
            "outlinewidth": 0,
            "ticks": ""
           }
          },
          "colorscale": {
           "sequential": [
            [
             0.0,
             "#0d0887"
            ],
            [
             0.1111111111111111,
             "#46039f"
            ],
            [
             0.2222222222222222,
             "#7201a8"
            ],
            [
             0.3333333333333333,
             "#9c179e"
            ],
            [
             0.4444444444444444,
             "#bd3786"
            ],
            [
             0.5555555555555556,
             "#d8576b"
            ],
            [
             0.6666666666666666,
             "#ed7953"
            ],
            [
             0.7777777777777778,
             "#fb9f3a"
            ],
            [
             0.8888888888888888,
             "#fdca26"
            ],
            [
             1.0,
             "#f0f921"
            ]
           ],
           "sequentialminus": [
            [
             0.0,
             "#0d0887"
            ],
            [
             0.1111111111111111,
             "#46039f"
            ],
            [
             0.2222222222222222,
             "#7201a8"
            ],
            [
             0.3333333333333333,
             "#9c179e"
            ],
            [
             0.4444444444444444,
             "#bd3786"
            ],
            [
             0.5555555555555556,
             "#d8576b"
            ],
            [
             0.6666666666666666,
             "#ed7953"
            ],
            [
             0.7777777777777778,
             "#fb9f3a"
            ],
            [
             0.8888888888888888,
             "#fdca26"
            ],
            [
             1.0,
             "#f0f921"
            ]
           ],
           "diverging": [
            [
             0,
             "#8e0152"
            ],
            [
             0.1,
             "#c51b7d"
            ],
            [
             0.2,
             "#de77ae"
            ],
            [
             0.3,
             "#f1b6da"
            ],
            [
             0.4,
             "#fde0ef"
            ],
            [
             0.5,
             "#f7f7f7"
            ],
            [
             0.6,
             "#e6f5d0"
            ],
            [
             0.7,
             "#b8e186"
            ],
            [
             0.8,
             "#7fbc41"
            ],
            [
             0.9,
             "#4d9221"
            ],
            [
             1,
             "#276419"
            ]
           ]
          },
          "xaxis": {
           "gridcolor": "#283442",
           "linecolor": "#506784",
           "ticks": "",
           "title": {
            "standoff": 15
           },
           "zerolinecolor": "#283442",
           "automargin": true,
           "zerolinewidth": 2
          },
          "yaxis": {
           "gridcolor": "#283442",
           "linecolor": "#506784",
           "ticks": "",
           "title": {
            "standoff": 15
           },
           "zerolinecolor": "#283442",
           "automargin": true,
           "zerolinewidth": 2
          },
          "scene": {
           "xaxis": {
            "backgroundcolor": "rgb(17,17,17)",
            "gridcolor": "#506784",
            "linecolor": "#506784",
            "showbackground": true,
            "ticks": "",
            "zerolinecolor": "#C8D4E3",
            "gridwidth": 2
           },
           "yaxis": {
            "backgroundcolor": "rgb(17,17,17)",
            "gridcolor": "#506784",
            "linecolor": "#506784",
            "showbackground": true,
            "ticks": "",
            "zerolinecolor": "#C8D4E3",
            "gridwidth": 2
           },
           "zaxis": {
            "backgroundcolor": "rgb(17,17,17)",
            "gridcolor": "#506784",
            "linecolor": "#506784",
            "showbackground": true,
            "ticks": "",
            "zerolinecolor": "#C8D4E3",
            "gridwidth": 2
           }
          },
          "shapedefaults": {
           "line": {
            "color": "#f2f5fa"
           }
          },
          "annotationdefaults": {
           "arrowcolor": "#f2f5fa",
           "arrowhead": 0,
           "arrowwidth": 1
          },
          "geo": {
           "bgcolor": "rgb(17,17,17)",
           "landcolor": "rgb(17,17,17)",
           "subunitcolor": "#506784",
           "showland": true,
           "showlakes": true,
           "lakecolor": "rgb(17,17,17)"
          },
          "title": {
           "x": 0.05
          },
          "updatemenudefaults": {
           "bgcolor": "#506784",
           "borderwidth": 0
          },
          "sliderdefaults": {
           "bgcolor": "#C8D4E3",
           "borderwidth": 1,
           "bordercolor": "rgb(17,17,17)",
           "tickwidth": 0
          },
          "mapbox": {
           "style": "dark"
          }
         }
        },
        "xaxis": {
         "anchor": "y",
         "domain": [
          0.0,
          1.0
         ],
         "title": {
          "text": "Num_workers"
         }
        },
        "yaxis": {
         "anchor": "x",
         "domain": [
          0.0,
          1.0
         ],
         "title": {
          "text": "Joules"
         },
         "type": "log"
        },
        "legend": {
         "title": {
          "text": "Resolution"
         },
         "tracegroupgap": 0
        },
        "title": {
         "text": "Joules per PCL (Log Scale)"
        },
        "barmode": "group"
       },
       "config": {
        "plotlyServerURL": "https://plot.ly"
       }
      },
      "text/html": [
       "<div>                            <div id=\"5b030150-f242-4933-9e0c-532a1280577b\" class=\"plotly-graph-div\" style=\"height:525px; width:100%;\"></div>            <script type=\"text/javascript\">                require([\"plotly\"], function(Plotly) {                    window.PLOTLYENV=window.PLOTLYENV || {};                                    if (document.getElementById(\"5b030150-f242-4933-9e0c-532a1280577b\")) {                    Plotly.newPlot(                        \"5b030150-f242-4933-9e0c-532a1280577b\",                        [{\"alignmentgroup\":\"True\",\"hovertemplate\":\"variable=1000\\u003cbr\\u003eModel=%{x}\\u003cbr\\u003eMax Power (Watts)=%{y}\\u003cextra\\u003e\\u003c\\u002fextra\\u003e\",\"legendgroup\":\"1000\",\"marker\":{\"color\":\"#636efa\",\"pattern\":{\"shape\":\"\"}},\"name\":\"1000\",\"offsetgroup\":\"1000\",\"orientation\":\"v\",\"showlegend\":true,\"textposition\":\"auto\",\"x\":[8,30,2,6,5,7,1,3,10,4,20,9],\"xaxis\":\"x\",\"y\":[6.064468999998178,5.906219999997411,6.842358000000939,6.139637999998871,6.202277000002563,5.368023999998346,9.456297000000253,6.166562000005506,6.010161000000779,6.230456000004895,6.127284000001848,6.023952999998349],\"yaxis\":\"y\",\"type\":\"bar\"},{\"alignmentgroup\":\"True\",\"hovertemplate\":\"variable=5000\\u003cbr\\u003eModel=%{x}\\u003cbr\\u003eMax Power (Watts)=%{y}\\u003cextra\\u003e\\u003c\\u002fextra\\u003e\",\"legendgroup\":\"5000\",\"marker\":{\"color\":\"#EF553B\",\"pattern\":{\"shape\":\"\"}},\"name\":\"5000\",\"offsetgroup\":\"5000\",\"orientation\":\"v\",\"showlegend\":true,\"textposition\":\"auto\",\"x\":[8,30,2,6,5,7,1,3,10,4,20,9],\"xaxis\":\"x\",\"y\":[12.769724999996368,11.85647799999686,17.09112000000244,12.907744999997783,13.49605199999595,12.861686999998522,23.0961689999965,14.872319000000134,12.629761999999173,14.022463000003249,11.79579299999727,12.733097000003326],\"yaxis\":\"y\",\"type\":\"bar\"},{\"alignmentgroup\":\"True\",\"hovertemplate\":\"variable=10000\\u003cbr\\u003eModel=%{x}\\u003cbr\\u003eMax Power (Watts)=%{y}\\u003cextra\\u003e\\u003c\\u002fextra\\u003e\",\"legendgroup\":\"10000\",\"marker\":{\"color\":\"#00cc96\",\"pattern\":{\"shape\":\"\"}},\"name\":\"10000\",\"offsetgroup\":\"10000\",\"orientation\":\"v\",\"showlegend\":true,\"textposition\":\"auto\",\"x\":[8,30,2,6,5,7,1,3,10,4,20,9],\"xaxis\":\"x\",\"y\":[20.306775999997743,17.83675800000038,28.791017999993173,21.32509899999574,23.088807999997865,20.783486000000966,12.725533999998587,25.63062699999893,19.832033000003545,24.0330449999962,17.958635999999476,20.004848000003026],\"yaxis\":\"y\",\"type\":\"bar\"}],                        {\"template\":{\"data\":{\"histogram2dcontour\":[{\"type\":\"histogram2dcontour\",\"colorbar\":{\"outlinewidth\":0,\"ticks\":\"\"},\"colorscale\":[[0.0,\"#0d0887\"],[0.1111111111111111,\"#46039f\"],[0.2222222222222222,\"#7201a8\"],[0.3333333333333333,\"#9c179e\"],[0.4444444444444444,\"#bd3786\"],[0.5555555555555556,\"#d8576b\"],[0.6666666666666666,\"#ed7953\"],[0.7777777777777778,\"#fb9f3a\"],[0.8888888888888888,\"#fdca26\"],[1.0,\"#f0f921\"]]}],\"choropleth\":[{\"type\":\"choropleth\",\"colorbar\":{\"outlinewidth\":0,\"ticks\":\"\"}}],\"histogram2d\":[{\"type\":\"histogram2d\",\"colorbar\":{\"outlinewidth\":0,\"ticks\":\"\"},\"colorscale\":[[0.0,\"#0d0887\"],[0.1111111111111111,\"#46039f\"],[0.2222222222222222,\"#7201a8\"],[0.3333333333333333,\"#9c179e\"],[0.4444444444444444,\"#bd3786\"],[0.5555555555555556,\"#d8576b\"],[0.6666666666666666,\"#ed7953\"],[0.7777777777777778,\"#fb9f3a\"],[0.8888888888888888,\"#fdca26\"],[1.0,\"#f0f921\"]]}],\"heatmap\":[{\"type\":\"heatmap\",\"colorbar\":{\"outlinewidth\":0,\"ticks\":\"\"},\"colorscale\":[[0.0,\"#0d0887\"],[0.1111111111111111,\"#46039f\"],[0.2222222222222222,\"#7201a8\"],[0.3333333333333333,\"#9c179e\"],[0.4444444444444444,\"#bd3786\"],[0.5555555555555556,\"#d8576b\"],[0.6666666666666666,\"#ed7953\"],[0.7777777777777778,\"#fb9f3a\"],[0.8888888888888888,\"#fdca26\"],[1.0,\"#f0f921\"]]}],\"heatmapgl\":[{\"type\":\"heatmapgl\",\"colorbar\":{\"outlinewidth\":0,\"ticks\":\"\"},\"colorscale\":[[0.0,\"#0d0887\"],[0.1111111111111111,\"#46039f\"],[0.2222222222222222,\"#7201a8\"],[0.3333333333333333,\"#9c179e\"],[0.4444444444444444,\"#bd3786\"],[0.5555555555555556,\"#d8576b\"],[0.6666666666666666,\"#ed7953\"],[0.7777777777777778,\"#fb9f3a\"],[0.8888888888888888,\"#fdca26\"],[1.0,\"#f0f921\"]]}],\"contourcarpet\":[{\"type\":\"contourcarpet\",\"colorbar\":{\"outlinewidth\":0,\"ticks\":\"\"}}],\"contour\":[{\"type\":\"contour\",\"colorbar\":{\"outlinewidth\":0,\"ticks\":\"\"},\"colorscale\":[[0.0,\"#0d0887\"],[0.1111111111111111,\"#46039f\"],[0.2222222222222222,\"#7201a8\"],[0.3333333333333333,\"#9c179e\"],[0.4444444444444444,\"#bd3786\"],[0.5555555555555556,\"#d8576b\"],[0.6666666666666666,\"#ed7953\"],[0.7777777777777778,\"#fb9f3a\"],[0.8888888888888888,\"#fdca26\"],[1.0,\"#f0f921\"]]}],\"surface\":[{\"type\":\"surface\",\"colorbar\":{\"outlinewidth\":0,\"ticks\":\"\"},\"colorscale\":[[0.0,\"#0d0887\"],[0.1111111111111111,\"#46039f\"],[0.2222222222222222,\"#7201a8\"],[0.3333333333333333,\"#9c179e\"],[0.4444444444444444,\"#bd3786\"],[0.5555555555555556,\"#d8576b\"],[0.6666666666666666,\"#ed7953\"],[0.7777777777777778,\"#fb9f3a\"],[0.8888888888888888,\"#fdca26\"],[1.0,\"#f0f921\"]]}],\"mesh3d\":[{\"type\":\"mesh3d\",\"colorbar\":{\"outlinewidth\":0,\"ticks\":\"\"}}],\"scatter\":[{\"marker\":{\"line\":{\"color\":\"#283442\"}},\"type\":\"scatter\"}],\"parcoords\":[{\"type\":\"parcoords\",\"line\":{\"colorbar\":{\"outlinewidth\":0,\"ticks\":\"\"}}}],\"scatterpolargl\":[{\"type\":\"scatterpolargl\",\"marker\":{\"colorbar\":{\"outlinewidth\":0,\"ticks\":\"\"}}}],\"bar\":[{\"error_x\":{\"color\":\"#f2f5fa\"},\"error_y\":{\"color\":\"#f2f5fa\"},\"marker\":{\"line\":{\"color\":\"rgb(17,17,17)\",\"width\":0.5},\"pattern\":{\"fillmode\":\"overlay\",\"size\":10,\"solidity\":0.2}},\"type\":\"bar\"}],\"scattergeo\":[{\"type\":\"scattergeo\",\"marker\":{\"colorbar\":{\"outlinewidth\":0,\"ticks\":\"\"}}}],\"scatterpolar\":[{\"type\":\"scatterpolar\",\"marker\":{\"colorbar\":{\"outlinewidth\":0,\"ticks\":\"\"}}}],\"histogram\":[{\"marker\":{\"pattern\":{\"fillmode\":\"overlay\",\"size\":10,\"solidity\":0.2}},\"type\":\"histogram\"}],\"scattergl\":[{\"marker\":{\"line\":{\"color\":\"#283442\"}},\"type\":\"scattergl\"}],\"scatter3d\":[{\"type\":\"scatter3d\",\"line\":{\"colorbar\":{\"outlinewidth\":0,\"ticks\":\"\"}},\"marker\":{\"colorbar\":{\"outlinewidth\":0,\"ticks\":\"\"}}}],\"scattermapbox\":[{\"type\":\"scattermapbox\",\"marker\":{\"colorbar\":{\"outlinewidth\":0,\"ticks\":\"\"}}}],\"scatterternary\":[{\"type\":\"scatterternary\",\"marker\":{\"colorbar\":{\"outlinewidth\":0,\"ticks\":\"\"}}}],\"scattercarpet\":[{\"type\":\"scattercarpet\",\"marker\":{\"colorbar\":{\"outlinewidth\":0,\"ticks\":\"\"}}}],\"carpet\":[{\"aaxis\":{\"endlinecolor\":\"#A2B1C6\",\"gridcolor\":\"#506784\",\"linecolor\":\"#506784\",\"minorgridcolor\":\"#506784\",\"startlinecolor\":\"#A2B1C6\"},\"baxis\":{\"endlinecolor\":\"#A2B1C6\",\"gridcolor\":\"#506784\",\"linecolor\":\"#506784\",\"minorgridcolor\":\"#506784\",\"startlinecolor\":\"#A2B1C6\"},\"type\":\"carpet\"}],\"table\":[{\"cells\":{\"fill\":{\"color\":\"#506784\"},\"line\":{\"color\":\"rgb(17,17,17)\"}},\"header\":{\"fill\":{\"color\":\"#2a3f5f\"},\"line\":{\"color\":\"rgb(17,17,17)\"}},\"type\":\"table\"}],\"barpolar\":[{\"marker\":{\"line\":{\"color\":\"rgb(17,17,17)\",\"width\":0.5},\"pattern\":{\"fillmode\":\"overlay\",\"size\":10,\"solidity\":0.2}},\"type\":\"barpolar\"}],\"pie\":[{\"automargin\":true,\"type\":\"pie\"}]},\"layout\":{\"autotypenumbers\":\"strict\",\"colorway\":[\"#636efa\",\"#EF553B\",\"#00cc96\",\"#ab63fa\",\"#FFA15A\",\"#19d3f3\",\"#FF6692\",\"#B6E880\",\"#FF97FF\",\"#FECB52\"],\"font\":{\"color\":\"#f2f5fa\"},\"hovermode\":\"closest\",\"hoverlabel\":{\"align\":\"left\"},\"paper_bgcolor\":\"rgb(17,17,17)\",\"plot_bgcolor\":\"rgb(17,17,17)\",\"polar\":{\"bgcolor\":\"rgb(17,17,17)\",\"angularaxis\":{\"gridcolor\":\"#506784\",\"linecolor\":\"#506784\",\"ticks\":\"\"},\"radialaxis\":{\"gridcolor\":\"#506784\",\"linecolor\":\"#506784\",\"ticks\":\"\"}},\"ternary\":{\"bgcolor\":\"rgb(17,17,17)\",\"aaxis\":{\"gridcolor\":\"#506784\",\"linecolor\":\"#506784\",\"ticks\":\"\"},\"baxis\":{\"gridcolor\":\"#506784\",\"linecolor\":\"#506784\",\"ticks\":\"\"},\"caxis\":{\"gridcolor\":\"#506784\",\"linecolor\":\"#506784\",\"ticks\":\"\"}},\"coloraxis\":{\"colorbar\":{\"outlinewidth\":0,\"ticks\":\"\"}},\"colorscale\":{\"sequential\":[[0.0,\"#0d0887\"],[0.1111111111111111,\"#46039f\"],[0.2222222222222222,\"#7201a8\"],[0.3333333333333333,\"#9c179e\"],[0.4444444444444444,\"#bd3786\"],[0.5555555555555556,\"#d8576b\"],[0.6666666666666666,\"#ed7953\"],[0.7777777777777778,\"#fb9f3a\"],[0.8888888888888888,\"#fdca26\"],[1.0,\"#f0f921\"]],\"sequentialminus\":[[0.0,\"#0d0887\"],[0.1111111111111111,\"#46039f\"],[0.2222222222222222,\"#7201a8\"],[0.3333333333333333,\"#9c179e\"],[0.4444444444444444,\"#bd3786\"],[0.5555555555555556,\"#d8576b\"],[0.6666666666666666,\"#ed7953\"],[0.7777777777777778,\"#fb9f3a\"],[0.8888888888888888,\"#fdca26\"],[1.0,\"#f0f921\"]],\"diverging\":[[0,\"#8e0152\"],[0.1,\"#c51b7d\"],[0.2,\"#de77ae\"],[0.3,\"#f1b6da\"],[0.4,\"#fde0ef\"],[0.5,\"#f7f7f7\"],[0.6,\"#e6f5d0\"],[0.7,\"#b8e186\"],[0.8,\"#7fbc41\"],[0.9,\"#4d9221\"],[1,\"#276419\"]]},\"xaxis\":{\"gridcolor\":\"#283442\",\"linecolor\":\"#506784\",\"ticks\":\"\",\"title\":{\"standoff\":15},\"zerolinecolor\":\"#283442\",\"automargin\":true,\"zerolinewidth\":2},\"yaxis\":{\"gridcolor\":\"#283442\",\"linecolor\":\"#506784\",\"ticks\":\"\",\"title\":{\"standoff\":15},\"zerolinecolor\":\"#283442\",\"automargin\":true,\"zerolinewidth\":2},\"scene\":{\"xaxis\":{\"backgroundcolor\":\"rgb(17,17,17)\",\"gridcolor\":\"#506784\",\"linecolor\":\"#506784\",\"showbackground\":true,\"ticks\":\"\",\"zerolinecolor\":\"#C8D4E3\",\"gridwidth\":2},\"yaxis\":{\"backgroundcolor\":\"rgb(17,17,17)\",\"gridcolor\":\"#506784\",\"linecolor\":\"#506784\",\"showbackground\":true,\"ticks\":\"\",\"zerolinecolor\":\"#C8D4E3\",\"gridwidth\":2},\"zaxis\":{\"backgroundcolor\":\"rgb(17,17,17)\",\"gridcolor\":\"#506784\",\"linecolor\":\"#506784\",\"showbackground\":true,\"ticks\":\"\",\"zerolinecolor\":\"#C8D4E3\",\"gridwidth\":2}},\"shapedefaults\":{\"line\":{\"color\":\"#f2f5fa\"}},\"annotationdefaults\":{\"arrowcolor\":\"#f2f5fa\",\"arrowhead\":0,\"arrowwidth\":1},\"geo\":{\"bgcolor\":\"rgb(17,17,17)\",\"landcolor\":\"rgb(17,17,17)\",\"subunitcolor\":\"#506784\",\"showland\":true,\"showlakes\":true,\"lakecolor\":\"rgb(17,17,17)\"},\"title\":{\"x\":0.05},\"updatemenudefaults\":{\"bgcolor\":\"#506784\",\"borderwidth\":0},\"sliderdefaults\":{\"bgcolor\":\"#C8D4E3\",\"borderwidth\":1,\"bordercolor\":\"rgb(17,17,17)\",\"tickwidth\":0},\"mapbox\":{\"style\":\"dark\"}}},\"xaxis\":{\"anchor\":\"y\",\"domain\":[0.0,1.0],\"title\":{\"text\":\"Num_workers\"}},\"yaxis\":{\"anchor\":\"x\",\"domain\":[0.0,1.0],\"title\":{\"text\":\"Joules\"},\"type\":\"log\"},\"legend\":{\"title\":{\"text\":\"Resolution\"},\"tracegroupgap\":0},\"title\":{\"text\":\"Joules per PCL (Log Scale)\"},\"barmode\":\"group\"},                        {\"responsive\": true}                    ).then(function(){\n",
       "                            \n",
       "var gd = document.getElementById('5b030150-f242-4933-9e0c-532a1280577b');\n",
       "var x = new MutationObserver(function (mutations, observer) {{\n",
       "        var display = window.getComputedStyle(gd).display;\n",
       "        if (!display || display === 'none') {{\n",
       "            console.log([gd, 'removed!']);\n",
       "            Plotly.purge(gd);\n",
       "            observer.disconnect();\n",
       "        }}\n",
       "}});\n",
       "\n",
       "// Listen for the removal of the full notebook cells\n",
       "var notebookContainer = gd.closest('#notebook-container');\n",
       "if (notebookContainer) {{\n",
       "    x.observe(notebookContainer, {childList: true});\n",
       "}}\n",
       "\n",
       "// Listen for the clearing of the current output cell\n",
       "var outputEl = gd.closest('.output');\n",
       "if (outputEl) {{\n",
       "    x.observe(outputEl, {childList: true});\n",
       "}}\n",
       "\n",
       "                        })                };                });            </script>        </div>"
      ]
     },
     "metadata": {},
     "output_type": "display_data"
    }
   ],
   "execution_count": 6
  },
  {
   "metadata": {},
   "cell_type": "code",
   "outputs": [],
   "execution_count": null,
   "source": "",
   "id": "b50d2febfe98d0b9"
  }
 ],
 "metadata": {
  "kernelspec": {
   "display_name": "Python 3",
   "language": "python",
   "name": "python3"
  },
  "language_info": {
   "codemirror_mode": {
    "name": "ipython",
    "version": 2
   },
   "file_extension": ".py",
   "mimetype": "text/x-python",
   "name": "python",
   "nbconvert_exporter": "python",
   "pygments_lexer": "ipython2",
   "version": "2.7.6"
  }
 },
 "nbformat": 4,
 "nbformat_minor": 5
}
