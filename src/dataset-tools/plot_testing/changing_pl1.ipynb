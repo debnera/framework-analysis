{
 "cells": [
  {
   "cell_type": "code",
   "execution_count": null,
   "id": "initial_id",
   "metadata": {},
   "outputs": [],
   "source": [
    "from utils.header_cleaner import *\n",
    "import difflib\n",
    "\n",
    "#\n",
    "\n",
    "def clean_and_calculate_power(dataframe):\n",
    "    cleaned_df = clean_df(dataframe)\n",
    "    #target word matching and plotting\n",
    "    target_word = 'kepler node joules total'\n",
    "    closest_matches = difflib.get_close_matches(target_word, cleaned_df.columns, n=6, cutoff=0.05)\n",
    "    cleaned_df['total_joules'] = cleaned_df[closest_matches].sum(axis=1)\n",
    "    cleaned_df['power_consumed'] = cleaned_df['total_joules'].diff()\n",
    "    return cleaned_df   \n",
    "\n",
    "\n",
    "path = \"../../../data/processed/pl1/prom/\"\n",
    "\n",
    "worker_power = []\n",
    "\n",
    "for work_num in range(1, 6):\n",
    "    temp_path =  path + f\"worker{work_num}.feather\"\n",
    "    print(temp_path)\n",
    "    worker_power.append(clean_and_calculate_power(pd.read_feather(temp_path)))\n",
    "\n",
    "\n",
    "\n",
    "\n",
    "\n",
    "\n",
    "\n",
    "\n"
   ]
  }
 ],
 "metadata": {
  "kernelspec": {
   "display_name": "Python 3",
   "language": "python",
   "name": "python3"
  },
  "language_info": {
   "codemirror_mode": {
    "name": "ipython",
    "version": 2
   },
   "file_extension": ".py",
   "mimetype": "text/x-python",
   "name": "python",
   "nbconvert_exporter": "python",
   "pygments_lexer": "ipython2",
   "version": "2.7.6"
  }
 },
 "nbformat": 4,
 "nbformat_minor": 5
}
