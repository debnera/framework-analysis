{
 "cells": [
  {
   "cell_type": "code",
   "execution_count": null,
   "id": "initial_id",
   "metadata": {
    "ExecuteTime": {
     "end_time": "2024-08-12T07:29:05.158210Z",
     "start_time": "2024-08-12T07:29:05.151390Z"
    }
   },
   "outputs": [],
   "source": [
    "import pandas as pd\n",
    "\n",
    "\n",
    "\n",
    "def clean_df(dataframe):\n",
    "    df = dataframe\n",
    "    #Count number of rows and cols in the original df\n",
    "    print(f\"Loaded {len(df)} rows and {len(df.columns)} columns\")\n",
    "    # Count the number of unique values in each column\n",
    "    unique_counts = df.nunique()\n",
    "    # Find all static columns (columns with only one or two unique values)\n",
    "    static_columns = unique_counts[unique_counts <= 2].index\n",
    "    # Remove the static columns from the dataframe\n",
    "    df = df.drop(static_columns, axis=1)\n",
    "    print(f\"Removing {len(static_columns)} static columns ({len(df.columns)} remaining)\")\n",
    "    if len(df.columns) < 100:\n",
    "        # Only display if the df is small enough to not stall the IDE (thousands of columns really slows things down)\n",
    "        df.head()\n",
    "\n",
    "    # changing the dataframe headers to a more human-readable format\n",
    "    return clean_up_headers(df)\n",
    "\n"
   ]
  },
  {
   "cell_type": "code",
   "execution_count": null,
   "id": "80394548ddfeedac",
   "metadata": {
    "ExecuteTime": {
     "end_time": "2024-08-12T08:00:04.015837Z",
     "start_time": "2024-08-12T08:00:03.993322Z"
    }
   },
   "outputs": [],
   "source": [
    "\n",
    "#Next we will create plots of power consumption vs quality of service for 1 (low), 2 (stable), and 4 (high) mbps input of data\n",
    "from utils.header_cleaner import clean_up_headers\n",
    "import difflib\n",
    "\n",
    "\n",
    "def clean_and_calculate_power(dataframe):\n",
    "    cleaned_df = clean_df(dataframe)\n",
    "    #target word matching and plotting\n",
    "    target_word = 'kepler node joules total'\n",
    "    closest_matches = difflib.get_close_matches(target_word, cleaned_df.columns, n=6, cutoff=0.05)\n",
    "    cleaned_df['total_joules'] = cleaned_df[closest_matches].sum(axis=1)\n",
    "    cleaned_df['power_consumed'] = cleaned_df['total_joules'].diff()\n",
    "    return cleaned_df\n",
    "\n"
   ]
  },
  {
   "cell_type": "code",
   "execution_count": null,
   "id": "fa70cdbaf5bc3112",
   "metadata": {
    "ExecuteTime": {
     "end_time": "2024-08-12T08:50:54.749664Z",
     "start_time": "2024-08-12T08:49:17.989783Z"
    }
   },
   "outputs": [],
   "source": [
    "\n",
    "worker_power = []\n",
    "\n",
    "input_speeds = [1, 2, 4]\n",
    "for mbps in input_speeds:\n",
    "    path = \"../../../data/processed/8.8_ajo/\"\n",
    "    prom_path = path + f\"prom/{mbps} mbps/\"\n",
    "    yolo_path = path + f\"yolo/{mbps} mbps/\"\n",
    "    for work_num in range(1, 6):\n",
    "        temp_path = prom_path + f\"worker{work_num}.feather\"\n",
    "        print(temp_path)\n",
    "        worker_power.append(clean_and_calculate_power(pd.read_feather(temp_path)))\n",
    "\n",
    "# 1. yolo total time vs average power consumption per worker\n",
    "\n"
   ]
  },
  {
   "cell_type": "code",
   "execution_count": null,
   "id": "53e63af8592eeffe",
   "metadata": {
    "ExecuteTime": {
     "end_time": "2024-08-12T10:55:50.952012Z",
     "start_time": "2024-08-12T10:55:50.668965Z"
    }
   },
   "outputs": [],
   "source": [
    "import plotly.express as px\n",
    "import plotly.graph_objs as go\n",
    "\n",
    "def min_max_norm(dataframe, col_name):\n",
    "    return (dataframe[col_name] - dataframe[col_name].min()) / (dataframe[col_name].max() - dataframe[col_name].min())\n",
    "\n",
    "power_consumption_df = pd.DataFrame()\n",
    "\n",
    "for mbps in input_speeds:\n",
    "    yolo_df = pd.read_feather(f\"../../../data/processed/8.8_ajo/yolo/{mbps}_mbps/yolo_qos.feather\")\n",
    "\n",
    "    # Step 1: Concatenate the 'power_consumed' columns from all DataFrames\n",
    "    concatenated_power = pd.concat([df['power_consumed'] for df in worker_power], axis=1)\n",
    "    # Step 2: Calculate the mean of the concatenated 'power_consumed' columns\n",
    "    average_power_consumed = concatenated_power.mean(axis=1)\n",
    "    # Step 3: Create a new DataFrame with the average values\n",
    "    result_df = pd.DataFrame({f'average_power_consumed_{mbps}': average_power_consumed})\n",
    "    result_df[f'queue_{mbps}'] = yolo_df['queue']\n",
    "    power_consumption_df = pd.concat([power_consumption_df, result_df], axis=1)\n",
    "    # Assuming result_df is your DataFrame\n",
    "    # 2. queue time, total power consumption, and images processed per second over time all into one graph\n",
    "    yolo_df['end'] = pd.to_datetime(yolo_df['end_time'], unit='ms')  # Convert to datetime (optional)\n",
    "    # Group by 10-second intervals and count the number of rows in each interval\n",
    "    intervals = yolo_df.resample('5S', on='end')\n",
    "    interval_counts_df = intervals.size().reset_index(name='yolo_instances_processed')\n",
    "    yolo_df.set_index('end', inplace=True)\n",
    "    average_queue_df = yolo_df.resample('5S').agg({'queue': 'mean'})\n",
    "    average_queue_df.reset_index(inplace=True)\n",
    "    average_queue_df = average_queue_df.rename(columns={'queue': 'queue_time'})\n",
    "    col1 = min_max_norm(average_queue_df, 'queue_time')\n",
    "    \n",
    "    col2 = min_max_norm(result_df, f'average_power_consumed_{mbps}')\n",
    "    col3 = min_max_norm(interval_counts_df, 'yolo_instances_processed')\n",
    "    queue_power_images_df = pd.concat([col1, col2, col3], axis=1)\n",
    "    fig = px.line(queue_power_images_df, x=queue_power_images_df.index, y=queue_power_images_df.columns)\n",
    "    fig.update_layout(title='Queue Time, Average Power, and Instances Processed Over Time', xaxis_title='Time', yaxis_title='Normalized')\n",
    "    fig.show()\n",
    "    #queue_power_images_df.plot()\n",
    "\n",
    "\n",
    "traces = []\n",
    "pcd = power_consumption_df\n",
    "for mbps in reversed(input_speeds):\n",
    "    traces.append(go.Scatter(x=pcd[f'average_power_consumed_{mbps}'], y=pcd[f'queue_{mbps}'], mode='markers', name=f'{mbps}_mbps'))\n",
    "# Combine traces into a figure\n",
    "fig = go.Figure(data=traces)\n",
    "# Customize the layout\n",
    "fig.update_layout(\n",
    "    title='Power Consumption vs Queue Time for 1, 2, 4 mbps input speed',\n",
    "    xaxis_title='Power Consumption',\n",
    "    yaxis_title='Queue Time'\n",
    ")\n",
    "\n",
    "# Show the plot\n",
    "fig.show()\n",
    "#To Do: \n",
    "#ADD IMAGE SAVING?!\n",
    "#maximum peaks\n",
    "#some sort of overlapping graphs perhaps to get some comparisons\n",
    "#normalize the queue time and other columns\n",
    "\n",
    "\n",
    "#jupyter nbconvert --clear-output --inplace src/dataset-tools/plot_testing/roope_plotting.ipynb\n"
   ]
  }
 ],
 "metadata": {
  "kernelspec": {
   "display_name": "Python 3",
   "language": "python",
   "name": "python3"
  },
  "language_info": {
   "codemirror_mode": {
    "name": "ipython",
    "version": 2
   },
   "file_extension": ".py",
   "mimetype": "text/x-python",
   "name": "python",
   "nbconvert_exporter": "python",
   "pygments_lexer": "ipython2",
   "version": "2.7.6"
  }
 },
 "nbformat": 4,
 "nbformat_minor": 5
}
