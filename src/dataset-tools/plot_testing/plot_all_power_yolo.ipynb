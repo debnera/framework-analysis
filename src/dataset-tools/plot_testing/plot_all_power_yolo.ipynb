{
 "cells": [
  {
   "metadata": {},
   "cell_type": "code",
   "source": [
    "import os\n",
    "\n",
    "# Function to find the subfolders with the file names\n",
    "def find_subfolders_with_file(root_folder, filename):\n",
    "    result = []\n",
    "    for root, dirs, files in os.walk(root_folder):\n",
    "        if filename in files:\n",
    "            result.append(root)\n",
    "    return result\n",
    "\n",
    "# Example usage\n",
    "root_folder = '../../../data/minimized'\n",
    "filename = 'worker1.feather'\n",
    "subfolders = find_subfolders_with_file(root_folder, filename)\n",
    "print(subfolders)"
   ],
   "id": "6a5183090ba2659d",
   "outputs": [],
   "execution_count": null
  },
  {
   "metadata": {},
   "cell_type": "code",
   "source": [
    "# import os\n",
    "# \n",
    "# # Function to find the subfolders with the file names\n",
    "# def find_subfolders_with_file(root_folder, filename):\n",
    "#     result = []\n",
    "#     for root, dirs, files in os.walk(root_folder):\n",
    "#         if filename in files:\n",
    "#             result.append(root)\n",
    "#     return result\n",
    "# \n",
    "# # Example usage\n",
    "# root_folder = '../../../data/yolo'\n",
    "# filename = 'worker1.feather'\n",
    "# subfolders = find_subfolders_with_file(root_folder, filename)\n",
    "# print(subfolders)"
   ],
   "id": "1d3224d4b289d132",
   "outputs": [],
   "execution_count": null
  },
  {
   "cell_type": "code",
   "id": "initial_id",
   "metadata": {},
   "source": [
    "from utils.header_cleaner import *\n",
    "import difflib\n",
    "\n",
    "#its really quite sinple - we're comparing pytorch and openvino yolov8n performance\n",
    "# some easy things to compare would be power, and latency\n",
    "\n",
    "def clean_and_calculate_power(dataframe):\n",
    "    cleaned_df = clean_df(dataframe)\n",
    "    #target word matching and plotting\n",
    "    target_word = 'kepler node joules total'\n",
    "    closest_matches = difflib.get_close_matches(target_word, cleaned_df.columns, n=6, cutoff=0.05)\n",
    "    cleaned_df['total_joules'] = cleaned_df[closest_matches].sum(axis=1)\n",
    "    ts = cleaned_df[\"timestamp\"]\n",
    "    interval = ts[1] - ts[0]\n",
    "    cleaned_df['power_consumed'] = cleaned_df['total_joules'].diff() / interval\n",
    "    return cleaned_df\n",
    "\n",
    "\n",
    "prom_data_paths = {'ov_cpu_path': \"../../../data/processed/ov_vs_pytorch/prom/ov-cpu_2mbps-rerun/\",\n",
    "              'pytorch_path': \"../../../data/processed/ov_vs_pytorch/prom/pytorch_2mbps/\"}\n",
    "prom_data_paths = {x.split(\"/\")[-1]: x for x in subfolders}\n",
    "yolo_data_paths = {key: val + \"/yolo_qos.feather\" for key, val in prom_data_paths.items()}\n",
    "\n",
    "total_power = {}\n",
    "response_time = {}\n",
    "for key in prom_data_paths.keys():\n",
    "    for work_num in range(1, 6):\n",
    "        temp_path = prom_data_paths[key] + \"/\" + f\"worker{work_num}.feather\"\n",
    "        print(temp_path)\n",
    "        concatenated_power = pd.concat([df['power_consumed'] for df in [clean_and_calculate_power(pd.read_feather(temp_path))]], axis=1)\n",
    "        total_power[key] = concatenated_power.mean(axis=1)\n",
    "\n",
    "for key in prom_data_paths.keys():\n",
    "    yolo_df = pd.read_feather(yolo_data_paths[key])\n",
    "    yolo_df['total_inference_time'] = yolo_df['inf'] + yolo_df['post'] + yolo_df['pre']\n",
    "    yolo_df['end_to_end_response_time'] = yolo_df['total_inference_time'] + yolo_df['queue']\n",
    "    yolo_df['start'] = pd.to_datetime(yolo_df['start_time'], unit='ms')  # Convert to datetime (optional)\n",
    "    yolo_df.set_index('start', inplace=True)\n",
    "    resampled_df = yolo_df.resample('5S')\n",
    "    response_time[key] = resampled_df.agg({'end_to_end_response_time': 'mean'}).reset_index()['end_to_end_response_time'].rename(key)\n",
    "\n",
    "\n",
    "\n",
    "\n"
   ],
   "outputs": [],
   "execution_count": null
  },
  {
   "metadata": {},
   "cell_type": "code",
   "source": [
    "#plot the graphs\n",
    "import plotly.express as px\n",
    "from matplotlib import pyplot as plt\n",
    "\n",
    "power_df = pd.DataFrame.from_dict(total_power)\n",
    "fig = px.line(power_df)\n",
    "fig.update_layout(title='Average Power Over Time', xaxis_title='Time', yaxis_title='Power in Watts',\n",
    "                  yaxis_range=[-20,80])\n",
    "fig.show()\n",
    "\n",
    "queue_df = pd.DataFrame.from_dict(response_time)\n",
    "fig = px.line(queue_df, x=queue_df.index, y=queue_df.columns)\n",
    "fig.update_layout(title='Average Response Time Over Time', xaxis_title='Time', yaxis_title='Reponse Time in MS', yaxis_type='log')\n",
    "fig.show()"
   ],
   "id": "7a840fc9dc03317d",
   "outputs": [],
   "execution_count": null
  },
  {
   "metadata": {},
   "cell_type": "code",
   "source": "",
   "id": "3f93d2cb5b3f4c38",
   "outputs": [],
   "execution_count": null
  }
 ],
 "metadata": {
  "kernelspec": {
   "display_name": "Python 3",
   "language": "python",
   "name": "python3"
  },
  "language_info": {
   "codemirror_mode": {
    "name": "ipython",
    "version": 2
   },
   "file_extension": ".py",
   "mimetype": "text/x-python",
   "name": "python",
   "nbconvert_exporter": "python",
   "pygments_lexer": "ipython2",
   "version": "2.7.6"
  }
 },
 "nbformat": 4,
 "nbformat_minor": 5
}
