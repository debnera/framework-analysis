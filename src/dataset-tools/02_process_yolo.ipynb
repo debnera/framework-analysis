{
 "cells": [
  {
   "cell_type": "code",
   "execution_count": null,
   "id": "initial_id",
   "metadata": {
    "ExecuteTime": {
     "end_time": "2024-08-20T06:24:41.525678Z",
     "start_time": "2024-08-20T06:24:41.524073Z"
    }
   },
   "outputs": [],
   "source": [
    "import os\n",
    "\n",
    "\"\"\"\n",
    "00 - Configuration\n",
    "\"\"\"\n",
    "\n",
    "dataset_zip_path = \"../../data/yolo/yolo_linear_9.zip\"\n",
    "output_folder = \"../../data/processed/19.8_ajo/yolo/\"\n"
   ]
  },
  {
   "cell_type": "code",
   "execution_count": null,
   "id": "6f11bcb333a67998",
   "metadata": {
    "ExecuteTime": {
     "end_time": "2024-08-20T06:24:52.093205Z",
     "start_time": "2024-08-20T06:24:51.451925Z"
    }
   },
   "outputs": [],
   "source": [
    "\"\"\"\n",
    "01 - Process yolo dataset\n",
    "\n",
    "- Combine all .csv-files in the given .zip to a DataFrame\n",
    "- Save the dataframe to output_path\n",
    "\"\"\"\n",
    "\n",
    "\n",
    "import zipfile\n",
    "import time\n",
    "import pandas as pd\n",
    "\n",
    "names_container = {}\n",
    "values_container = {}\n",
    "timestamps_container = {}\n",
    "\n",
    "# Open as zip\n",
    "with zipfile.ZipFile(dataset_zip_path, 'r') as zip_ref:\n",
    "\n",
    "    # Get a list of all files in the zip\n",
    "    items = zip_ref.namelist()\n",
    "\n",
    "    # Get a list of all .csv-files in the zip\n",
    "    csv_files = [x for x in items if x.endswith('.csv')]\n",
    "    csv_files.sort(reverse=True)  # NOTE: Sorting does not matter, but may be useful for debugging\n",
    "    \n",
    "    count = 0\n",
    "    start_time = time.time()\n",
    "\n",
    "    # Iterate over all csv-files\n",
    "    dataframes = []\n",
    "    for path in csv_files:\n",
    "        count += 1\n",
    "        print(f\"Progress {count}/{len(csv_files):6}, ({count/len(csv_files)*100:5.3} %) (time_spent: {time.time() - start_time:.3} s  - avg: {(time.time() - start_time) / count} s)\")\n",
    "        with zip_ref.open(path) as csv_file:\n",
    "            x = pd.read_csv(csv_file)\n",
    "            dataframes.append(x)\n",
    "    \n",
    "    # Combine data to a single DataFrame\n",
    "    df = pd.concat(dataframes)\n",
    "    os.makedirs(output_folder, exist_ok=True)\n",
    "    output_path = os.path.join(output_folder, \"yolo_qos.feather\")\n",
    "    df.sort_index(inplace=True)\n",
    "    df.reset_index(drop=False, inplace=True, names=[\"timestamp\"])\n",
    "    df.to_feather(output_path)\n",
    "    print(f\"Saved to {output_path}\")\n",
    "\n",
    "\n"
   ]
  },
  {
   "cell_type": "code",
   "execution_count": null,
   "id": "1825780a8f95cc74",
   "metadata": {
    "ExecuteTime": {
     "end_time": "2024-08-20T06:52:35.387699Z",
     "start_time": "2024-08-20T06:51:23.344430Z"
    }
   },
   "outputs": [],
   "source": [
    "\"\"\"\n",
    "Quick plot to partially visualize the data.\n",
    "\"\"\"\n",
    "import seaborn as sns\n",
    "import matplotlib.pyplot as plt\n",
    "\n",
    "df_cut = df.loc[df['start_time'] > 1724070345000]\n",
    "                                \n",
    "\n",
    "sns.scatterplot(y=\"queue\", x=\"start_time\", hue=\"source\", data=df)\n",
    "# sns.scatterplot(y=\"queue\", x=\"Unnamed: 0\", data=df)\n",
    "plt.savefig(\"yolo_queue.png\")\n",
    "# df.plot.scatter(y=df.queue, x=df.index)"
   ]
  },
  {
   "cell_type": "code",
   "execution_count": null,
   "id": "62adb9dbf03daa4c",
   "metadata": {
    "ExecuteTime": {
     "end_time": "2024-08-20T06:25:10.441122Z",
     "start_time": "2024-08-20T06:25:06.643534Z"
    }
   },
   "outputs": [],
   "source": [
    "import seaborn as sns\n",
    "import matplotlib.pyplot as plt\n",
    "df2 = df.copy()\n",
    "df2[\"q\"] = df2[\"end_time\"] - df2[\"start_time\"]\n",
    "sns.scatterplot(y=\"q\", x=\"start_time\", hue=\"source\", data=df2)\n",
    "plt.ylim(0,200)\n",
    "# sns.scatterplot(y=\"queue\", x=\"Unnamed: 0\", data=df)\n",
    "plt.savefig(\"yolo_queue.png\")\n",
    "# df.plot.scatter(y=df.queue, x=df.index)"
   ]
  },
  {
   "cell_type": "code",
   "execution_count": null,
   "id": "f7199adf9f2b8b0d",
   "metadata": {},
   "outputs": [],
   "source": [
    "import seaborn as sns\n",
    "import matplotlib.pyplot as plt\n",
    "df2 = df.copy()\n",
    "df2[\"q\"] = df2[\"end_time\"] - df2[\"start_time\"]\n",
    "sns.ecdfplot(y=\"start_time\", hue=\"source\", data=df2)\n",
    "plt.show()\n",
    "sns.ecdfplot(y=\"end_time\", hue=\"source\", data=df2)\n",
    "plt.show()\n",
    "sns.ecdfplot(y=\"q\", hue=\"source\", data=df2)\n"
   ]
  }
 ],
 "metadata": {
  "kernelspec": {
   "display_name": "Python 3",
   "language": "python",
   "name": "python3"
  },
  "language_info": {
   "codemirror_mode": {
    "name": "ipython",
    "version": 2
   },
   "file_extension": ".py",
   "mimetype": "text/x-python",
   "name": "python",
   "nbconvert_exporter": "python",
   "pygments_lexer": "ipython2",
   "version": "2.7.6"
  }
 },
 "nbformat": 4,
 "nbformat_minor": 5
}
