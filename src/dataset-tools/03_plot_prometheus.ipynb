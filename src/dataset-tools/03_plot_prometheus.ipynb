{
 "cells": [
  {
   "metadata": {},
   "cell_type": "code",
   "source": [
    "\"\"\"\n",
    "Load dataframe and remove columns with static or missing values\n",
    "\"\"\"\n",
    "import pandas as pd\n",
    "\n",
    "path = \"../../data/processed/9.7_ajo/worker1.feather\"\n",
    "df = pd.read_feather(path)\n",
    "\n",
    "# Count number of rows and cols in the original df\n",
    "print(f\"Loaded {len(df)} rows and {len(df.columns)} columns\")\n",
    "\n",
    "# Count the number of unique values in each column\n",
    "unique_counts = df.nunique()\n",
    "\n",
    "# Find all static columns (columns with only one or two unique values)\n",
    "static_columns = unique_counts[unique_counts <= 2].index\n",
    "\n",
    "# Remove the static columns from the dataframe\n",
    "df = df.drop(static_columns, axis=1)\n",
    "print(f\"Removing {len(static_columns)} static columns ({len(df.columns)} remaining)\")\n",
    "\n",
    "if len(df.columns) < 100:\n",
    "    # Only display if the df is small enough to not stall the IDE (thousands of columns really slows things down)\n",
    "    df.head()"
   ],
   "id": "bc2e9110cdce6c34",
   "outputs": [],
   "execution_count": null
  },
  {
   "metadata": {},
   "cell_type": "code",
   "source": "deef = pd.read_feather(f\"../../data/processed/9.7_ajo/worker1.feather\")",
   "id": "ab87306f2ec9b945",
   "outputs": [],
   "execution_count": null
  },
  {
   "metadata": {},
   "cell_type": "code",
   "source": "deef[\"timestamp\"]",
   "id": "57058dedf2d66fab",
   "outputs": [],
   "execution_count": null
  },
  {
   "metadata": {},
   "cell_type": "code",
   "source": [
    "\"\"\"\n",
    "Change the dataframe headers to a more human-readable format\n",
    "\"\"\"\n",
    "\n",
    "from utils.header_cleaner import clean_up_headers\n",
    "cleaned_df = clean_up_headers(df)\n",
    "cleaned_df.index = cleaned_df[\"timestamp\"]\n",
    "cleaned_df\n",
    "\n"
   ],
   "id": "a92642772ff7e0e4",
   "outputs": [],
   "execution_count": null
  },
  {
   "metadata": {},
   "cell_type": "code",
   "source": [
    "\"\"\"\n",
    "TODO: Extend this script to do some plotting (maybe copy-and-paste this code into separate file first)\n",
    "\"\"\"\n",
    "\n",
    "import difflib\n",
    "target_word = 'kepler joules'\n",
    "closest_matches = difflib.get_close_matches(target_word, cleaned_df.columns, cutoff=0.05, n=5)\n",
    "print(closest_matches)\n",
    "\n",
    "closest_matches2 = []\n",
    "df2 = cleaned_df.copy().sort_index()\n",
    "measurement_interval = df2.index[1] - df2.index[0]\n",
    "df2.index -= df2.index[0]\n",
    "for word in closest_matches:\n",
    "    new_name = f\"per_second:{word}\"\n",
    "    df2[new_name] = (df2[word].diff() / measurement_interval)\n",
    "    closest_matches2.append(new_name)\n",
    "df2 = df2.drop(df2.index[0])  # First value from diff() is trash\n",
    "df2[closest_matches].plot()\n",
    "df2[closest_matches2].plot()"
   ],
   "id": "df3ca89f0479eaa1",
   "outputs": [],
   "execution_count": null
  },
  {
   "cell_type": "code",
   "source": "df2.sort_index().index",
   "metadata": {
    "collapsed": false
   },
   "id": "8ddf73b28dcb6214",
   "outputs": [],
   "execution_count": null
  },
  {
   "metadata": {},
   "cell_type": "code",
   "source": "",
   "id": "ddb85b8bfe6ddd8d",
   "outputs": [],
   "execution_count": null
  }
 ],
 "metadata": {
  "kernelspec": {
   "display_name": "Python 3",
   "language": "python",
   "name": "python3"
  },
  "language_info": {
   "codemirror_mode": {
    "name": "ipython",
    "version": 2
   },
   "file_extension": ".py",
   "mimetype": "text/x-python",
   "name": "python",
   "nbconvert_exporter": "python",
   "pygments_lexer": "ipython2",
   "version": "2.7.6"
  }
 },
 "nbformat": 4,
 "nbformat_minor": 5
}
