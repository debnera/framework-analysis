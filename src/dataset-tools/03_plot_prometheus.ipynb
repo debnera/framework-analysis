{
 "cells": [
  {
   "metadata": {},
   "cell_type": "code",
   "source": [
    "\"\"\"\n",
    "Load dataframe and remove columns with static or missing values\n",
    "\"\"\"\n",
    "import pandas as pd\n",
    "\n",
    "path = \"../../data/processed/8.8_ajot/1_mbps/worker1.feather\"\n",
    "df = pd.read_feather(path)\n",
    "\n",
    "# Count number of rows and cols in the original df\n",
    "print(f\"Loaded {len(df)} rows and {len(df.columns)} columns\")\n",
    "\n",
    "# Count the number of unique values in each column\n",
    "unique_counts = df.nunique()\n",
    "\n",
    "# Find all static columns (columns with only one or two unique values)\n",
    "static_columns = unique_counts[unique_counts <= 2].index\n",
    "\n",
    "# Remove the static columns from the dataframe\n",
    "df = df.drop(static_columns, axis=1)\n",
    "print(f\"Removing {len(static_columns)} static columns ({len(df.columns)} remaining)\")\n",
    "\n",
    "if len(df.columns) < 100:\n",
    "    # Only display if the df is small enough to not stall the IDE (thousands of columns really slows things down)\n",
    "    df.head()"
   ],
   "id": "bc2e9110cdce6c34",
   "outputs": [],
   "execution_count": null
  },
  {
   "metadata": {},
   "cell_type": "code",
   "source": [
    "\"\"\"\n",
    "Change the dataframe headers to a more human-readable format\n",
    "\"\"\"\n",
    "\n",
    "from utils.header_cleaner import clean_up_headers\n",
    "cleaned_df = clean_up_headers(df)\n",
    "cleaned_df.index = cleaned_df[\"timestamp\"]\n",
    "cleaned_df\n",
    "\n"
   ],
   "id": "a92642772ff7e0e4",
   "outputs": [],
   "execution_count": null
  },
  {
   "metadata": {},
   "cell_type": "code",
   "source": [
    "\"\"\"\n",
    "TODO: Extend this script to do some plotting (maybe copy-and-paste this code into separate file first)\n",
    "\"\"\"\n",
    "\n",
    "import difflib\n",
    "\n",
    "\"\"\"\n",
    "Find columns that are similar to the search word\n",
    "\"\"\"\n",
    "target_word = 'package_joules_total dynamic'\n",
    "search_space = [x for x in cleaned_df.columns if \"kepler\" in x]  # Only account for columns with \"kepler\" in it\n",
    "closest_matches = difflib.get_close_matches(target_word, search_space, cutoff=0.05, n=5)\n",
    "print(closest_matches)\n",
    "\n",
    "\"\"\"\n",
    "Transform these columns from total count to rate (e.g., \"joules total\" to \"joules per second\")\n",
    "\"\"\"\n",
    "per_second_values = []\n",
    "df2 = cleaned_df.copy().sort_index()\n",
    "measurement_interval = df2.index[1] - df2.index[0]\n",
    "df2.index -= df2.index[0]\n",
    "for word in closest_matches:\n",
    "    new_name = f\"per_second:{word}\"\n",
    "    df2[new_name] = (df2[word].diff() / measurement_interval)\n",
    "    per_second_values.append(new_name)\n",
    "df2 = df2.drop(df2.index[0])  # First value from diff() is trash\n",
    "\n",
    "\"\"\"\n",
    "Plot these columns\n",
    "\"\"\"\n",
    "df2[closest_matches].plot()\n",
    "df2[per_second_values].plot()"
   ],
   "id": "df3ca89f0479eaa1",
   "outputs": [],
   "execution_count": null
  },
  {
   "metadata": {},
   "cell_type": "code",
   "source": "",
   "id": "ddb85b8bfe6ddd8d",
   "outputs": [],
   "execution_count": null
  }
 ],
 "metadata": {
  "kernelspec": {
   "display_name": "Python 3",
   "language": "python",
   "name": "python3"
  },
  "language_info": {
   "codemirror_mode": {
    "name": "ipython",
    "version": 2
   },
   "file_extension": ".py",
   "mimetype": "text/x-python",
   "name": "python",
   "nbconvert_exporter": "python",
   "pygments_lexer": "ipython2",
   "version": "2.7.6"
  }
 },
 "nbformat": 4,
 "nbformat_minor": 5
}
