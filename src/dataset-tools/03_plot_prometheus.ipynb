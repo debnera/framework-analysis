{
 "cells": [
  {
   "metadata": {},
   "cell_type": "code",
   "source": [
    "\"\"\"\n",
    "Load dataframe and remove columns with static or missing values\n",
    "\"\"\"\n",
    "import pandas as pd\n",
    "\n",
    "path = \"../../data/processed/9.7_ajo/kafka_broker_1:11001.feather\"\n",
    "df = pd.read_feather(path)\n",
    "\n",
    "# Count number of rows and cols in the original df\n",
    "print(f\"Loaded {len(df)} rows and {len(df.columns)} columns\")\n",
    "\n",
    "# Count the number of unique values in each column\n",
    "unique_counts = df.nunique()\n",
    "\n",
    "# Find all static columns (columns with only one or two unique values)\n",
    "static_columns = unique_counts[unique_counts <= 2].index\n",
    "\n",
    "# Remove the static columns from the dataframe\n",
    "df = df.drop(static_columns, axis=1)\n",
    "print(f\"Removing {len(static_columns)} static columns ({len(df.columns)} remaining)\")\n",
    "\n",
    "if len(df.columns) < 100:\n",
    "    # Only display if the df is small enough to not stall the IDE (thousands of columns really slows things down)\n",
    "    df.head()"
   ],
   "id": "bc2e9110cdce6c34",
   "outputs": [],
   "execution_count": null
  },
  {
   "metadata": {},
   "cell_type": "code",
   "source": [
    "\"\"\"\n",
    "Change the dataframe headers to a more human-readable format\n",
    "\"\"\"\n",
    "\n",
    "from utils.header_cleaner import clean_up_headers\n",
    "cleaned_df = clean_up_headers(df)\n",
    "cleaned_df\n",
    "\n"
   ],
   "id": "a92642772ff7e0e4",
   "outputs": [],
   "execution_count": null
  },
  {
   "metadata": {},
   "cell_type": "code",
   "source": [
    "\"\"\"\n",
    "TODO: Extend this script to do some plotting (maybe copy-and-paste this code into separate file first)\n",
    "\"\"\"\n",
    "\n",
    "import difflib\n",
    "target_word = 'kepler joules'\n",
    "closest_matches = difflib.get_close_matches(target_word, cleaned_df.columns, cutoff=0.05)\n",
    "print(closest_matches)\n",
    "cleaned_df[closest_matches].plot()"
   ],
   "id": "df3ca89f0479eaa1",
   "outputs": [],
   "execution_count": null
  },
  {
   "cell_type": "code",
   "source": [],
   "metadata": {
    "collapsed": false
   },
   "id": "8ddf73b28dcb6214",
   "outputs": [],
   "execution_count": null
  }
 ],
 "metadata": {
  "kernelspec": {
   "display_name": "Python 3",
   "language": "python",
   "name": "python3"
  },
  "language_info": {
   "codemirror_mode": {
    "name": "ipython",
    "version": 2
   },
   "file_extension": ".py",
   "mimetype": "text/x-python",
   "name": "python",
   "nbconvert_exporter": "python",
   "pygments_lexer": "ipython2",
   "version": "2.7.6"
  }
 },
 "nbformat": 4,
 "nbformat_minor": 5
}
